{
 "cells": [
  {
   "cell_type": "code",
   "execution_count": null,
   "id": "8606b5c3",
   "metadata": {},
   "outputs": [],
   "source": [
    "#list\n",
    "list1=[100,200,300,400,500]     #reverse list           \n",
    "list1.reverse()\n",
    "print(list1)"
   ]
  },
  {
   "cell_type": "code",
   "execution_count": null,
   "id": "7dda4264",
   "metadata": {},
   "outputs": [],
   "source": [
    "list1=[\"a\",\"b\",\"c\"]\n",
    "list1.reverse()\n",
    "print(list1)\n"
   ]
  },
  {
   "cell_type": "code",
   "execution_count": null,
   "id": "ed091c1c",
   "metadata": {},
   "outputs": [],
   "source": [
    "list1=[100,200,300,400,500]    #reverse list\n",
    "list1[::-1]\n",
    "print(list1)"
   ]
  },
  {
   "cell_type": "code",
   "execution_count": null,
   "id": "988488f9",
   "metadata": {},
   "outputs": [],
   "source": [
    "list2=[\"A\",\"B\",\"C\",\"d\"]\n",
    "print((list2[::-1]))\n",
    "\n",
    "#or\n",
    "\n",
    "i=list2[::-1]\n",
    "print(i)"
   ]
  },
  {
   "cell_type": "code",
   "execution_count": null,
   "id": "1ccac537",
   "metadata": {},
   "outputs": [],
   "source": [
    "list1=[\"M\",\"na\",\"i\",\"s\"]      #concatenate two list index-wise\n",
    "list2=[\"y\",\"me\",\"s\",\"am\"]\n",
    "list3=[i+j for i,j in zip(list1,list2)]\n",
    "print(list3)"
   ]
  },
  {
   "cell_type": "code",
   "execution_count": null,
   "id": "6cd2547a",
   "metadata": {},
   "outputs": [],
   "source": [
    "list1=[2,3,4,6,5]\n",
    "list2=[4,5,6,7,8]\n",
    "list3=list1+list2\n",
    "print(list3)"
   ]
  },
  {
   "cell_type": "code",
   "execution_count": null,
   "id": "712f2f28",
   "metadata": {},
   "outputs": [],
   "source": [
    "list1=[\"i \",\"san\"]\n",
    "list2=[\"'am'\",\"tosh\"]\n",
    "list3=[i+j for i,j in zip(list1,list2)]\n",
    "print(list3)"
   ]
  },
  {
   "cell_type": "code",
   "execution_count": null,
   "id": "91feb6b5",
   "metadata": {},
   "outputs": [],
   "source": [
    "numbers=[1,2,3,4,5,6,7]        #square of every element\n",
    "res=[x*x for x in numbers]\n",
    "print(res)"
   ]
  },
  {
   "cell_type": "code",
   "execution_count": null,
   "id": "d467fd5c",
   "metadata": {},
   "outputs": [],
   "source": [
    "x=[1,2,3,98,88,55,55]\n",
    "x.reverse()\n",
    "print(x)\n",
    "square=[i*i for i in x]\n",
    "print(square)"
   ]
  },
  {
   "cell_type": "code",
   "execution_count": null,
   "id": "784a9186",
   "metadata": {},
   "outputs": [],
   "source": [
    "list1=[\"hello\",\"take\"]      #concatenate list\n",
    "list2=[\"dear\",\"sir\"]\n",
    "res=[x+y for x in list1  for y in list2]\n",
    "print(res)"
   ]
  },
  {
   "cell_type": "code",
   "execution_count": null,
   "id": "fa8fcb74",
   "metadata": {},
   "outputs": [],
   "source": [
    "list1=[\"i am\",\" hello\"]\n",
    "list2=[\" belge\",\" santosh\"]\n",
    "res=[x+y for x in list1 for y in list2]\n",
    "print(res)\n",
    "#i=[x+y for (x,y) in (list1,list2)]   # its a another veriation only for try\n",
    "#print(i)"
   ]
  },
  {
   "cell_type": "code",
   "execution_count": null,
   "id": "8a8949b4",
   "metadata": {},
   "outputs": [],
   "source": [
    "#iterate both lists simultaneously \n",
    "list1=[10,20,30,40,50]\n",
    "list2=[100,200,300,400,500]\n",
    "\n",
    "\n",
    "for x,y in zip(list1,list2[::-1]):\n",
    "    print(x,y)"
   ]
  },
  {
   "cell_type": "code",
   "execution_count": null,
   "id": "e42573c0",
   "metadata": {},
   "outputs": [],
   "source": [
    "list1=[1,2,3,4,5,6,7,8,9]\n",
    "list2=[11,22,33,44,55,66,77,88,99]\n",
    "#list2.reverse()    #anothr method\n",
    "#for x,y in zip(list1,list2):\n",
    "for x,y in zip(list1,list2[::-1]) :\n",
    "    \n",
    "    print(x,y)\n"
   ]
  },
  {
   "cell_type": "code",
   "execution_count": null,
   "id": "87d4b21a",
   "metadata": {},
   "outputs": [],
   "source": [
    "#remove empty string from the list\n",
    "list1=[\"mike\",\"\",\"emaa\",\"kelly\",\"\",\"brad\"]\n",
    "x=list(filter(None,list1))\n",
    "print(x)"
   ]
  },
  {
   "cell_type": "code",
   "execution_count": null,
   "id": "1505c1ce",
   "metadata": {},
   "outputs": [],
   "source": [
    "list1=[\"\",\"\",1,2,3,\"sam\"]\n",
    "(x)=list(filter(None,list1))\n",
    "print(x)"
   ]
  },
  {
   "cell_type": "code",
   "execution_count": null,
   "id": "7bfc1be2",
   "metadata": {},
   "outputs": [],
   "source": [
    "list1=[10,20,[300,400,[5000,6000],500],30,40]\n",
    "list1[2][2].append(7000)\n",
    "print(list1)"
   ]
  },
  {
   "cell_type": "code",
   "execution_count": null,
   "id": "5825f8b0",
   "metadata": {},
   "outputs": [],
   "source": [
    "list1=[1,2,3,[30,40,50,[300,400]]]\n",
    "list1[3][3].append(500)\n",
    "print(list1)\n",
    "print(list1[3][3][2])\n"
   ]
  },
  {
   "cell_type": "code",
   "execution_count": null,
   "id": "175d8ddf",
   "metadata": {},
   "outputs": [],
   "source": [
    "list1=[10,20,[300,400,[5000,6000],500],30,40]\n",
    "\n",
    "list1[0]"
   ]
  },
  {
   "cell_type": "code",
   "execution_count": null,
   "id": "2163d12e",
   "metadata": {},
   "outputs": [],
   "source": [
    "list1[1]"
   ]
  },
  {
   "cell_type": "code",
   "execution_count": null,
   "id": "b84757ba",
   "metadata": {},
   "outputs": [],
   "source": [
    "list1[2]\n"
   ]
  },
  {
   "cell_type": "code",
   "execution_count": null,
   "id": "058e2492",
   "metadata": {},
   "outputs": [],
   "source": [
    "list1[4]"
   ]
  },
  {
   "cell_type": "code",
   "execution_count": null,
   "id": "8ba13154",
   "metadata": {},
   "outputs": [],
   "source": [
    "list1[2][2]"
   ]
  },
  {
   "cell_type": "code",
   "execution_count": null,
   "id": "b756ff05",
   "metadata": {},
   "outputs": [],
   "source": [
    "list1[2][2][1]"
   ]
  },
  {
   "cell_type": "code",
   "execution_count": null,
   "id": "d014ad74",
   "metadata": {},
   "outputs": [],
   "source": [
    "#extend nested list by adding the sublist\n",
    "list1=[\"a\",\"b\",[\"c\",[\"d\",\"e\",[\"f\",\"g\"],\"k\"],\"l\"],\"m\",\"n\"]\n",
    "sub_list=[\"h\",\"i\",\"j\"]\n",
    "list1[2][1][2].extend(sub_list)\n",
    "print(list1)\n"
   ]
  },
  {
   "cell_type": "code",
   "execution_count": null,
   "id": "830ef2f2",
   "metadata": {},
   "outputs": [],
   "source": [
    "list1[2][1][2][2]"
   ]
  },
  {
   "cell_type": "code",
   "execution_count": null,
   "id": "ffa99811",
   "metadata": {},
   "outputs": [],
   "source": [
    "#replace lists item with new value if found\n",
    "list1=[5,10,15,20,25,30,25,35,50,25,25]\n",
    "index=list1.index(25)\n",
    "list1[index]=200\n",
    "print(list1)"
   ]
  },
  {
   "cell_type": "code",
   "execution_count": null,
   "id": "fd827d68",
   "metadata": {},
   "outputs": [],
   "source": [
    "list1 = [5, 10, 15, 20, 200, 30, 25, 35, 50, 25, 25]\n",
    "index=list1.index(20)\n",
    "print(index)\n",
    "print(list1.index(20))\n"
   ]
  },
  {
   "cell_type": "code",
   "execution_count": null,
   "id": "3ab3e7aa",
   "metadata": {},
   "outputs": [],
   "source": [
    "#remove all occurences of a specific item from a list\n",
    "list1=[5,10,15,20,32,35,40,55,65,75,25,20]\n",
    "while 20 in list1:\n",
    "    list1.remove(20)\n",
    "print(list1)\n"
   ]
  },
  {
   "cell_type": "code",
   "execution_count": null,
   "id": "aa5a1501",
   "metadata": {},
   "outputs": [],
   "source": [
    "list1=[5,10,15,20,32,35,40,55,65,75,25,20,10,5,15,20,32,35,40,55,65]   #set is not allowed duplicates\n",
    "list2 = set(list1)\n",
    "print(list(list2))"
   ]
  },
  {
   "cell_type": "code",
   "execution_count": null,
   "id": "ec23621c",
   "metadata": {},
   "outputs": [],
   "source": [
    "list1.remove(75)\n",
    "print(list1)"
   ]
  },
  {
   "cell_type": "code",
   "execution_count": null,
   "id": "de17b4eb",
   "metadata": {},
   "outputs": [],
   "source": [
    "#creating a python list\n",
    "#using list() constructor   -\n",
    "# using squre bracket[]  -\n"
   ]
  },
  {
   "cell_type": "code",
   "execution_count": null,
   "id": "72908d9c",
   "metadata": {},
   "outputs": [],
   "source": [
    "#using list() constructor\n",
    "list1=list((1,2,3))\n",
    "print(list1)\n",
    "list2=list((2,235,1235))\n",
    "print(list2)"
   ]
  },
  {
   "cell_type": "code",
   "execution_count": null,
   "id": "87b3b2cd",
   "metadata": {},
   "outputs": [],
   "source": [
    "#using squre bracket[]\n",
    "list1=[1,2,3,4]\n",
    "print(list1)\n"
   ]
  },
  {
   "cell_type": "code",
   "execution_count": null,
   "id": "d177e7f8",
   "metadata": {},
   "outputs": [],
   "source": [
    "#length of list\n",
    "list1=[1,2,3,4]\n",
    "len(list1)\n"
   ]
  },
  {
   "cell_type": "code",
   "execution_count": null,
   "id": "1296591f",
   "metadata": {},
   "outputs": [],
   "source": [
    "#accessing items of list\n",
    "#1 using indexing,\n",
    "#2 using slicing\n"
   ]
  },
  {
   "cell_type": "code",
   "execution_count": null,
   "id": "7aeef6b9",
   "metadata": {},
   "outputs": [],
   "source": [
    "#using indexing\n",
    "#1-positive indexing\n",
    "list1=[1,2,3,4,5,6,4,8,9,11]\n",
    "print(list1[3])\n"
   ]
  },
  {
   "cell_type": "code",
   "execution_count": null,
   "id": "1409c6c8",
   "metadata": {},
   "outputs": [],
   "source": [
    "#2 negative indexing\n",
    "list1=[1,2,3,4,5,6,4,8,9,11]\n",
    "print(list1[-6])"
   ]
  },
  {
   "cell_type": "code",
   "execution_count": null,
   "id": "4183107e",
   "metadata": {},
   "outputs": [],
   "source": [
    "#2 slicing index\n",
    "list1=[1,2,3,4,5,6,4,8,9,11]\n",
    "print(list1[2:5])"
   ]
  },
  {
   "cell_type": "code",
   "execution_count": null,
   "id": "4a31adf5",
   "metadata": {},
   "outputs": [],
   "source": [
    "list1=[1,2,3,4,5,6,4,8,9,11]\n",
    "print(list1[:8])"
   ]
  },
  {
   "cell_type": "code",
   "execution_count": null,
   "id": "1a6c6243",
   "metadata": {},
   "outputs": [],
   "source": [
    "#print every second element (2,3,... )\n",
    "list1=[1,2,3,4,5,6,4,8,9,11]\n",
    "print(list1[::-2])"
   ]
  },
  {
   "cell_type": "code",
   "execution_count": null,
   "id": "4aa7804b",
   "metadata": {},
   "outputs": [],
   "source": [
    "#reversing my list\n",
    "list1=[1,22,444,55,263,245,58,549,111]\n",
    "\n",
    "print(list1[::-1])\n"
   ]
  },
  {
   "cell_type": "code",
   "execution_count": null,
   "id": "692887e9",
   "metadata": {},
   "outputs": [],
   "source": [
    "#without end value\n",
    "list1= [25,32,56,9855,65,78,55,52,98,89]\n",
    "print(list1[3::])\n",
    "print(list1[3:])\n",
    "print(list1[:3])\n",
    "print(list1[::3])\n",
    "print(list1[3])\n",
    "print(list1[1:3])\n",
    "print(list1[1::3])"
   ]
  },
  {
   "cell_type": "code",
   "execution_count": null,
   "id": "82b07dab",
   "metadata": {},
   "outputs": [],
   "source": [
    "list1 =[\"a\",\"b\",\"c\",\"d\",\"e\"]\n",
    "print(list1[::3])\n"
   ]
  },
  {
   "cell_type": "code",
   "execution_count": null,
   "id": "98163aba",
   "metadata": {},
   "outputs": [],
   "source": [
    "list1 = [9,19,29,39,49,59,69,79,89,99,109]\n",
    "print(list1[3::])\n",
    "print(list1[-3::])\n",
    "print(list1[::-3])\n",
    "print(list1[8:])\n"
   ]
  },
  {
   "cell_type": "code",
   "execution_count": null,
   "id": "4f96e8e8",
   "metadata": {},
   "outputs": [],
   "source": [
    "#iterating a list\n",
    "list1=[1,2,3,\"sb\",4,5,6,4,8,9,11]\n",
    "for i in list1:\n",
    "    print(i)\n",
    "#print(list1)"
   ]
  },
  {
   "cell_type": "code",
   "execution_count": null,
   "id": "c7277c4b",
   "metadata": {},
   "outputs": [],
   "source": [
    "#iterate along with an index number\n",
    "list1=[1,2,3,\"sb\",4,5,6,4,8,9,11]\n",
    "for i in range(0,len(list1)):\n",
    "    print(list1[i])\n",
    "\n",
    "\n"
   ]
  },
  {
   "cell_type": "code",
   "execution_count": null,
   "id": "f6da74e3",
   "metadata": {},
   "outputs": [],
   "source": [
    "#adding element to the list\n",
    "#1 append\n",
    "#2 insert\n",
    "#3 extend"
   ]
  },
  {
   "cell_type": "code",
   "execution_count": null,
   "id": "27b086a3",
   "metadata": {},
   "outputs": [],
   "source": [
    "#append()\n",
    "list1=[1,2,3,4,5,\"sb\",6,4,8,9,11]\n",
    "list1.append(\"Sb\")\n",
    "print(list1)\n"
   ]
  },
  {
   "cell_type": "code",
   "execution_count": null,
   "id": "6e89195b",
   "metadata": {},
   "outputs": [],
   "source": [
    "#append the nested list at the end\n",
    "list1=[1,2,3,4,5,\"sb\",6,4,8,9,11]\n",
    "list1.append([10,15,20])\n",
    "print(list1)"
   ]
  },
  {
   "cell_type": "code",
   "execution_count": null,
   "id": "43c6109a",
   "metadata": {},
   "outputs": [],
   "source": [
    "#using insert()\n",
    "list1=[1,2,3,4,5,\"sb\",6,4,8,9,11]\n",
    "list1.insert(10,15)\n",
    "print(list1)\n"
   ]
  },
  {
   "cell_type": "code",
   "execution_count": null,
   "id": "d5efca2a",
   "metadata": {},
   "outputs": [],
   "source": [
    "#using nested list at a position 3\n",
    "list1=[1,2,3,4,5,\"sb\",6,4,8,9,11]\n",
    "list1.insert(3,[10,15,20])\n",
    "print(list1)"
   ]
  },
  {
   "cell_type": "code",
   "execution_count": null,
   "id": "7b653c5c",
   "metadata": {},
   "outputs": [],
   "source": [
    "#using extend\n",
    "list1=[1,2,3,4,5,\"sb\",6,4,8,9,11]\n",
    "list1.extend([10,15,20])\n",
    "print(list1)"
   ]
  },
  {
   "cell_type": "code",
   "execution_count": null,
   "id": "5075e326",
   "metadata": {},
   "outputs": [],
   "source": [
    "#modify the items of a list\n",
    "#indivisual item\n",
    "#range item"
   ]
  },
  {
   "cell_type": "code",
   "execution_count": null,
   "id": "30b4dcab",
   "metadata": {},
   "outputs": [],
   "source": [
    "#indivisula item\n",
    "list1=[2,4,6,8,10,12]\n",
    "list1[0]=15\n",
    "print(list1)"
   ]
  },
  {
   "cell_type": "code",
   "execution_count": null,
   "id": "6cb5de45",
   "metadata": {},
   "outputs": [],
   "source": [
    "#range item\n",
    "#1st index \n",
    "list1=[2,4,6,8,10,12,56,66]\n",
    "list1[1:5]=[12,14,16,18,20,22]\n",
    "print(list1)"
   ]
  },
  {
   "cell_type": "code",
   "execution_count": null,
   "id": "e76b0eb5",
   "metadata": {},
   "outputs": [],
   "source": [
    "#3rd index to end\n",
    "list1=[2,4,6,8,10,12,56,66]\n",
    "list1[3:]=[48,49,50,51,52]\n",
    "print(list1)\n",
    "list1[3::]=[4,5,8,7,7,7]\n",
    "print(list1)"
   ]
  },
  {
   "cell_type": "code",
   "execution_count": null,
   "id": "a2414177",
   "metadata": {},
   "outputs": [],
   "source": [
    "#modify all items\n",
    "list1=list([2,4,6,8,10,12,56,66])\n",
    "for i in range(len(list1)):\n",
    "    square=list1[i]*list1[i]\n",
    "    list1[i]=square\n",
    "print(list1)\n",
    "\"\"\"\n",
    "a=[2,3]\n",
    "b=[2,3]\n",
    "res=[x*y for x in a  for y in b] #it gives crossing\n",
    "print(res)\n",
    "\n",
    "res=[x*y for x,y in zip(a,b)]   # it multiple direct each other\n",
    "print(res)\"\"\"\n",
    "\n"
   ]
  },
  {
   "cell_type": "code",
   "execution_count": null,
   "id": "3127d8b3",
   "metadata": {},
   "outputs": [],
   "source": [
    "list1=[2,4,6,8,10,12,56,66]    #imp\n",
    "for i in range(len(list1)):\n",
    "    square=list1[i]*list1[i]\n",
    "    #print(square)\n",
    "    list1[i]=square\n",
    "print(list1)\n",
    "    \n",
    "    "
   ]
  },
  {
   "cell_type": "code",
   "execution_count": null,
   "id": "0b45862b",
   "metadata": {},
   "outputs": [],
   "source": [
    "#removing elements from a list\n",
    "#1 remove(item)\n",
    "#2 pop(index)\n",
    "#3 clear()\n",
    "#4 delete"
   ]
  },
  {
   "cell_type": "code",
   "execution_count": null,
   "id": "e198f2ed",
   "metadata": {},
   "outputs": [],
   "source": [
    "#1 remove\n",
    "list1=[2,4,6,8,10,12,56,66]\n",
    "list1.remove(10)\n",
    "list1.remove(56)\n",
    "print(list1)"
   ]
  },
  {
   "cell_type": "code",
   "execution_count": null,
   "id": "240dc8d6",
   "metadata": {},
   "outputs": [],
   "source": [
    "list1=[6,6,6,8,10,6,12]\n",
    "list1.remove(6)\n",
    "print(list1)"
   ]
  },
  {
   "cell_type": "code",
   "execution_count": null,
   "id": "7f633b61",
   "metadata": {},
   "outputs": [],
   "source": [
    "#remove using in for loop\n",
    "list1=[6,6,6,8,10,6,12]\n",
    "for item in list1:\n",
    "    list1.remove(6)\n",
    "print(list1)"
   ]
  },
  {
   "cell_type": "code",
   "execution_count": null,
   "id": "082c7baf",
   "metadata": {},
   "outputs": [],
   "source": [
    "#remove item present at given index\n",
    "list1=[6,15,16,8,10,26,12]\n",
    "list1.pop(4)\n",
    "print(list1)"
   ]
  },
  {
   "cell_type": "code",
   "execution_count": null,
   "id": "e49004b6",
   "metadata": {},
   "outputs": [],
   "source": [
    "list1=[6,15,16,8,10,26,12]\n",
    "list1.pop()\n",
    "print(list1)"
   ]
  },
  {
   "cell_type": "code",
   "execution_count": null,
   "id": "e6ba382b",
   "metadata": {},
   "outputs": [],
   "source": [
    "#remove the range item\n",
    "#in range 2 to 5\n",
    "list1=[6,15,16,8,10,26,12]\n",
    "del list1[:2]\n",
    "print(list1)"
   ]
  },
  {
   "cell_type": "code",
   "execution_count": null,
   "id": "5868ef5f",
   "metadata": {},
   "outputs": [],
   "source": [
    "#using del to remove all items starting from index 3\n",
    "list1=[6,15,16,8,10,26,12]\n",
    "del list1[3:]\n",
    "print(list1)"
   ]
  },
  {
   "cell_type": "code",
   "execution_count": null,
   "id": "300c15d8",
   "metadata": {},
   "outputs": [],
   "source": [
    "#remove all items clear\n",
    "list1=[6,15,16,8,10,26,12]\n",
    "list1.clear()\n",
    "print(list1)"
   ]
  },
  {
   "cell_type": "code",
   "execution_count": null,
   "id": "a16eb4d4",
   "metadata": {},
   "outputs": [],
   "source": [
    "#finding an elementin the list\n",
    "list1=[6,15,16,8,10,26,12]\n",
    "print(list1.index(26))"
   ]
  },
  {
   "cell_type": "code",
   "execution_count": null,
   "id": "fff8f897",
   "metadata": {},
   "outputs": [],
   "source": [
    "#concatenation of two lists\n",
    "list1=[6,15,16,8,10,26,12]\n",
    "list2=[118,155,166,118,110,126,112]\n",
    "list3=list1+list2\n",
    "print(list3)\n"
   ]
  },
  {
   "cell_type": "code",
   "execution_count": null,
   "id": "ba46bd8c",
   "metadata": {},
   "outputs": [],
   "source": [
    "#extend method \n",
    "list1=[6,15,16,8,10,26,12,26]\n",
    "list2=[118,155,166,118,110,126,112,24]\n",
    "list1.extend(list2)\n",
    "print(list1)"
   ]
  },
  {
   "cell_type": "code",
   "execution_count": null,
   "id": "bac2de33",
   "metadata": {},
   "outputs": [],
   "source": [
    "#copying a list\n",
    "# using asign(=) method\n",
    "# copy "
   ]
  },
  {
   "cell_type": "code",
   "execution_count": null,
   "id": "51a90bca",
   "metadata": {},
   "outputs": [],
   "source": [
    "#asign(=) method\n",
    "list2=[118,155,166,118,110,126,112]\n",
    "list1=list2\n",
    "print(list1)"
   ]
  },
  {
   "cell_type": "code",
   "execution_count": null,
   "id": "6341b8ee",
   "metadata": {},
   "outputs": [],
   "source": [
    "#copy\n",
    "list1=[118,155,166,118,110,126,112,116]\n",
    "list3=list1.copy()\n",
    "print(list3)"
   ]
  },
  {
   "cell_type": "code",
   "execution_count": null,
   "id": "b8cb0b3e",
   "metadata": {},
   "outputs": [],
   "source": [
    "#list operations\n",
    "#1 sort\n",
    "#2 reverse\n",
    "#3 clear"
   ]
  },
  {
   "cell_type": "code",
   "execution_count": null,
   "id": "34d11294",
   "metadata": {},
   "outputs": [],
   "source": [
    "#sort\n",
    "list1=[118,155,166,118,110,126,112]\n",
    "list1.sort()\n",
    "print(list1)\n"
   ]
  },
  {
   "cell_type": "code",
   "execution_count": null,
   "id": "b42b9903",
   "metadata": {},
   "outputs": [],
   "source": [
    "#reverse\n",
    "list1.reverse()\n",
    "print(list1)"
   ]
  },
  {
   "cell_type": "code",
   "execution_count": null,
   "id": "e2e17180",
   "metadata": {},
   "outputs": [],
   "source": [
    "#clear\n",
    "list1=[118,155,166,118,110,126,112]\n",
    "list1.clear()\n",
    "print(list1)\n"
   ]
  },
  {
   "cell_type": "code",
   "execution_count": null,
   "id": "72d0d178",
   "metadata": {},
   "outputs": [],
   "source": [
    "#using max and min\n",
    "list1=[118,155,166,118,110,126,112]\n",
    "print(max(list1))\n",
    "print(min(list1))"
   ]
  },
  {
   "cell_type": "code",
   "execution_count": null,
   "id": "a267c930",
   "metadata": {},
   "outputs": [],
   "source": [
    "#using sum\n",
    "list1=[118,155,166,118,110,126,112]\n",
    "print(sum(list1))"
   ]
  },
  {
   "cell_type": "code",
   "execution_count": null,
   "id": "498a1a8d",
   "metadata": {},
   "outputs": [],
   "source": [
    "#all\n",
    "#all trues\n",
    "list1=[1,1,True]\n",
    "print(\"all() all True values::\",all(list1))"
   ]
  },
  {
   "cell_type": "code",
   "execution_count": null,
   "id": "2f511586",
   "metadata": {},
   "outputs": [],
   "source": [
    "#one false"
   ]
  },
  {
   "cell_type": "code",
   "execution_count": null,
   "id": "a801538a",
   "metadata": {},
   "outputs": [],
   "source": [
    "list1=[0,1,True,6]\n",
    "print(\"all() with one false value::\",all(list1))"
   ]
  },
  {
   "cell_type": "code",
   "execution_count": null,
   "id": "dd7a9353",
   "metadata": {},
   "outputs": [],
   "source": [
    "#all false\n",
    "list1=[0,0,False]\n",
    "print(\"all() with all false value::\",all(list1))"
   ]
  },
  {
   "cell_type": "code",
   "execution_count": null,
   "id": "4fc01097",
   "metadata": {},
   "outputs": [],
   "source": [
    "#any\n",
    "list1=[1,1,True]\n",
    "print(\"any() true values::\",any(list1))\n",
    "list2=[0,1,True,1]\n",
    "print(\"any() one false value::\",any(list2))\n",
    "list3=[0,0,False]\n",
    "print(\"any() all false values::\",any(list3))"
   ]
  },
  {
   "cell_type": "code",
   "execution_count": null,
   "id": "dbfcc861",
   "metadata": {},
   "outputs": [],
   "source": [
    "#nested list\n",
    "list1=[[1,2,3],[2,4,6]]\n",
    "print(\"accessing the third element of the second list\",list1[1][2])\n",
    "for i in list1:\n",
    "    print(\"list\",i,\"elements\")\n",
    "    for j in i:\n",
    "        print(j)\n"
   ]
  },
  {
   "cell_type": "code",
   "execution_count": null,
   "id": "cd21c06c",
   "metadata": {},
   "outputs": [],
   "source": [
    "list1= [[8,18,28,38,48],[58,68,78,88,98]]\n",
    "for i in list1:\n",
    "    print(\"list\",i,\"elements\")\n",
    "    for j in i:\n",
    "        print(j)\n",
    "   "
   ]
  },
  {
   "cell_type": "code",
   "execution_count": null,
   "id": "a3dff733",
   "metadata": {},
   "outputs": [],
   "source": [
    "list1=[[1,2,3],[2,4,6]]  #its not correct method\n",
    "\n",
    "\n",
    "\n",
    "print(list1[0:1])\n",
    "print(list1[1:3])"
   ]
  },
  {
   "cell_type": "code",
   "execution_count": null,
   "id": "9f7a8f30",
   "metadata": {},
   "outputs": [],
   "source": [
    "#list comprehension\n",
    "#1 expression\n",
    "#2 variable\n",
    "#3 inputlist\n",
    "#4 condition1,condition2\n"
   ]
  },
  {
   "cell_type": "code",
   "execution_count": null,
   "id": "9e2b1374",
   "metadata": {},
   "outputs": [],
   "source": [
    "list1=[118,155,166,118,110,126,112]\n",
    "squarelist=[var**2 for var in list1 if var%2==0]\n",
    "print(squarelist)"
   ]
  },
  {
   "cell_type": "code",
   "execution_count": null,
   "id": "2cbb15dc",
   "metadata": {},
   "outputs": [],
   "source": [
    "list1=[118,155,166,118,110,126,112]\n",
    "squarelist=[var**2 for var in list1]\n",
    "print(squarelist)\n",
    "list1=squarelist\n",
    "print(list1)"
   ]
  },
  {
   "cell_type": "code",
   "execution_count": null,
   "id": "71eb8934",
   "metadata": {},
   "outputs": [],
   "source": [
    "list1=[s**2 for s in range (10)if s%2==0]\n",
    "print(list1)"
   ]
  },
  {
   "cell_type": "code",
   "execution_count": null,
   "id": "dbbfe2f4",
   "metadata": {},
   "outputs": [],
   "source": [
    "#PYTHON IN SETS\n"
   ]
  },
  {
   "cell_type": "code",
   "execution_count": null,
   "id": "233a953d",
   "metadata": {},
   "outputs": [],
   "source": [
    "#creating a set\n",
    "#1 create set from a list\n",
    "#2 creating a set with mutable elements\n",
    "#3 empty set"
   ]
  },
  {
   "cell_type": "code",
   "execution_count": null,
   "id": "08ab69d7",
   "metadata": {},
   "outputs": [],
   "source": [
    "# creating sets\n",
    "#using curly bracket{}\n",
    "set1={\"sam\",\"karan\",20,125,35,45,45}\n",
    "print(set1)"
   ]
  },
  {
   "cell_type": "code",
   "execution_count": null,
   "id": "a7a0c993",
   "metadata": {},
   "outputs": [],
   "source": [
    "#using set() constructor\n",
    "#using set() constructor\n",
    "set1=(\"sam\",\"karan\",\"kapil\",\"Sharma\",\"k\",\"k\")\n",
    "print(set(set1))"
   ]
  },
  {
   "cell_type": "code",
   "execution_count": null,
   "id": "eb1e6a3f",
   "metadata": {},
   "outputs": [],
   "source": [
    "#1 create set from list\n",
    "list1=[10,20,30,40,60,35,45,44,55]\n",
    "set1=set(list1)\n",
    "print(set1)\n",
    "\n",
    "#\n",
    "list1=list(set1)\n",
    "print(list1)"
   ]
  },
  {
   "cell_type": "code",
   "execution_count": null,
   "id": "2502f238",
   "metadata": {},
   "outputs": [],
   "source": [
    "#2 creating a set with mutable elements\n",
    "set1={'mark','jessa',[35,78,92]}\n",
    "print(set1)      #error is correct answer do not anything"
   ]
  },
  {
   "cell_type": "code",
   "execution_count": null,
   "id": "f7dbec07",
   "metadata": {},
   "outputs": [],
   "source": [
    "emptyset={}\n",
    "print(type(emptyset))"
   ]
  },
  {
   "cell_type": "code",
   "execution_count": null,
   "id": "2d908c45",
   "metadata": {},
   "outputs": [],
   "source": [
    "# Accessing items of a set\n",
    "set1={'harry potter','angels and demons','atlas shrugged'}\n",
    "for i in set1:\n",
    "    print(i)"
   ]
  },
  {
   "cell_type": "code",
   "execution_count": null,
   "id": "58578c0b",
   "metadata": {},
   "outputs": [],
   "source": [
    "set1={2,4,\"i am good\"}\n",
    "for i in set1:\n",
    "    print(i)\n"
   ]
  },
  {
   "cell_type": "code",
   "execution_count": null,
   "id": "157d4458",
   "metadata": {},
   "outputs": [],
   "source": [
    "#checking if an item exists in set\n",
    "set1={'harry potter','angels and demons','atlas shrugged'}\n",
    "if 'harry potter' in set1:\n",
    "    print(\"book exits in the set1\")\n",
    "else:\n",
    "    print(\"book does not exist in the set1\")\n",
    "print(\"a man called ove\" in set1)"
   ]
  },
  {
   "cell_type": "code",
   "execution_count": null,
   "id": "b04ed252",
   "metadata": {},
   "outputs": [],
   "source": [
    "# find the length of a set\n",
    "set1={'harry potter','angels and demons','atlas shrugged'}\n",
    "print(len(set1))"
   ]
  },
  {
   "cell_type": "code",
   "execution_count": null,
   "id": "85169668",
   "metadata": {},
   "outputs": [],
   "source": [
    "#adding items in set\n",
    "#add\n",
    "set1={'harry potter','angels and demons','atlas shrugged'}\n",
    "set1.add('the god of small things')\n",
    "print(set1)"
   ]
  },
  {
   "cell_type": "code",
   "execution_count": null,
   "id": "335b3b1d",
   "metadata": {},
   "outputs": [],
   "source": [
    "#update\n",
    "#add more than one\n",
    "set1={'harry potter','angels and demons','atlas shrugged'}\n",
    "set1.update(['the god of small things','ramayanam'])  \n",
    "print(set1)"
   ]
  },
  {
   "cell_type": "code",
   "execution_count": null,
   "id": "cfab9b3b",
   "metadata": {},
   "outputs": [],
   "source": [
    "#removing items from a set\n",
    "#1 remove()\n",
    "#2 discard()\n",
    "#3 pop()\n",
    "#4 clear()\n",
    "#5 del set\n"
   ]
  },
  {
   "cell_type": "code",
   "execution_count": null,
   "id": "b4f73955",
   "metadata": {},
   "outputs": [],
   "source": [
    "s = {5,10,15,20,25,30,35,40,45,50,55,60,65,70,75,80,85}\n",
    "s.discard(60)\n",
    "print(s)\n",
    "sa = s.pop()\n",
    "print(s)"
   ]
  },
  {
   "cell_type": "code",
   "execution_count": null,
   "id": "25fb247e",
   "metadata": {},
   "outputs": [],
   "source": [
    "set1={'harry potter','angels and demons','blue','atlas shrugged','yellow','red','white','yellow','blue'}\n",
    "set1.remove('yellow')\n",
    "print(set1)\n",
    "\n",
    "set1.discard('blue')\n",
    "print(set1)\n",
    "deleted_item=set1.pop()\n",
    "print(deleted_item)\n",
    "del set1\n"
   ]
  },
  {
   "cell_type": "code",
   "execution_count": null,
   "id": "f24c1ca2",
   "metadata": {},
   "outputs": [],
   "source": [
    "set1={'harry potter','angels and demons','atlas shrugged'}\n"
   ]
  },
  {
   "cell_type": "code",
   "execution_count": null,
   "id": "519c5d6c",
   "metadata": {},
   "outputs": [],
   "source": [
    "#set oprations\n",
    "#1 union\n",
    "#2 intersection\n",
    "#3 diiference\n",
    "#4 symmetric difference\n"
   ]
  },
  {
   "cell_type": "code",
   "execution_count": null,
   "id": "c119ad01",
   "metadata": {},
   "outputs": [],
   "source": [
    "#union\n",
    "set1={'red','yellow','blue','white','black'}\n",
    "set2={'indigo','orange','red'}\n",
    "union=set1.union(set2)\n",
    "print(union)"
   ]
  },
  {
   "cell_type": "code",
   "execution_count": null,
   "id": "18611715",
   "metadata": {},
   "outputs": [],
   "source": [
    "#intersection of sets\n",
    "set1={'red','yellow','blue','white','black'}\n",
    "set2={'indigo','orange','red'}\n",
    "set3=set1.intersection(set2)\n",
    "print(set3)\n"
   ]
  },
  {
   "cell_type": "code",
   "execution_count": null,
   "id": "e678a083",
   "metadata": {},
   "outputs": [],
   "source": [
    "#intersection update\n",
    "set1={'red','yellow','blue','white','black'}\n",
    "set2={'indigo','orange','red'}\n",
    "set1.intersection_update(set2)\n",
    "print(set1)"
   ]
  },
  {
   "cell_type": "code",
   "execution_count": null,
   "id": "e9ca5911",
   "metadata": {},
   "outputs": [],
   "source": [
    "#differnce of sets\n",
    "set1={'red','yellow','blue','white','black'}\n",
    "set2={'indigo','orange','red','black','white'}\n",
    "print(set1.difference(set2))\n"
   ]
  },
  {
   "cell_type": "code",
   "execution_count": null,
   "id": "441ad415",
   "metadata": {},
   "outputs": [],
   "source": [
    "#difference update\n",
    "set1={'red','yellow','blue','white','black'}\n",
    "set2={'indigo','orange','red','black','white'}\n",
    "set1.difference_update(set2)\n",
    "print(set1)"
   ]
  },
  {
   "cell_type": "code",
   "execution_count": null,
   "id": "72c785c1",
   "metadata": {},
   "outputs": [],
   "source": [
    "#symmetric difference of sets\n",
    "set1={'red','yellow','blue','white','black'}\n",
    "set2={'indigo','orange','red','balck','white'}\n",
    "set3=set1.symmetric_difference(set2)\n",
    "print(set3)"
   ]
  },
  {
   "cell_type": "code",
   "execution_count": null,
   "id": "67613507",
   "metadata": {},
   "outputs": [],
   "source": [
    "#symmetric difference update\n",
    "set1={'red','yellow','blue','white','black'}\n",
    "set2={'indigo','orange','red','balck','white'}\n",
    "set1.symmetric_difference_update(set2)\n",
    "print(set1)"
   ]
  },
  {
   "cell_type": "code",
   "execution_count": null,
   "id": "e0ef2c4a",
   "metadata": {},
   "outputs": [],
   "source": [
    "#copying a set\n",
    "#1 copy\n",
    "#2 set()\n"
   ]
  },
  {
   "cell_type": "code",
   "execution_count": null,
   "id": "e93dbf4a",
   "metadata": {},
   "outputs": [],
   "source": [
    "#copy\n",
    "set2={'indigo','orange','red','balck','white'}\n",
    "set1=set2.copy()\n",
    "print(set1)\n",
    "\n",
    "\n",
    "# using =\n",
    "set2=set1\n",
    "print(set1)"
   ]
  },
  {
   "cell_type": "code",
   "execution_count": null,
   "id": "188aaccd",
   "metadata": {},
   "outputs": [],
   "source": [
    "#set\n",
    "set2={'indigo','orange','red','balck','white'}\n",
    "set1=set(set2)\n",
    "print(set1)"
   ]
  },
  {
   "cell_type": "code",
   "execution_count": null,
   "id": "a56df48b",
   "metadata": {},
   "outputs": [],
   "source": [
    "#issubset\n",
    "#issuperset\n",
    "set1={'red','yellow','blue','white','black'}\n",
    "set2={'red','white'}\n",
    "print(set2.issubset(set1))\n",
    "print(set1.issubset(set2))\n",
    "print(set2.issuperset(set1))\n",
    "print(set1.issuperset(set2))"
   ]
  },
  {
   "cell_type": "code",
   "execution_count": null,
   "id": "8766bf6e",
   "metadata": {},
   "outputs": [],
   "source": [
    "#find whether two sets are disjoint\n",
    "color_set1 = {'violet', 'blue', 'yellow', 'red'}\n",
    "color_set2 = {'orange', 'red'}\n",
    "color_set3 = {'green', 'orange'}\n",
    "print(color_set2.isdisjoint(color_set1))\n",
    "print(color_set3.isdisjoint(color_set1))\n"
   ]
  },
  {
   "cell_type": "code",
   "execution_count": null,
   "id": "f9da9bd8",
   "metadata": {},
   "outputs": [],
   "source": [
    "#sort the set\n",
    "set1 = {20, 4, 6, 10, 8, 15}\n",
    "sorted_list=sorted(set1)\n",
    "sorted_set=set(sorted_list)\n",
    "print(sorted_set)"
   ]
  },
  {
   "cell_type": "code",
   "execution_count": null,
   "id": "23dfc799",
   "metadata": {},
   "outputs": [],
   "source": [
    "#all() and any()\n",
    "set1 = {1, 2, 3, 4}\n",
    "set2 = {0, 2, 4, 6, 8}  \n",
    "set3={True,True}\n",
    "set4={True,False}\n",
    "set5={False,0}\n",
    "print('all() with all true values:',all(set1))\n",
    "print('any() with all true values:',any(set1))\n",
    "print('all() with one zero:', all(set2))  # False\n",
    "print('any() with one Zero:', any(set2))  # True\n",
    "print('all() with all True values:', all(set3))  # True\n",
    "print('any() with all True values:', any(set3))  # True\n",
    "print('all() with one False value:', all(set4))  # False\n",
    "print('any() with one False:', any(set4))  # True\n",
    "print('all() with all False values:', all(set5))  # False\n",
    "print('any() with all False values:', any(set5))  # False\n"
   ]
  },
  {
   "cell_type": "code",
   "execution_count": null,
   "id": "5f7b409c",
   "metadata": {},
   "outputs": [],
   "source": [
    "#max and min\n",
    "set1={2,4,6,10,8,15}\n",
    "set2={'ABC','abc','abcd','ABCD'}\n",
    "print(max(set1))\n",
    "print(max(set2))\n",
    "print(min(set1))\n",
    "print(min(set2))"
   ]
  },
  {
   "cell_type": "code",
   "execution_count": null,
   "id": "bf9311d9",
   "metadata": {},
   "outputs": [],
   "source": [
    "#frozen set\n",
    "rainbow = ('violet', 'indigo', 'blue', 'green', 'yellow', 'orange', 'red')\n",
    "set1=frozenset(rainbow)\n",
    "print(set1)"
   ]
  },
  {
   "cell_type": "code",
   "execution_count": null,
   "id": "e25a8c80",
   "metadata": {},
   "outputs": [],
   "source": [
    "#frozen set is immutable\n",
    "rainbow = ('violet', 'indigo', 'blue', 'green', 'yellow', 'orange', 'red')\n",
    "set1=frozenset(rainbow)\n",
    "set1.add(set1)\n",
    "print(set1)   #frozen set cannot change "
   ]
  },
  {
   "cell_type": "code",
   "execution_count": null,
   "id": "c7858fbc",
   "metadata": {},
   "outputs": [],
   "source": [
    "set1 = frozenset(('violet', 'indigo', 'blue', 'green'))\n",
    "set2 = frozenset(('blue', 'green', 'red'))\n",
    "print('the colors of the rainbow are:',set1.union(set2))\n",
    "print('The common colors are:',set1.intersection(set2))\n",
    "print('The unique colors in first set are:',set1.difference(set2))\n",
    "print('The unique colors in second set are:',set2.difference(set1))\n",
    "print('The unique colors second set are:',set1.symmetric_difference(set2))\n",
    "\n"
   ]
  },
  {
   "cell_type": "code",
   "execution_count": null,
   "id": "ca92d82a",
   "metadata": {},
   "outputs": [],
   "source": [
    "#nested sets\n",
    "set1 = ('violet', 'indigo', 'blue', 'green', 'yellow', 'orange', 'red')\n",
    "set2 = ('white', 'black', 'pink')\n",
    "nested_set=set((frozenset(set1),frozenset(set2)))\n",
    "for sample_set in nested_set:\n",
    "    print(sample_set)\n"
   ]
  },
  {
   "cell_type": "code",
   "execution_count": null,
   "id": "d08ca46f",
   "metadata": {},
   "outputs": [],
   "source": [
    "#set comprehension\n",
    "square_set = {var ** 2 for var in range(1, 10) if var % 2 == 0}\n",
    "print(square_set)"
   ]
  },
  {
   "cell_type": "code",
   "execution_count": null,
   "id": "aeaf6e45",
   "metadata": {},
   "outputs": [],
   "source": [
    "#python in tuple\n",
    "##tuples\n",
    "#number tuple\n",
    "tuple1=(10,20,25.75)\n",
    "print(tuple1)"
   ]
  },
  {
   "cell_type": "code",
   "execution_count": null,
   "id": "d96cdf89",
   "metadata": {},
   "outputs": [],
   "source": [
    "#string tuple\n",
    "tuple1=('jessa','emma','kelly')\n",
    "print(tuple1)"
   ]
  },
  {
   "cell_type": "code",
   "execution_count": null,
   "id": "da32e5b8",
   "metadata": {},
   "outputs": [],
   "source": [
    "#mixed tuple\n",
    "tuple1=('jessy',22,44,66,[55,0.5])\n",
    "print(tuple1)"
   ]
  },
  {
   "cell_type": "code",
   "execution_count": null,
   "id": "c79cd52b",
   "metadata": {},
   "outputs": [],
   "source": [
    "tuple1=tuple(('jessa',30,45.41,[20,30]))\n",
    "print(tuple1)\n",
    "tuple1 = ('jessa',30,45.41,[20,30])\n",
    "print(tuple1)"
   ]
  },
  {
   "cell_type": "code",
   "execution_count": null,
   "id": "3f02a6ed",
   "metadata": {},
   "outputs": [],
   "source": [
    "#create tuple with single item\n",
    "single_tuple=('hello')\n",
    "print(type(single_tuple))\n",
    "print(single_tuple)"
   ]
  },
  {
   "cell_type": "code",
   "execution_count": null,
   "id": "e970f1de",
   "metadata": {},
   "outputs": [],
   "source": [
    "#with comma\n",
    "single_tuple1=('hello')\n",
    "print(type(single_tuple1))\n",
    "print(single_tuple1)"
   ]
  },
  {
   "cell_type": "code",
   "execution_count": null,
   "id": "5f66db9e",
   "metadata": {},
   "outputs": [],
   "source": [
    "#packing  and unpacking"
   ]
  },
  {
   "cell_type": "code",
   "execution_count": null,
   "id": "af83cae0",
   "metadata": {},
   "outputs": [],
   "source": [
    "#packing\n",
    "tuple1=1,2,'hello'\n",
    "print(tuple1)"
   ]
  },
  {
   "cell_type": "code",
   "execution_count": null,
   "id": "1ac27442",
   "metadata": {},
   "outputs": [],
   "source": [
    "#unpacking\n",
    "tuple1 = (1, 2, 'hello')\n",
    "i,j,k=tuple1\n",
    "print(i,j,k)\n"
   ]
  },
  {
   "cell_type": "code",
   "execution_count": null,
   "id": "7c998f72",
   "metadata": {},
   "outputs": [],
   "source": [
    "#length of tuple\n",
    "tuple1=('p','y','t','h','o')\n",
    "print(len(tuple1))"
   ]
  },
  {
   "cell_type": "code",
   "execution_count": null,
   "id": "1f68d2aa",
   "metadata": {},
   "outputs": [],
   "source": [
    "#iterating a tuple\n",
    "tuple1=tuple((1,2,3,'hello',[4,8,16]))\n",
    "for i in tuple1:\n",
    "    print(i)"
   ]
  },
  {
   "cell_type": "code",
   "execution_count": null,
   "id": "2ea5284b",
   "metadata": {},
   "outputs": [],
   "source": [
    "# accessing items in tuple\n",
    "tuple1 = ('P', 'Y', 'T', 'H', 'O', 'N')\n",
    "for i in range(4):\n",
    "    print(tuple1[i])"
   ]
  },
  {
   "cell_type": "code",
   "execution_count": null,
   "id": "f7570dae",
   "metadata": {},
   "outputs": [],
   "source": [
    "#negative slicing/indexing\n",
    "tuple1 = ('P', 'Y', 'T', 'H', 'O', 'N')\n",
    "print(tuple1[-1])\n",
    "print(tuple1[-2])\n"
   ]
  },
  {
   "cell_type": "code",
   "execution_count": null,
   "id": "3dd44ef2",
   "metadata": {},
   "outputs": [],
   "source": [
    "tuple1 = ('P', 'Y', 'T', 'H', 'O', 'N')\n",
    "for i in range(-6,0):\n",
    "    print(tuple1[i],end=', ')"
   ]
  },
  {
   "cell_type": "code",
   "execution_count": null,
   "id": "a6326d56",
   "metadata": {},
   "outputs": [],
   "source": [
    "tuple1=(0, 1, 2, 3, 4, 5, 6, 7, 8, 9, 10)\n",
    "print(tuple1[1:5])\n",
    "print(tuple1[:5])\n",
    "print(tuple1[6:])"
   ]
  },
  {
   "cell_type": "code",
   "execution_count": null,
   "id": "62c681dd",
   "metadata": {},
   "outputs": [],
   "source": [
    "# finding an item in a tuple\n",
    "tuple1=(10,20,30,40,50)\n",
    "position=tuple1.index(30)\n",
    "print(position)"
   ]
  },
  {
   "cell_type": "code",
   "execution_count": null,
   "id": "0bc3e08c",
   "metadata": {},
   "outputs": [],
   "source": [
    "# find with in a range\n",
    "tuple1 = (10, 20, 30, 40, 50, 60, 70, 80)\n",
    "position=tuple1.index(60,2,6)\n",
    "print(position)"
   ]
  },
  {
   "cell_type": "code",
   "execution_count": null,
   "id": "aa928dcd",
   "metadata": {},
   "outputs": [],
   "source": [
    "tuple1 = (10, 20, 30, 40, 50, 60, 70, 80)\n",
    "position=tuple1.index(10)\n",
    "print(position)    # 0 gives   0,1,...."
   ]
  },
  {
   "cell_type": "code",
   "execution_count": null,
   "id": "41021d27",
   "metadata": {},
   "outputs": [],
   "source": [
    "#checking if an item exists    --->it gives true or false\n",
    "tuple1=(10,20,30,40,50,60,70,80)\n",
    "print(50 in tuple1)\n",
    "print(500 in tuple1)"
   ]
  },
  {
   "cell_type": "code",
   "execution_count": null,
   "id": "16c87e19",
   "metadata": {},
   "outputs": [],
   "source": [
    "#adding and changing items in a tuple\n",
    "tuple1=(0,2,3,4,5,6,7,8)\n",
    "sample_list=list(tuple1)\n",
    "sample_list.append(60)\n",
    "tuple1=tuple(sample_list)\n",
    "print(tuple1)\n"
   ]
  },
  {
   "cell_type": "code",
   "execution_count": null,
   "id": "122ec98d",
   "metadata": {},
   "outputs": [],
   "source": [
    "#modify nested items of a tuple\n",
    "tuple1 = (10, 20, [25, 75, 85])\n",
    "print(tuple1)\n",
    "tuple1[2][0]=250\n",
    "print(tuple1)"
   ]
  },
  {
   "cell_type": "code",
   "execution_count": null,
   "id": "b7952173",
   "metadata": {},
   "outputs": [],
   "source": [
    "tuple1 = (0, 1, 2, 3, 4, 5)\n",
    "sample_list=list(tuple1)\n",
    "sample_list[1]=10\n",
    "tuple1=tuple(sample_list)\n",
    "print(tuple1)\n"
   ]
  },
  {
   "cell_type": "code",
   "execution_count": null,
   "id": "5d6fceb3",
   "metadata": {},
   "outputs": [],
   "source": [
    "#removing items from a tuple\n",
    "#using keyword del ---->it shows error sampletup1 is not defined\n",
    "#by converting it into a list\n",
    "sampletup1 =(0,1,2,3,4,5,6,7,8,9,10)\n",
    "print(sampletup1)\n",
    "\n",
    "del sampletup1  #  whole items are deleted thats why it can not show\n"
   ]
  },
  {
   "cell_type": "code",
   "execution_count": null,
   "id": "44d5433f",
   "metadata": {},
   "outputs": [],
   "source": [
    "#by converting into a list\n",
    "tuple1 = (0, 1, 2, 3, 4, 5)\n",
    "sample_list=list(tuple1)\n",
    "sample_list.remove(2)\n",
    "tuple1=tuple(sample_list)\n",
    "print(tuple1)"
   ]
  },
  {
   "cell_type": "code",
   "execution_count": null,
   "id": "a733926a",
   "metadata": {},
   "outputs": [],
   "source": [
    "#count the occurrence of an item in a tuple\n",
    "tuple1 = (10, 20, 60, 30, 60, 40, 60)\n",
    "count=tuple1.count(60)\n",
    "print(count)\n",
    "count=tuple1.count(600)\n",
    "print(count)"
   ]
  },
  {
   "cell_type": "code",
   "execution_count": null,
   "id": "8316644f",
   "metadata": {},
   "outputs": [],
   "source": [
    "#copying a tuple\n",
    "tuple1=(1,2,3,4,5,6,7,9)\n",
    "#copy tuple\n",
    "tuple2=tuple1\n",
    "print(tuple2)\n",
    "\n",
    "#changing it into a list\n",
    "sample_list=list(tuple2)\n",
    "sample_list.append(55)\n",
    "tuple2=tuple(sample_list)\n",
    "print(tuple1)\n",
    "print(tuple2)"
   ]
  },
  {
   "cell_type": "code",
   "execution_count": null,
   "id": "ef64094e",
   "metadata": {},
   "outputs": [],
   "source": [
    "#concatenaing two tuples\n",
    "tuple1=(1,2,3,4,56,78,22)\n",
    "tuple2=(3,4,5,55,56,78,22)\n",
    "tuple3=tuple1+tuple2\n",
    "print(tuple3)"
   ]
  },
  {
   "cell_type": "code",
   "execution_count": null,
   "id": "ca2d425b",
   "metadata": {},
   "outputs": [],
   "source": [
    "#using the sum function\n",
    "tuple1=(1,2,3,4,5)\n",
    "tuple2=(3,4,5,6,7)\n",
    "tuple3=sum((tuple1,tuple2),())\n",
    "print(tuple3)"
   ]
  },
  {
   "cell_type": "code",
   "execution_count": null,
   "id": "eec1af94",
   "metadata": {},
   "outputs": [],
   "source": [
    "#Using the chain() function\n",
    "import itertools\n",
    "tuple1=(1,2,3,4,5,6,7)\n",
    "tuple2=(5,6,7,8,9,10,11,3)\n",
    "tuple3=tuple(item for item in itertools.chain(tuple1,tuple2))\n",
    "print(tuple3)"
   ]
  },
  {
   "cell_type": "code",
   "execution_count": null,
   "id": "e30ea0be",
   "metadata": {},
   "outputs": [],
   "source": [
    "tuple1=(1,2,3,4,5,6,7)\n",
    "tuple2=(5,6,7,8,9,10,11,3)\n",
    "tuple4=tuple1+tuple2\n",
    "print(tuple4)"
   ]
  },
  {
   "cell_type": "code",
   "execution_count": null,
   "id": "d1f1eade",
   "metadata": {},
   "outputs": [],
   "source": [
    "#nested tuples\n",
    "nested_tuple=((20,40,60),(80,100,120),\"python\")\n",
    "print(nested_tuple[2][0])"
   ]
  },
  {
   "cell_type": "code",
   "execution_count": null,
   "id": "c8d2eb1c",
   "metadata": {},
   "outputs": [],
   "source": [
    "#minimum and maximum\n",
    "tuple1 = ('xyz', 'zara', 'abc')\n",
    "# The Maximum value in a string tuple\n",
    "print(max(tuple1))  \n",
    "# Output zara\n",
    "\n",
    "# The minimum value in a string tuple\n",
    "print(min(tuple1))\n",
    "# Output abc\n",
    "\n",
    "tuple2 = (11, 22, 10, 4)\n",
    "# The Maximum value in a integer tuple\n",
    "print(max(tuple2))\n",
    "# Output 22\n",
    "# The minimum value in a integer tuple\n",
    "print(min(tuple2))\n",
    "# Output 4            note-->we can't find the max and min mixed type of tuple\n",
    "                       #eg---->(1,2,\"a\")"
   ]
  },
  {
   "cell_type": "code",
   "execution_count": null,
   "id": "48c2bb3c",
   "metadata": {},
   "outputs": [],
   "source": [
    "#all \n",
    "# all() with All True values\n",
    "tuple1 = (1, 1, True)\n",
    "print(all(tuple1))  # True\n",
    "\n",
    "# all() All True values\n",
    "tuple1 = (1, 1, True)\n",
    "print(all(tuple1))  # True\n",
    "\n",
    "# all() with One false value\n",
    "tuple2 = (0, 1, True, 1)\n",
    "print(all(tuple2))  # False\n",
    "\n",
    "# all() with all false values\n",
    "tuple3 = (0, 0, False)\n",
    "print(all(tuple3))  # False\n",
    "\n",
    "# all() Empty tuple\n",
    "tuple4 = ()\n",
    "print(all(tuple4))"
   ]
  },
  {
   "cell_type": "code",
   "execution_count": null,
   "id": "f87d0534",
   "metadata": {},
   "outputs": [],
   "source": [
    "#any \n",
    "# any() with All True values\n",
    "tuple1 = (1, 1, True)\n",
    "print(any(tuple1))  # True\n",
    "\n",
    "# any() with One false value\n",
    "tuple2 = (0, 1, True, 1)\n",
    "print(any(tuple2))  # True\n",
    "\n",
    "# any() with all false values\n",
    "tuple3 = (0, 0, False)\n",
    "print(any(tuple3))  # False\n",
    "\n",
    "# any() with Empty tuple\n",
    "tuple4 = ()\n",
    "print(any(tuple4))  # False"
   ]
  },
  {
   "cell_type": "code",
   "execution_count": null,
   "id": "2a5f70e1",
   "metadata": {},
   "outputs": [],
   "source": [
    "#dictionary\n",
    "#1 ordered\n",
    "#2 unique\n",
    "#3 mutable\n",
    "\n",
    "#creating dictionary {} and to seperate key and value is indicates (:) and ,\n"
   ]
  },
  {
   "cell_type": "code",
   "execution_count": null,
   "id": "4ec7d0e4",
   "metadata": {},
   "outputs": [],
   "source": [
    "dict1={\"name\":\"jessa\",\"country\":\"usa\",\"telephone\":1100}\n",
    "print(dict1)\n",
    "dict2=dict({\"name\":\"jessa\",\"country\":\"usa\",\"telephone\":1100})\n",
    "print(dict2)\n",
    "dict3=dict([(\"name\",\"jessa\"),(\"country\",\"usa\"),(\"telephone\",1100)])\n",
    "print(dict3)\n",
    "dict4={\"name\":\"jessa\",10:\"mobile\"}\n",
    "print(dict4)\n",
    "dict5={\"name\":\"jessa\",\"mobile\":[9158,7058,8149]}\n",
    "print(dict5)"
   ]
  },
  {
   "cell_type": "code",
   "execution_count": null,
   "id": "ecf0f772",
   "metadata": {},
   "outputs": [],
   "source": [
    "# accessing element of dictionary\n",
    "dict1={\"name\":\"jessa\",\"country\":\"usa\",\"telephone\":1100}\n",
    "print(dict1[\"name\"])\n",
    "print(dict1.get(\"telephone\"))"
   ]
  },
  {
   "cell_type": "code",
   "execution_count": null,
   "id": "d0cd6869",
   "metadata": {},
   "outputs": [],
   "source": [
    "# get all keys and values\n",
    "dict1={\"name\":\"jessa\",\"country\":\"usa\",\"telephone\":1100}\n",
    "print(dict1.keys())\n",
    "print(dict1.values())\n",
    "print(dict1.items())\n",
    "\n",
    "#print(dict1.get(\"country\"))"
   ]
  },
  {
   "cell_type": "code",
   "execution_count": null,
   "id": "9c0d26d9",
   "metadata": {},
   "outputs": [],
   "source": [
    "#iterating dictionary\n",
    "dict1={\"name\":\"jessa\",\"country\":\"usa\",\"telephone\":1100}\n",
    "\n",
    "print('key',':','values')\n",
    "for key in dict1:\n",
    "    print(key,':',dict1[key])\n",
    "\n",
    "print('key',':','values')\n",
    "for key_value in dict1.items():\n",
    "    print(key_value[0],\":\",key_value[1])\n",
    "    \n"
   ]
  },
  {
   "cell_type": "code",
   "execution_count": null,
   "id": "4801b0a9",
   "metadata": {},
   "outputs": [],
   "source": [
    "#length of dictionary\n",
    "dict1={\"name\":\"jessa\",\"country\":\"usa\",\"telephone\":1100}\n",
    "print(len(dict1))"
   ]
  },
  {
   "cell_type": "code",
   "execution_count": null,
   "id": "3a838066",
   "metadata": {},
   "outputs": [],
   "source": [
    "#adding items to the dictionary\n",
    "# 1) using key values\n",
    "# 2) using update method\n"
   ]
  },
  {
   "cell_type": "code",
   "execution_count": null,
   "id": "e25d5957",
   "metadata": {},
   "outputs": [],
   "source": [
    "dict1={\"name\":\"jessa\",\"country\":\"usa\",\"telephone\":1100}\n",
    "dict1[\"weight\"]=50\n",
    "dict1.update({\"height\":5.6})\n",
    "print(dict1)"
   ]
  },
  {
   "cell_type": "code",
   "execution_count": null,
   "id": "94ce21e8",
   "metadata": {},
   "outputs": [],
   "source": [
    "dict1={\"name\":\"jessa\",\"country\":\"usa\",\"telephone\":1100}\n",
    "dict1.update({\"weight\":50,\"height\":5.6})\n",
    "print(dict1)"
   ]
  },
  {
   "cell_type": "code",
   "execution_count": null,
   "id": "d0065842",
   "metadata": {},
   "outputs": [],
   "source": [
    "dict1={\"name\":\"jessa\",\"country\":\"usa\",\"telephone\":1100}\n",
    "dict1.update([(\"city\",\"texas\"),(\"company\",\"google\")])\n",
    "print(dict1)"
   ]
  },
  {
   "cell_type": "code",
   "execution_count": null,
   "id": "0868edcb",
   "metadata": {},
   "outputs": [],
   "source": [
    "# set default value to a key\n",
    "dict1={\"name\":\"jessa\",\"country\":\"usa\",\"telephone\":1100}\n",
    "dict1.setdefault('state','texas')\n",
    "dict1.setdefault(\"zip\")\n",
    "print(dict1)"
   ]
  },
  {
   "cell_type": "code",
   "execution_count": null,
   "id": "e6a25b59",
   "metadata": {},
   "outputs": [],
   "source": [
    "#modify the values of the dictionary keys:\n",
    "dict1 = {\"name\": \"Jessa\", \"country\": \"USA\"}\n",
    "dict1[\"country\"]=\"canada\"\n",
    "print(dict1[\"country\"])\n",
    "\n",
    "dict1.update({\"country\":\"usa\"})\n",
    "print(dict1[\"country\"])\n",
    "print(dict1)"
   ]
  },
  {
   "cell_type": "code",
   "execution_count": null,
   "id": "8503e610",
   "metadata": {},
   "outputs": [],
   "source": [
    "# removing item\n",
    "#pop(key[,d])\n",
    "#popitem()\n",
    "#del key\n",
    "#clear\n",
    "#del dict1\n",
    "dict1 = {'name': 'Jessa', 'country': 'USA', 'telephone': 1178, 'weight': 50, 'height': 6}\n",
    "deleted_item=dict1.popitem()\n",
    "print(deleted_item)\n",
    "print(dict1)\n",
    "deleted_item=dict1.pop(\"telephone\")\n",
    "print(deleted_item)\n",
    "del dict1[\"weight\"]\n",
    "print(dict1)\n",
    "dict1.clear()\n",
    "print(dict1)\n"
   ]
  },
  {
   "cell_type": "code",
   "execution_count": null,
   "id": "fb1da9f0",
   "metadata": {},
   "outputs": [],
   "source": [
    "dict1 = {'name': 'Jessa', 'country': 'USA', 'telephone': 1178, 'weight': 50, 'height': 6}\n",
    "\n",
    "\n",
    "del dict1"
   ]
  },
  {
   "cell_type": "code",
   "execution_count": null,
   "id": "f645568e",
   "metadata": {},
   "outputs": [],
   "source": [
    "#checking if a keys exists\n",
    "person = {'name': 'Jessa', 'country': 'USA', 'telephone': 1178}\n",
    "key_name=\"country\"\n",
    "if key_name in person.keys():\n",
    "    print(\"country name is\",person[key_name])\n",
    "else:\n",
    "    print(\"key not fount\")"
   ]
  },
  {
   "cell_type": "code",
   "execution_count": null,
   "id": "9c2a997b",
   "metadata": {},
   "outputs": [],
   "source": [
    "#join two dictionies\n",
    "# update\n",
    "#  ** keywords\n",
    "dict1 = {'Jessa': 70, 'Arul': 80, 'Emma': 55}\n",
    "dict2 = {'Kelly': 68, 'Harry': 50, 'Olivia': 66}\n",
    "dict1.update(dict2)\n",
    "print(dict1)\n"
   ]
  },
  {
   "cell_type": "code",
   "execution_count": null,
   "id": "49b91cba",
   "metadata": {},
   "outputs": [],
   "source": [
    "# using **kwargs to unpack\n",
    "student_dict1 = {'Aadya': 1, 'Arul': 2, }\n",
    "student_dict2 = {'Harry': 5, 'Olivia': 6}\n",
    "student_dict3 = {'Nancy': 7, 'Perry': 9}\n",
    "student_dict = {**student_dict1, **student_dict2, **student_dict3}\n",
    "print(student_dict)\n"
   ]
  },
  {
   "cell_type": "code",
   "execution_count": null,
   "id": "4f997f81",
   "metadata": {},
   "outputs": [],
   "source": [
    "# join two dictinaries having few items in common\n",
    "dict1 = {'Jessa': 70, 'Arul': 80, 'Emma': 55}\n",
    "dict2 = {'Kelly': 68, 'Harry': 50, 'Emma': 66}\n",
    "dict1.update(dict2)\n",
    "print(dict1)\n",
    "print(dict1['Emma'])\n"
   ]
  },
  {
   "cell_type": "code",
   "execution_count": null,
   "id": "e4379e6a",
   "metadata": {},
   "outputs": [],
   "source": [
    "#copy dictionary \n",
    "#using copy()\n",
    "#using dict()\n",
    "dict1 = {'Jessa': 70, 'Emma': 55}\n",
    "dict2 = dict1.copy()\n",
    "print(dict2)\n",
    "dict3 = dict(dict1)\n",
    "print(dict3)\n",
    "dict4 = dict(dict1.items())\n",
    "print(dict4)\n",
    "#assign operator\n",
    "dict5=dict4\n",
    "print(dict5)\n"
   ]
  },
  {
   "cell_type": "code",
   "execution_count": null,
   "id": "123c2904",
   "metadata": {},
   "outputs": [],
   "source": [
    "# nested dictionary\n",
    "# address dictionary to store person address\n",
    "address = {\"state\": \"Texas\", 'city': 'Houston'}\n",
    "\n",
    "# dictionary to store person details with address as a nested dictionary\n",
    "person = {'name': 'Jessa', 'company': 'Google', 'address': address}\n",
    "\n",
    "# Display dictionary\n",
    "print(\"person:\", person)\n",
    "\n",
    "# Get nested dictionary key 'city'\n",
    "print(\"City:\", person['address']['city'])\n",
    "\n",
    "# Iterating outer dictionary\n",
    "print(\"Person details\")\n",
    "for key, value in person.items():\n",
    "    if key == 'address':\n",
    "        # Iterating through nested dictionary\n",
    "        print(\"Person Address\")\n",
    "        for nested_key, nested_value in value.items():\n",
    "            print(nested_key, ':', nested_value)\n",
    "    else:\n",
    "        print(key, ':', value)\n"
   ]
  },
  {
   "cell_type": "code",
   "execution_count": null,
   "id": "d2afe255",
   "metadata": {},
   "outputs": [],
   "source": [
    "# add multiple dictionaries inside a single dictionary\n",
    "# each dictionary will store data of a single student\n",
    "jessa = {'name': 'Jessa', 'state': 'Texas', 'city': 'Houston', 'marks': 75}\n",
    "emma = {'name': 'Emma', 'state': 'Texas', 'city': 'Dallas', 'marks': 60}\n",
    "kelly = {'name': 'Kelly', 'state': 'Texas', 'city': 'Austin', 'marks': 85}\n",
    "\n",
    "# Outer dictionary to store all student dictionaries (nested dictionaries)\n",
    "class_six = {'student1': jessa, 'student2': emma, 'student3': kelly}\n",
    "\n",
    "# Get student3's name and mark\n",
    "print(\"Student 3 name:\", class_six['student3']['name'])\n",
    "print(\"Student 3 marks:\", class_six['student3']['marks'])\n",
    "\n",
    "# Iterating outer dictionary\n",
    "print(\"\\nClass details\\n\")\n",
    "for key, value in class_six.items():\n",
    "    # Iterating through nested dictionary\n",
    "    # Display each student data\n",
    "    print(key)\n",
    "    for nested_key, nested_value in value.items():\n",
    "        print(nested_key, ':', nested_value)\n",
    "    print('\\n')\n"
   ]
  },
  {
   "cell_type": "code",
   "execution_count": null,
   "id": "c221e0d0",
   "metadata": {},
   "outputs": [],
   "source": [
    "#sort dictionary\n",
    "dict1 = {'c': 45, 'b': 95, 'a': 35}\n",
    "print(sorted(dict1.items()))\n",
    "print(sorted(dict1))\n",
    "print(sorted(dict1.values()))\n"
   ]
  },
  {
   "cell_type": "code",
   "execution_count": null,
   "id": "c5f47b59",
   "metadata": {},
   "outputs": [],
   "source": [
    "#dictionary comprehension\n",
    "numbers = [1, 3, 5, 2, 8]\n",
    "even_squares = {x: x ** 2 for x in numbers if x % 2 == 0}\n",
    "print(even_squares)\n"
   ]
  },
  {
   "cell_type": "code",
   "execution_count": null,
   "id": "7ae709fb",
   "metadata": {},
   "outputs": [],
   "source": [
    "telephone_book = [1178, 4020, 5786]\n",
    "persons = ['Jessa', 'Emma', 'Kelly']\n",
    "\n",
    "telephone_Directory = {key: value for key, value in zip(persons, telephone_book)}\n",
    "print(telephone_Directory)\n",
    "# Output {'Jessa': 1178, 'Emma': 4020, 'Kelly': 5786}"
   ]
  },
  {
   "cell_type": "code",
   "execution_count": null,
   "id": "0b19a85a",
   "metadata": {},
   "outputs": [],
   "source": [
    "#dictionary in max() and min()\n",
    "dict1 = {1:'aaa',2:'bbb',3:'AAA'}\n",
    "print('Maximum Key',max(dict1)) # 3\n",
    "print('Minimum Key',min(dict1)) # 1"
   ]
  },
  {
   "cell_type": "code",
   "execution_count": null,
   "id": "24507413",
   "metadata": {},
   "outputs": [],
   "source": [
    "# All\n",
    "#dictionary with both 'true' keys\n",
    "dict1 = {1:'True',1:'False'}\n",
    "\n",
    "#dictionary with one false key\n",
    "dict2 = {0:'True',1:'False'}\n",
    "\n",
    "#empty dictionary\n",
    "dict3= {}\n",
    "\n",
    "#'0' is true actually\n",
    "dict4 = {'0':False}\n",
    "\n",
    "print('All True Keys::',all(dict1))\n",
    "print('One False Key',all(dict2))\n",
    "print('Empty Dictionary',all(dict3))\n",
    "print('With 0 in single quotes',all(dict4))"
   ]
  },
  {
   "cell_type": "code",
   "execution_count": null,
   "id": "adf7bcd1",
   "metadata": {},
   "outputs": [],
   "source": [
    "# Any \n",
    "#dictionary with both 'true' keys\n",
    "dict1 = {1:'True',1:'False'}\n",
    "\n",
    "#dictionary with one false key\n",
    "dict2 = {0:'True',1:'False'}\n",
    "\n",
    "#empty dictionary\n",
    "dict3= {}\n",
    "\n",
    "#'0' is true actually\n",
    "dict4 = {'0':False}\n",
    "\n",
    "#all false\n",
    "dict5 = {0:False}\n",
    "\n",
    "print('All True Keys::',any(dict1))\n",
    "print('One False Key ::',any(dict2))\n",
    "print('Empty Dictionary ::',any(dict3))\n",
    "print('With 0 in single quotes ::',any(dict4))\n",
    "print('all false :: ',any(dict5))"
   ]
  },
  {
   "cell_type": "code",
   "execution_count": null,
   "id": "db04e736",
   "metadata": {},
   "outputs": [],
   "source": []
  },
  {
   "cell_type": "code",
   "execution_count": null,
   "id": "62fc3422",
   "metadata": {},
   "outputs": [],
   "source": []
  },
  {
   "cell_type": "code",
   "execution_count": null,
   "id": "db0a30e1",
   "metadata": {},
   "outputs": [],
   "source": []
  },
  {
   "cell_type": "code",
   "execution_count": null,
   "id": "6b43b083",
   "metadata": {},
   "outputs": [],
   "source": [
    "s1=(1,2,23,54,2,3,14,0,45)\n",
    "type(s1)"
   ]
  },
  {
   "cell_type": "code",
   "execution_count": null,
   "id": "2ad99a01",
   "metadata": {},
   "outputs": [],
   "source": [
    "s1=(65,54,6,3,54,45,45,5)\n",
    "s2=[21,1,0,25,4,33,5,0,5]\n",
    "s2,s1\n",
    "s3={12,1,21,5,7,6,77,4,5,1}\n",
    "s3\n",
    "\n"
   ]
  },
  {
   "cell_type": "code",
   "execution_count": null,
   "id": "68896a66",
   "metadata": {},
   "outputs": [],
   "source": [
    "s2=(25,54,54,66,585,55,66,25,545,55,55)\n",
    "s2"
   ]
  },
  {
   "cell_type": "code",
   "execution_count": null,
   "id": "8f0dac51",
   "metadata": {},
   "outputs": [],
   "source": [
    "s2=(22,56,988,\"G\",22,22,66,55)\n",
    "s2"
   ]
  },
  {
   "cell_type": "code",
   "execution_count": null,
   "id": "f123db83",
   "metadata": {},
   "outputs": [],
   "source": [
    "s3=(21,\"sb\",22,87,65)\n",
    "s3"
   ]
  },
  {
   "cell_type": "code",
   "execution_count": null,
   "id": "e940fdf8",
   "metadata": {},
   "outputs": [],
   "source": [
    "set1={1,2,3,4,56}\n",
    "set2={4,5,6,7,56}\n",
    "set1.union(set2)\n"
   ]
  },
  {
   "cell_type": "code",
   "execution_count": null,
   "id": "0818acb0",
   "metadata": {},
   "outputs": [],
   "source": [
    "set1={1,2,3,4,5,6,7,8,9}\n",
    "set2={5,6,7,6,7,8,9}\n",
    "set1.union(set2)\n"
   ]
  },
  {
   "cell_type": "code",
   "execution_count": null,
   "id": "152bbcb5",
   "metadata": {},
   "outputs": [],
   "source": [
    "set1={54,65,85,98,74,53,25,65,89,45}\n",
    "set2={25,36,34,15,65,62,64,53,54,42}\n",
    "set1.union(set2)\n"
   ]
  },
  {
   "cell_type": "code",
   "execution_count": null,
   "id": "7d3637b0",
   "metadata": {},
   "outputs": [],
   "source": [
    "set1={1,3,6,5,7,8,9,0}\n",
    "set2={0,2,5,566,66,4}\n",
    "set1.union(set2)"
   ]
  },
  {
   "cell_type": "code",
   "execution_count": null,
   "id": "daefec84",
   "metadata": {},
   "outputs": [],
   "source": [
    "set1={25,35,65,55,89,55,55}\n",
    "set2={21,65,65,55,8}\n",
    "set1.union(set2)\n",
    "print(set1.union(set2))"
   ]
  },
  {
   "cell_type": "code",
   "execution_count": null,
   "id": "0f6d1e0c",
   "metadata": {},
   "outputs": [],
   "source": [
    "set1={25,35,66,89,87,25}\n",
    "set2={22,36,96,48}\n",
    "set1.union(set2)"
   ]
  },
  {
   "cell_type": "code",
   "execution_count": null,
   "id": "616d267a",
   "metadata": {},
   "outputs": [],
   "source": [
    "set1={2,3,5,3,88,98}\n",
    "set2={23,56,66,66,6,66,8}\n",
    "set1.union(set2)"
   ]
  },
  {
   "cell_type": "code",
   "execution_count": null,
   "id": "a36a87d5",
   "metadata": {},
   "outputs": [],
   "source": [
    "set1={32,45,66,88}\n",
    "set2={33,22,98,85}\n",
    "set1.union(set2)"
   ]
  },
  {
   "cell_type": "code",
   "execution_count": null,
   "id": "ba6523c2",
   "metadata": {},
   "outputs": [],
   "source": [
    "#gcd or hcf\n",
    "m=int(input())\n",
    "n=int(input())\n",
    "d=min(m,n)\n",
    "while True:\n",
    "    if m%d==0 and n%d==0:\n",
    "        print(d,\"is the gcd\")\n",
    "        break\n",
    "    else:\n",
    "        d=d-1\n"
   ]
  },
  {
   "cell_type": "code",
   "execution_count": null,
   "id": "0d4f14a3",
   "metadata": {},
   "outputs": [],
   "source": [
    "#hcf\n",
    "m=int(input())  \n",
    "n=int(input())  \n",
    "d=min(m,n)   \n",
    "while True:\n",
    "    if m%d==0 and n%d==0:   \n",
    "        print(d,\"is the gcd\")\n",
    "        break\n",
    "    else:\n",
    "        d=d-1"
   ]
  },
  {
   "cell_type": "code",
   "execution_count": null,
   "id": "5698ff38",
   "metadata": {},
   "outputs": [],
   "source": [
    "m=int(input())\n",
    "n=int(input())\n",
    "d=min(m,d)\n",
    "while True:\n",
    "    if m%d==0 and n%d==0:\n",
    "        print(d,\"is the number\")\n",
    "        break\n",
    "    else:\n",
    "        d=d-1"
   ]
  },
  {
   "cell_type": "code",
   "execution_count": null,
   "id": "b4a33276",
   "metadata": {},
   "outputs": [],
   "source": [
    "m=int(input())\n",
    "n=int(input())\n",
    "d=min(m,n)\n",
    "while True:\n",
    "    if m%d==0 and n%d==0:\n",
    "        print(d,\"is the gcd\")\n",
    "        break\n",
    "    else:\n",
    "        d=d-1"
   ]
  },
  {
   "cell_type": "code",
   "execution_count": null,
   "id": "ef38e768",
   "metadata": {},
   "outputs": [],
   "source": [
    "m=int(input())\n",
    "n=int(input())\n",
    "d=min(m,n)\n",
    "while True:\n",
    "    if m%d==0 and n%d==0:\n",
    "        print(d,\"is the gcd\")\n",
    "        break\n",
    "    else:\n",
    "        d=d-1\n",
    "        "
   ]
  },
  {
   "cell_type": "code",
   "execution_count": null,
   "id": "ea12735b",
   "metadata": {},
   "outputs": [],
   "source": [
    "m=int(input())\n",
    "n=int(input())\n",
    "d=min(m,n)\n",
    "while True:\n",
    "    if m%d==0 and n%d==0:\n",
    "        print(d,\"is the gcd\")\n",
    "        break\n",
    "    else:\n",
    "        d=d-1"
   ]
  },
  {
   "cell_type": "code",
   "execution_count": null,
   "id": "4db11ed9",
   "metadata": {},
   "outputs": [],
   "source": [
    "m=int(input())\n",
    "n=int(input())\n",
    "d=min(m,n)\n",
    "while True:\n",
    "    if (m%d==0 and n%d==0):\n",
    "        print(d,\"is the gcd\")\n",
    "        break\n",
    "    else:\n",
    "        d=d-1"
   ]
  },
  {
   "cell_type": "code",
   "execution_count": null,
   "id": "646f01a7",
   "metadata": {},
   "outputs": [],
   "source": [
    "m=int(input())\n",
    "n=int(input())\n",
    "lcm=max(m,n)\n",
    "while True:\n",
    "    if ((lcm%m==0) and (lcm%n==0)):\n",
    "        print(lcm)\n",
    "        break\n",
    "    else:\n",
    "        lcm+=1"
   ]
  },
  {
   "cell_type": "code",
   "execution_count": null,
   "id": "9ee091e3",
   "metadata": {},
   "outputs": [],
   "source": [
    "m=int(input())\n",
    "n=int(input())\n",
    "lcm=max(m,n)\n",
    "while True:\n",
    "    if ((lcm%m==0) and (lcm%n==0)):\n",
    "        print(lcm)\n",
    "        break\n",
    "    else:\n",
    "        lcm+=1\n",
    "    "
   ]
  },
  {
   "cell_type": "code",
   "execution_count": null,
   "id": "7e9b9f5d",
   "metadata": {},
   "outputs": [],
   "source": [
    "m=int(input())\n",
    "n=int(input())\n",
    "lcm=max(m,n)\n",
    "while True:\n",
    "    if ((lcm%m==0) and (lcm%n==0)):\n",
    "        print(lcm)\n",
    "        break\n",
    "    else:\n",
    "        lcm+=1"
   ]
  },
  {
   "cell_type": "code",
   "execution_count": null,
   "id": "6712e3ee",
   "metadata": {},
   "outputs": [],
   "source": [
    "m=int(input())\n",
    "n=int(input())\n",
    "d=min(m,n)\n",
    "while True:\n",
    "    if (m%d==0 and n%d==0):\n",
    "        print(d,\"is the gcd\")\n",
    "        break\n",
    "    else:\n",
    "        d=d-1"
   ]
  },
  {
   "cell_type": "code",
   "execution_count": null,
   "id": "abee818e",
   "metadata": {},
   "outputs": [],
   "source": [
    "m=int(input())\n",
    "n=int(input())\n",
    "lcm=max(m,n)\n",
    "while True:\n",
    "    if ((lcm%m==0) and (lcm%n==0)):\n",
    "        print(lcm)\n",
    "        break\n",
    "    else:\n",
    "        lcm+=1"
   ]
  },
  {
   "cell_type": "code",
   "execution_count": null,
   "id": "c32880eb",
   "metadata": {},
   "outputs": [],
   "source": [
    "#lcm\n",
    "m=int(input())\n",
    "n=int(input())\n",
    "lcm=max(m,n)\n",
    "\n",
    "while True:\n",
    "    if ((lcm % m==0) and (lcm% n==0)):\n",
    "        print(lcm)\n",
    "        break\n",
    "    else:\n",
    "        lcm+=1\n"
   ]
  },
  {
   "cell_type": "code",
   "execution_count": null,
   "id": "ae2671d1",
   "metadata": {},
   "outputs": [],
   "source": [
    "#lcm\n",
    "m=int(input())\n",
    "n=int(input())\n",
    "lcm=max(m,n)\n",
    "while True:\n",
    "    if ((lcm % m==0) and (lcm % n==0)):\n",
    "        print(lcm)\n",
    "        break\n",
    "    else:\n",
    "        lcm+=1"
   ]
  },
  {
   "cell_type": "code",
   "execution_count": null,
   "id": "53638d28",
   "metadata": {},
   "outputs": [],
   "source": [
    "height=float(input(\"enter the height\"))"
   ]
  },
  {
   "cell_type": "code",
   "execution_count": null,
   "id": "6e5cc7f8",
   "metadata": {},
   "outputs": [],
   "source": [
    "height=float(input('enter the height'))"
   ]
  },
  {
   "cell_type": "code",
   "execution_count": null,
   "id": "12a0a862",
   "metadata": {},
   "outputs": [],
   "source": [
    "float(123)\n"
   ]
  },
  {
   "cell_type": "code",
   "execution_count": null,
   "id": "5463f06b",
   "metadata": {},
   "outputs": [],
   "source": [
    "bool(56)"
   ]
  },
  {
   "cell_type": "code",
   "execution_count": null,
   "id": "29c834f4",
   "metadata": {},
   "outputs": [],
   "source": [
    "hex(25)"
   ]
  },
  {
   "cell_type": "code",
   "execution_count": null,
   "id": "e9b78b41",
   "metadata": {},
   "outputs": [],
   "source": [
    "bool('santosh')"
   ]
  },
  {
   "cell_type": "code",
   "execution_count": null,
   "id": "52d9b30a",
   "metadata": {},
   "outputs": [],
   "source": [
    "bool(\"negative\")"
   ]
  },
  {
   "cell_type": "code",
   "execution_count": null,
   "id": "0323b7fe",
   "metadata": {},
   "outputs": [],
   "source": [
    "bool(\"123\")"
   ]
  },
  {
   "cell_type": "code",
   "execution_count": null,
   "id": "341ca69b",
   "metadata": {},
   "outputs": [],
   "source": [
    "bool(123)"
   ]
  },
  {
   "cell_type": "code",
   "execution_count": null,
   "id": "3025d4d8",
   "metadata": {},
   "outputs": [],
   "source": [
    "s1=(3,5,7,23)\n",
    "tuple(s1)"
   ]
  },
  {
   "cell_type": "code",
   "execution_count": null,
   "id": "def354ae",
   "metadata": {},
   "outputs": [],
   "source": [
    "age=int(input(\"enter the age\"))\n",
    "if age >=18:\n",
    "    print (\"eligible for vote\")\n",
    "    print(\"eligible for pancard\")\n",
    "else:\n",
    "    print(\"not eligible\")"
   ]
  },
  {
   "cell_type": "code",
   "execution_count": null,
   "id": "54d6e175",
   "metadata": {},
   "outputs": [],
   "source": [
    "percentage=int(input(\"enter the percentage\"))\n",
    "if percentage>=80:\n",
    "    print(\"first class\")\n",
    "elif percentage>=70:\n",
    "    print(\"second class\")\n",
    "elif percentage>=40:\n",
    "    print(\"third class\")\n",
    "else:\n",
    "    print(\"fail\")\n",
    "    "
   ]
  },
  {
   "cell_type": "code",
   "execution_count": null,
   "id": "6f3e6d78",
   "metadata": {},
   "outputs": [],
   "source": [
    "percentage=int(input(\"enter your percentage\"))\n",
    "if percentage>=100:\n",
    "    print(\"enter a valid percentage\")\n",
    "elif percentage>=80:\n",
    "    print(1 ,\"class with distingution\")\n",
    "elif percentage >=60:\n",
    "    print(2 ,\"nd class\")\n",
    "elif percentage >=40:\n",
    "    print(\"you are passed\")\n",
    "else:\n",
    "    print(\"fail\")"
   ]
  },
  {
   "cell_type": "code",
   "execution_count": null,
   "id": "8015c0d5",
   "metadata": {},
   "outputs": [],
   "source": [
    "x=5\n",
    "print(\"x before values are the\",x)"
   ]
  },
  {
   "cell_type": "code",
   "execution_count": null,
   "id": "76acbe59",
   "metadata": {},
   "outputs": [],
   "source": [
    "tuple1=(1,2,5,6,6,5,55,5,5,5)\n",
    "tuple2=(1,555,55,55,6,6,2,2)\n",
    "tuple3=tuple1+tuple2\n",
    "tuple3"
   ]
  },
  {
   "cell_type": "code",
   "execution_count": null,
   "id": "e9a61757",
   "metadata": {},
   "outputs": [],
   "source": [
    "tuple1=(1,2,3)*3\n",
    "tuple1"
   ]
  },
  {
   "cell_type": "code",
   "execution_count": null,
   "id": "4a0ee2b6",
   "metadata": {},
   "outputs": [],
   "source": [
    "tuple1=(1,2,3,5,6)\n",
    "tuple2=(5,5,9,8,4)\n",
    "tuple3=tuple1+tuple2\n",
    "tuple3\n",
    "print(tuple3*3)"
   ]
  },
  {
   "cell_type": "code",
   "execution_count": null,
   "id": "4a402a2b",
   "metadata": {},
   "outputs": [],
   "source": [
    "rad=int(input(\"enter the value of radius\"))\n",
    "area =3.14*(rad**2)\n",
    "print(area)"
   ]
  },
  {
   "cell_type": "code",
   "execution_count": null,
   "id": "9a6ee460",
   "metadata": {},
   "outputs": [],
   "source": [
    "rad=int(input(\"value of radius is\"))\n",
    "area=3.14*(rad**2)\n",
    "print(area)"
   ]
  },
  {
   "cell_type": "code",
   "execution_count": null,
   "id": "342d5b19",
   "metadata": {},
   "outputs": [],
   "source": [
    "rad=int(input(\"enter a radius\"))\n",
    "area=3.14*(rad**2)\n",
    "print(area)"
   ]
  },
  {
   "cell_type": "code",
   "execution_count": null,
   "id": "05dff705",
   "metadata": {},
   "outputs": [],
   "source": [
    "rad=int(input(\"enter the value of radius\"))\n",
    "area=3.14*(rad**2)\n",
    "print(area)"
   ]
  },
  {
   "cell_type": "code",
   "execution_count": null,
   "id": "4526489b",
   "metadata": {},
   "outputs": [],
   "source": [
    "x=int(input('enter the value is'))\n",
    "if x%2==0:\n",
    "    print(x,\"is the even no.\")\n",
    "else:\n",
    "    print(x,\"is the odd no.\")"
   ]
  },
  {
   "cell_type": "code",
   "execution_count": null,
   "id": "d427077f",
   "metadata": {},
   "outputs": [],
   "source": [
    "x=int(input(\"enter the number\"))\n",
    "if x%2==0:\n",
    "    print(x,\"is the even no.\")\n",
    "else:\n",
    "    print(x,\"is the odd no.\")"
   ]
  },
  {
   "cell_type": "code",
   "execution_count": null,
   "id": "a0da74f1",
   "metadata": {},
   "outputs": [],
   "source": [
    "x=17\n",
    "i=int(input())\n",
    "z=x-i                         #assignment question\n",
    "if x<=i:\n",
    "    print(z,\"is negative\")\n",
    "#elif x==i:\n",
    "    #print(0)\n",
    "else:\n",
    "    print(z,\"is positive\")"
   ]
  },
  {
   "cell_type": "code",
   "execution_count": null,
   "id": "edf8443d",
   "metadata": {},
   "outputs": [],
   "source": [
    "x=int(input(\"enter the value\"))\n",
    "if x>0:\n",
    "    print(\"given no is positive\")\n",
    "elif x==0:\n",
    "    print(\"given no is zero\")\n",
    "else:\n",
    "    print(\"given no is negative\")"
   ]
  },
  {
   "cell_type": "code",
   "execution_count": null,
   "id": "cff07117",
   "metadata": {},
   "outputs": [],
   "source": [
    "\n",
    "marks=int(input())\n",
    "if marks>80:\n",
    "    print(\"first class\")\n",
    "elif marks>70:\n",
    "    print(\"second class\")\n",
    "elif marks>60:\n",
    "    print(\"third class\")\n",
    "elif marks>40:\n",
    "    print(\"pass\")\n",
    "else:\n",
    "    print(\"fail\")"
   ]
  },
  {
   "cell_type": "code",
   "execution_count": null,
   "id": "eda01499",
   "metadata": {},
   "outputs": [],
   "source": [
    "print(\"welcome to central bank\")\n",
    "name=input(\"may i have your name?:\")\n",
    "print(\"hey\",name,\"welcome to central bank\")\n",
    "acc_no=int(input(\"may i have your acc no?:\"))\n",
    "acc_bal=int(input(\"please enter your acc balance:\"))\n",
    "bal_added=int(input(\"enter the amount needed to be added:\"))\n",
    "final=acc_bal+bal_added\n",
    "print(\"thanks for using central bank\")\n",
    "print(\"your transaction is completed\")\n"
   ]
  },
  {
   "cell_type": "code",
   "execution_count": null,
   "id": "c00c42ba",
   "metadata": {},
   "outputs": [],
   "source": [
    "age=int(input(\"may i know your age?:\"))\n",
    "if age>=18:\n",
    "    nationality=input(\"enter your nationality:\")\n",
    "    if (nationality==\"indian\" or nationality==\"indian\"):\n",
    "        print(\"you are eligible for vote\")\n",
    "    else:\n",
    "        y=input(\"enter your location\")\n",
    "        if (y==\"india\" or y==\"india\"):\n",
    "            years=int(input(\"how many years you have staying in india?:\"))\n",
    "            if years>=5:\n",
    "                print(\"you are eligible for voting\")\n",
    "            else:\n",
    "                print(\"you are not eligible for voting\")\n",
    "        else:\n",
    "            print(\"you are not eligible for voting\")\n",
    "else:\n",
    "    print(\"sorry you are not eligible for vote\")\n",
    "        \n",
    "    "
   ]
  },
  {
   "cell_type": "code",
   "execution_count": null,
   "id": "f74536f5",
   "metadata": {},
   "outputs": [],
   "source": [
    "s1=\"flow of control in python\"\n",
    "for i in s1[1:8]:\n",
    "    print(i)"
   ]
  },
  {
   "cell_type": "code",
   "execution_count": null,
   "id": "44f6a425",
   "metadata": {},
   "outputs": [],
   "source": [
    "print(\"#\".join(\"12345\"))"
   ]
  },
  {
   "cell_type": "code",
   "execution_count": null,
   "id": "baca22d9",
   "metadata": {},
   "outputs": [],
   "source": [
    "print(\"i love my country\".find(\"o\",2,11))  #count"
   ]
  },
  {
   "cell_type": "code",
   "execution_count": null,
   "id": "7ce38e6b",
   "metadata": {},
   "outputs": [],
   "source": [
    "for i in range(7,-2,-9):\n",
    "    for j in range (i):\n",
    "        print(j)"
   ]
  },
  {
   "cell_type": "code",
   "execution_count": null,
   "id": "38acb590",
   "metadata": {},
   "outputs": [],
   "source": [
    "l=[\"A\",\"B\",\"C\",\"D\",\"E\"]\n",
    "for i in range(len(l)-1):\n",
    "    l.pop()\n",
    "    print(l)"
   ]
  },
  {
   "cell_type": "code",
   "execution_count": null,
   "id": "08426329",
   "metadata": {},
   "outputs": [],
   "source": [
    "x=int(input(\"enter a no\"))\n",
    "if x%2==0:\n",
    "    print(x,\"is even no.\")\n",
    "else:\n",
    "    print(x,\"is odd no\")"
   ]
  },
  {
   "cell_type": "code",
   "execution_count": null,
   "id": "61728e43",
   "metadata": {},
   "outputs": [],
   "source": [
    "y=int(input(\"enter the number\"))\n",
    "if y%2==0:\n",
    "    print(y,\"is the even no\")\n",
    "else:\n",
    "    print(y,\"is the the odd no\")"
   ]
  },
  {
   "cell_type": "code",
   "execution_count": null,
   "id": "1e71bc7c",
   "metadata": {},
   "outputs": [],
   "source": [
    "l1=[21,32,66,23,5455]\n",
    "for i in l1:\n",
    "    if i%2==0:\n",
    "        print(i,\"is the even no\")\n",
    "    else:\n",
    "        print(i,\"is the odd no\")"
   ]
  },
  {
   "cell_type": "code",
   "execution_count": null,
   "id": "d34388cc",
   "metadata": {},
   "outputs": [],
   "source": [
    "\n",
    "l1=[1,2,3,4,5,6,7,8,9,13,12,45,65,477,5,22]\n",
    "odd=[]\n",
    "even=[]\n",
    "for i in l1:\n",
    "    if i%2==0:\n",
    "        even.append(i)\n",
    "        \n",
    "    else:\n",
    "        odd.append(i)\n",
    "    i+=1\n",
    "    \n",
    "print(\"the odd numbers:\")\n",
    "for j in odd:\n",
    "    print(j)\n",
    "    \n",
    "print(\"the even numbers:\")\n",
    "for i in even:\n",
    "    print(i)\n",
    "    \n",
    "    "
   ]
  },
  {
   "cell_type": "code",
   "execution_count": null,
   "id": "d864a1d3",
   "metadata": {},
   "outputs": [],
   "source": [
    "odd=[]\n",
    "even=[]\n",
    "for i in range(1,20):\n",
    "    if i%2==0:\n",
    "        even.append(i)\n",
    "        \n",
    "    else:\n",
    "        odd.append(i)\n",
    "    i+=1\n",
    "    \n",
    "print(\"the odd numbers:\")\n",
    "for j in odd:\n",
    "    print(j)\n",
    "    \n",
    "print(\"the even numbers:\")\n",
    "for i in even:\n",
    "    print(i)\n",
    "        "
   ]
  },
  {
   "cell_type": "code",
   "execution_count": null,
   "id": "d198e8e8",
   "metadata": {},
   "outputs": [],
   "source": [
    "sum=0\n",
    "n=int(input(\"total number of values you want to enter:\"))\n",
    "for i in range(1,2*n+1,2):\n",
    "    print(i)\n",
    "    sum+=i\n",
    "    \n",
    "average=sum/n\n",
    "print(sum)\n",
    "print(\"average of first n odd numbers\",average)"
   ]
  },
  {
   "cell_type": "code",
   "execution_count": null,
   "id": "943d30e4",
   "metadata": {},
   "outputs": [],
   "source": [
    "#for loop\n",
    "l2=[]\n",
    "num1=int(input(\"enter no of iterations\"))\n",
    "for i in range (num1):\n",
    "    num=int(input())\n",
    "    l2.append(num)\n",
    "    \n",
    "print(l2)\n",
    "sum1=0\n",
    "for j in l2:\n",
    "    sum1+=j\n",
    "    \n",
    "print(sum1)\n",
    "print(num1)\n",
    "average=sum1/num1\n",
    "print(average)    \n",
    "    "
   ]
  },
  {
   "cell_type": "code",
   "execution_count": null,
   "id": "c5f056a1",
   "metadata": {},
   "outputs": [],
   "source": [
    "l1=[]\n",
    "num1=int(input(\"no of iterations\"))\n",
    "for i in range(num1):\n",
    "    num=int(input())\n",
    "    l1.append(num)\n",
    "\n",
    "print(l1)\n",
    "sum1=0\n",
    "for j in l1:\n",
    "    sum1+=j\n",
    "print(sum1)\n",
    "print(num1)\n",
    "average=sum1/num1\n",
    "print(average)\n"
   ]
  },
  {
   "cell_type": "code",
   "execution_count": null,
   "id": "6c404284",
   "metadata": {},
   "outputs": [],
   "source": [
    "l1=[]\n",
    "num1=int(input(\"no of iterations\"))\n",
    "for i in range (num1):\n",
    "    num=int(input())\n",
    "    l1.append(num)\n",
    "print(l1)\n",
    "sum1=0\n",
    "for j in l1:\n",
    "    sum1+=j\n",
    "print(sum1)\n",
    "print(num1)\n",
    "average=sum1/num1\n",
    "print(average)\n"
   ]
  },
  {
   "cell_type": "code",
   "execution_count": null,
   "id": "0440f7b5",
   "metadata": {},
   "outputs": [],
   "source": [
    "l1=[]\n",
    "num1=int(input(\"no of iterations\"))\n",
    "for i in range(num1):\n",
    "    num=int(input())\n",
    "    l1.append(num)\n",
    "print(l1)\n",
    "sum1=0\n",
    "for j in l1:\n",
    "    sum1+=j\n",
    "print(sum1)\n",
    "print(num1)\n",
    "average=sum1/num1\n",
    "print(average)"
   ]
  },
  {
   "cell_type": "code",
   "execution_count": null,
   "id": "36449d2e",
   "metadata": {},
   "outputs": [],
   "source": [
    "num=int(input(\"enter the number want to factorial\"))\n",
    "fact=1\n",
    "for i in range(1,num+1):\n",
    "    fact=fact*i\n",
    "    print(fact)"
   ]
  },
  {
   "cell_type": "code",
   "execution_count": null,
   "id": "cc499a78",
   "metadata": {},
   "outputs": [],
   "source": [
    "#while loop\n",
    "n=int(input(\"enter the number of iteration\"))\n",
    "count=0\n",
    "sum=0\n",
    "while count<n:\n",
    "    num=int(input())\n",
    "    sum+=num\n",
    "    count+=1\n",
    "average=sum/n\n",
    "print(\"average is\",average)\n",
    "    \n",
    "\n"
   ]
  },
  {
   "cell_type": "code",
   "execution_count": null,
   "id": "9bf0f38d",
   "metadata": {},
   "outputs": [],
   "source": [
    "n=int(input(\"enter a number for which we want to factorial\"))\n",
    "fact=1\n",
    "for i in range(1,n+1):\n",
    "    fact=fact*i\n",
    "print(fact)"
   ]
  },
  {
   "cell_type": "code",
   "execution_count": null,
   "id": "32c37872",
   "metadata": {},
   "outputs": [],
   "source": [
    "num=int(input(\"enter factorial\"))\n",
    "count=1\n",
    "fact=1\n",
    "while count<num+1:\n",
    "    fact=fact*count\n",
    "    count+=1  \n",
    "    print(fact)\n",
    "    "
   ]
  },
  {
   "cell_type": "code",
   "execution_count": null,
   "id": "1339ea64",
   "metadata": {},
   "outputs": [],
   "source": [
    "for i in range(1,51):\n",
    "    if i==45:   # >take to equal amount\n",
    "        break\n",
    "    print(i)\n",
    "        "
   ]
  },
  {
   "cell_type": "code",
   "execution_count": null,
   "id": "1fbca241",
   "metadata": {},
   "outputs": [],
   "source": [
    "for i in range (1,60):\n",
    "    if i%3==0:\n",
    "        continue\n",
    "    print(i)"
   ]
  },
  {
   "cell_type": "code",
   "execution_count": null,
   "id": "fc762e36",
   "metadata": {},
   "outputs": [],
   "source": [
    "for i in range(1,15):\n",
    "    if i%3==0:\n",
    "        print(i)\n",
    "        continue"
   ]
  },
  {
   "cell_type": "code",
   "execution_count": null,
   "id": "b2a2eda7",
   "metadata": {},
   "outputs": [],
   "source": [
    "for i in range(1,15):\n",
    "    if i%3==0:\n",
    "        continue\n",
    "    print(i)\n",
    "    \n",
    "for i in range(1,15):\n",
    "    print(i)\n",
    "    if i%3==0:\n",
    "        break\n",
    "    "
   ]
  },
  {
   "cell_type": "code",
   "execution_count": null,
   "id": "243a5cf8",
   "metadata": {},
   "outputs": [],
   "source": [
    "for i in range(1,15):\n",
    "    if i%3==0:\n",
    "        continue\n",
    "    print(i)\n",
    "    \n",
    "for i in range(1,15):\n",
    "    if i%3==0:\n",
    "        print(i)\n",
    "    continue"
   ]
  },
  {
   "cell_type": "code",
   "execution_count": null,
   "id": "0f0ca592",
   "metadata": {},
   "outputs": [],
   "source": [
    "for i in range(1,15):\n",
    "    pass\n",
    "print(i)"
   ]
  },
  {
   "cell_type": "code",
   "execution_count": null,
   "id": "23841672",
   "metadata": {},
   "outputs": [],
   "source": [
    "n=int(input(\"enter no of iterationss\"))\n",
    "count=0\n",
    "sum1=0\n",
    "while count<n:\n",
    "    num=int(input(\"enter the value\"))\n",
    "    sum1+=num\n",
    "    count+=1\n",
    "average=sum1/n\n",
    "print(average)"
   ]
  },
  {
   "cell_type": "code",
   "execution_count": null,
   "id": "cf717f87",
   "metadata": {},
   "outputs": [],
   "source": [
    "items=[\"bread\",\"coffee\",\"book\"]\n",
    "items.append(\"flour\")\n",
    "items.append(\"coffee\")\n",
    "items[2]=(\"booklet\")\n",
    "items.append(\"coffee\")\n",
    "items.append(5)\n",
    "items\n",
    "items[1]=(\"5star\")\n",
    "items\n",
    "\n",
    "\n"
   ]
  },
  {
   "cell_type": "code",
   "execution_count": null,
   "id": "0cc92614",
   "metadata": {},
   "outputs": [],
   "source": [
    "items=[\"bread\",\"coffee\",\"book\"]\n",
    "items.append(\"flour\")\n",
    "items[2]\n",
    "items.append(5)\n",
    "items"
   ]
  },
  {
   "cell_type": "code",
   "execution_count": null,
   "id": "96530714",
   "metadata": {},
   "outputs": [],
   "source": [
    "items[-1]=(\"tea\")\n",
    "items"
   ]
  },
  {
   "cell_type": "code",
   "execution_count": null,
   "id": "45fcbfc7",
   "metadata": {},
   "outputs": [],
   "source": [
    "items[-1]=(\"green tea\")\n",
    "items"
   ]
  },
  {
   "cell_type": "code",
   "execution_count": null,
   "id": "10d2eeb7",
   "metadata": {},
   "outputs": [],
   "source": [
    "items.append(\"tea\")\n",
    "items"
   ]
  },
  {
   "cell_type": "code",
   "execution_count": null,
   "id": "c9195099",
   "metadata": {},
   "outputs": [],
   "source": [
    "set1={1,2,3,4,5,6,7,89,78}\n",
    "set1\n",
    "set1={1,3,5,4}\n",
    "set1\n",
    "set1.pop()\n",
    "set1.pop()\n",
    "set1"
   ]
  },
  {
   "cell_type": "code",
   "execution_count": null,
   "id": "df32de9b",
   "metadata": {},
   "outputs": [],
   "source": [
    "set1={1,2,3,4,5,6,7}\n",
    "set1.pop()\n",
    "print(set1)\n"
   ]
  },
  {
   "cell_type": "code",
   "execution_count": null,
   "id": "c127a8c4",
   "metadata": {},
   "outputs": [],
   "source": [
    "items=[\"bread\",\"sugar\",\"book\"]\n",
    "items.pop(1)"
   ]
  },
  {
   "cell_type": "code",
   "execution_count": null,
   "id": "6202961c",
   "metadata": {},
   "outputs": [],
   "source": [
    "password=(\"x\",\"t\",\"g\",\"t\",\"q\",3,4,6)\n",
    "password[4]\n",
    "set1={1,2,3,4,4,3,4,2,4,24,2,4,3,4}\n",
    "set1\n",
    "set1={234,1,3,12,1213,45,12,4,4,24,24,24,21,4,5,5,26}\n",
    "set1\n",
    "set1.pop()\n",
    "set1.pop()\n",
    "set1.pop()\n",
    "set1\n",
    "list1=[15,13,5,20,16,14,14,16,14,16,14,1,6,9]\n",
    "list1[6:]"
   ]
  },
  {
   "cell_type": "code",
   "execution_count": null,
   "id": "e2c4633d",
   "metadata": {},
   "outputs": [],
   "source": [
    "list1=[12,65,23,6566,55,66]\n",
    "list1[5:]\n",
    "list1[5]\n"
   ]
  },
  {
   "cell_type": "code",
   "execution_count": null,
   "id": "ff4ffab6",
   "metadata": {},
   "outputs": [],
   "source": [
    "list1=[12,65,22,3,55,55,22,5]\n",
    "list1[3:]"
   ]
  },
  {
   "cell_type": "code",
   "execution_count": null,
   "id": "e20c5ddd",
   "metadata": {},
   "outputs": [],
   "source": [
    "dict1={23,65,6,55,66,52,33,33,32,55,66,}\n",
    "dict1"
   ]
  },
  {
   "cell_type": "code",
   "execution_count": null,
   "id": "327291a7",
   "metadata": {},
   "outputs": [],
   "source": [
    "dict1={1:23,2:65,3:6,4:55,5:66,6:52,7:33,8:33,9:32,10:55,11:66,}\n",
    "dict1"
   ]
  },
  {
   "cell_type": "code",
   "execution_count": null,
   "id": "578c74e4",
   "metadata": {},
   "outputs": [],
   "source": [
    "dict1.keys()"
   ]
  },
  {
   "cell_type": "code",
   "execution_count": null,
   "id": "268cc38b",
   "metadata": {},
   "outputs": [],
   "source": [
    "dict1.values()"
   ]
  },
  {
   "cell_type": "code",
   "execution_count": null,
   "id": "043996ee",
   "metadata": {},
   "outputs": [],
   "source": [
    "dict1.items()"
   ]
  },
  {
   "cell_type": "code",
   "execution_count": null,
   "id": "39722abe",
   "metadata": {},
   "outputs": [],
   "source": [
    "dict1={1:2,2:3,3:4,4:32,5:6}\n",
    "dict1[\"eleven\"]=15\n",
    "dict1"
   ]
  },
  {
   "cell_type": "code",
   "execution_count": null,
   "id": "3cd12076",
   "metadata": {},
   "outputs": [],
   "source": [
    "list1=[12,65,22,3,55,55,22,5]\n",
    "list1.append(4)\n",
    "list1\n"
   ]
  },
  {
   "cell_type": "code",
   "execution_count": null,
   "id": "646dfb8b",
   "metadata": {},
   "outputs": [],
   "source": [
    "list1.append([10,15,20])\n",
    "list1"
   ]
  },
  {
   "cell_type": "code",
   "execution_count": null,
   "id": "deafd742",
   "metadata": {},
   "outputs": [],
   "source": [
    "list1.extend([10,15,20])\n",
    "list1"
   ]
  },
  {
   "cell_type": "code",
   "execution_count": null,
   "id": "81dcae18",
   "metadata": {},
   "outputs": [],
   "source": [
    "list1.append(4)\n",
    "list1"
   ]
  },
  {
   "cell_type": "code",
   "execution_count": null,
   "id": "e0de2c38",
   "metadata": {},
   "outputs": [],
   "source": [
    "n=int(input(\"enter the total no of students\"))\n",
    "count=0\n",
    "passed=[]\n",
    "failed=[]\n",
    "while count<n:\n",
    "    marks=int(input())\n",
    "    if marks<=0:\n",
    "        break\n",
    "    elif marks>=35:\n",
    "        passed.append(marks)\n",
    "    else:\n",
    "        failed.append(marks)\n",
    "    count+=1\n",
    "print(passed)\n",
    "len(passed)\n",
    "\n",
    "    "
   ]
  },
  {
   "cell_type": "code",
   "execution_count": null,
   "id": "1de2532d",
   "metadata": {},
   "outputs": [],
   "source": [
    "limit=int(input(\"enter your credit limit\"))\n",
    "expend=[]\n",
    "sum=0\n",
    "while sum<limit:\n",
    "    amount=int(input(\"enter the amount\"))\n",
    "    if amount<=0:\n",
    "        break\n",
    "    else:\n",
    "        sum+=amount\n",
    "        expend.append(amount)\n",
    "print(\"total amount is\",sum)\n",
    "print(\"the purchase made is\",expend)\n",
    "print(\"the amount left is\",(limit-sum))"
   ]
  },
  {
   "cell_type": "code",
   "execution_count": null,
   "id": "48f70bb1",
   "metadata": {},
   "outputs": [],
   "source": [
    "password=input(\"enter a password\")\n",
    "digit=[]\n",
    "upper=[]\n",
    "lower=[]\n",
    "special=[]\n",
    "space=[]\n",
    "x=password.split()\n",
    "print(x)\n",
    "for letter in password:\n",
    "    if letter.isdigit():\n",
    "        digit.append(letter)\n",
    "    elif letter.isupper():\n",
    "        upper.append(letter)\n",
    "    elif letter.islower():\n",
    "        lower.append(letter)\n",
    "    elif letter.isspace():\n",
    "        space.append(letter)\n",
    "    else:\n",
    "        special.append(letter)\n",
    "if (len(digit)>=1 and len(upper)>=1 and len(lower)>=1 and len(special)>=1 and len(space)==0 and len(password)>=8):\n",
    "    print('it is good password')\n",
    "else:\n",
    "    print(\"it is not good password\")\n",
    "    if len(digit)==0:\n",
    "        print(\"please enter a digit\")\n",
    "    if len(upper)==0:\n",
    "        print(\"please enter a upper case\")\n",
    "    if len(lower)==0:\n",
    "        print(\"please enter a lower case\")\n",
    "    if len(special)==0:\n",
    "        print(\"please enter a special character\")\n",
    "    if len(password)<0:\n",
    "        print(\"please enter a password of length 8 or more than 8\")\n",
    "        \n",
    "        \n"
   ]
  },
  {
   "cell_type": "code",
   "execution_count": null,
   "id": "a144707a",
   "metadata": {},
   "outputs": [],
   "source": [
    "password"
   ]
  },
  {
   "cell_type": "code",
   "execution_count": null,
   "id": "a2d527f4",
   "metadata": {},
   "outputs": [],
   "source": [
    "password=\"Santosh1920b@\"\n",
    "x=password.split(sep=\"1920\")\n",
    "print(x)"
   ]
  },
  {
   "cell_type": "code",
   "execution_count": null,
   "id": "eae1266e",
   "metadata": {},
   "outputs": [],
   "source": [
    "str1=\"santosh belge\"\n",
    "str1.replace(\"santosh\",\"san\")"
   ]
  },
  {
   "cell_type": "code",
   "execution_count": null,
   "id": "c1e9dea1",
   "metadata": {},
   "outputs": [],
   "source": [
    "str1=\"   santosh belge\"\n",
    "len(str1)"
   ]
  },
  {
   "cell_type": "code",
   "execution_count": null,
   "id": "62e237c6",
   "metadata": {},
   "outputs": [],
   "source": [
    "str1.strip()"
   ]
  },
  {
   "cell_type": "code",
   "execution_count": null,
   "id": "85687c1d",
   "metadata": {},
   "outputs": [],
   "source": [
    "x=str1.center(20,\"!\")\n",
    "x"
   ]
  },
  {
   "cell_type": "code",
   "execution_count": null,
   "id": "d579a14d",
   "metadata": {},
   "outputs": [],
   "source": [
    "str1.capitalize()\n",
    "y=str1.strip()\n",
    "z=y.capitalize()\n",
    "print(z)\n",
    "str1.count(\"t\")\n",
    "z.count(\"t\")\n",
    "str1.endswith(\"sb\")\n",
    "y.endswith(\"9158\")\n"
   ]
  },
  {
   "cell_type": "code",
   "execution_count": null,
   "id": "f9699734",
   "metadata": {},
   "outputs": [],
   "source": [
    "str1.find(\"t\")\n"
   ]
  },
  {
   "cell_type": "code",
   "execution_count": null,
   "id": "99d93a84",
   "metadata": {},
   "outputs": [],
   "source": [
    "str1=(\"santosh\")\n",
    "str1.find(\"h\")"
   ]
  },
  {
   "cell_type": "code",
   "execution_count": null,
   "id": "1d70c19b",
   "metadata": {},
   "outputs": [],
   "source": [
    "str1.index(\"h\")"
   ]
  },
  {
   "cell_type": "code",
   "execution_count": null,
   "id": "3b81bfd4",
   "metadata": {},
   "outputs": [],
   "source": [
    "let=input()\n",
    "str1=input()\n",
    "\n",
    "x=str1.find(let)\n",
    "\n",
    "if x==-1:\n",
    "    print(\"not present\")\n",
    "else:\n",
    "    print(x,\"is the index\")\n"
   ]
  },
  {
   "cell_type": "code",
   "execution_count": null,
   "id": "5588025c",
   "metadata": {},
   "outputs": [],
   "source": [
    "str1=(\"santosh belge\")\n",
    "str1.isascii()\n",
    "str1.isdecimal()\n",
    "str1.istitle()\n",
    "str1.title()\n",
    "str1.upper()\n",
    "str1.join(\"  \")\n",
    "str2=(\"Tq\")\n",
    "str1.join(str2)\n",
    "x=\"santoshbelge!\"\n",
    "y=x.split(\"!\")\n",
    "print(y)\n",
    "for i in y:\n",
    "    z.join(i)\n",
    "print(z)\n",
    "    "
   ]
  },
  {
   "cell_type": "code",
   "execution_count": null,
   "id": "d2773331",
   "metadata": {},
   "outputs": [],
   "source": [
    "str1\n"
   ]
  },
  {
   "cell_type": "code",
   "execution_count": null,
   "id": "f26150c1",
   "metadata": {},
   "outputs": [],
   "source": [
    "str1.removeprefix(\"san\")"
   ]
  },
  {
   "cell_type": "code",
   "execution_count": null,
   "id": "9859fd71",
   "metadata": {},
   "outputs": [],
   "source": [
    "str1.removesuffix(\"ge\")"
   ]
  },
  {
   "cell_type": "code",
   "execution_count": null,
   "id": "4c2c01f9",
   "metadata": {},
   "outputs": [],
   "source": [
    "str1.swapcase()"
   ]
  },
  {
   "cell_type": "code",
   "execution_count": null,
   "id": "126fc203",
   "metadata": {},
   "outputs": [],
   "source": [
    "str1.replace(\"SA\")"
   ]
  },
  {
   "cell_type": "code",
   "execution_count": null,
   "id": "7e3d4a9a",
   "metadata": {},
   "outputs": [],
   "source": [
    "str1=123\n",
    "str1"
   ]
  },
  {
   "cell_type": "code",
   "execution_count": null,
   "id": "5517d59c",
   "metadata": {},
   "outputs": [],
   "source": [
    "str1=input()\n",
    "'''\n",
    "if (str1[0]==\"-\" or str1[0]==\"+\"):\n",
    "    x=str1[1:]\n",
    "    if x.isdigit(1):\n",
    "        print(\"str1 is an integer\")\n",
    "    else:\n",
    "        print(\"str1 is not integer\")\n",
    "'''\n",
    "if str1.isdigit():\n",
    "    print(\"str1 is an integer\")\n",
    "else:\n",
    "    print(\"str1 is not integer \")\n",
    "    "
   ]
  },
  {
   "cell_type": "code",
   "execution_count": null,
   "id": "f51fe726",
   "metadata": {},
   "outputs": [],
   "source": [
    "username=input(\"enter a username\")\n",
    "alpha=[]\n",
    "dig=[]\n",
    "space=[]\n",
    "special=[]\n",
    "if len(username)>=8:\n",
    "    if (username[0]==\"@\"):\n",
    "        x=username[1:]\n",
    "        for i in x:\n",
    "            if i.isalpha():\n",
    "                alpha.append(i)\n",
    "            elif i.isdig():\n",
    "                dig.alpha(i)\n",
    "            elif i.isspace():\n",
    "                spa.append(i)\n",
    "            else:\n",
    "                special.append(i)\n",
    "            \n",
    "if len(username)>=8 and username[0]==\"@\":\n",
    "    if (len(aplpha)>0 and len(dig)>0 and len(spa)==0):\n",
    "        y=username[-2:]\n",
    "        if y.isdigit():\n",
    "            print(\"valid username\")\n",
    "        else:\n",
    "            print(\"invalid username\")\n",
    "            if len(alpha)==0:\n",
    "                print(\"enter alphabet\")\n",
    "            if len(dig)==0:\n",
    "                print(\"enter a number\")\n",
    "            if len>0:\n",
    "                print(\"remove the space\")\n",
    "            if y.isalpha() or y.isspace() or y.isalnum():\n",
    "                print(\"enter a numer at last\")\n",
    "else:\n",
    "    if len(username)<8:\n",
    "        print(\"enter username more than 8\")\n",
    "    if username[0]!=\"@\":\n",
    "        print(\"enter @ symbolsdfg at the startng\")\n",
    "    "
   ]
  },
  {
   "cell_type": "code",
   "execution_count": null,
   "id": "0dc0afb8",
   "metadata": {},
   "outputs": [],
   "source": [
    "l3=[1,2,3,4,6,6,8,9]\n",
    "l3=[i**4 for i in l3]\n",
    "    \n",
    "l3"
   ]
  },
  {
   "cell_type": "code",
   "execution_count": null,
   "id": "cce75511",
   "metadata": {},
   "outputs": [],
   "source": [
    "l1=[4,5,6,7,8,9,10,11,12]\n",
    "l2=[i+j for i in l1 for j in l3]\n",
    "l2\n"
   ]
  },
  {
   "cell_type": "code",
   "execution_count": null,
   "id": "9683b175",
   "metadata": {},
   "outputs": [],
   "source": [
    "l1=[1,2,3,4,5,6]\n",
    "l2=[1,2,3,4,5,6]\n",
    "l3=[x+y for x in l1 for y in l2]\n",
    "print(len(l3))\n",
    "l4=[]\n",
    "for i in l3:\n",
    "    if i>5:\n",
    "        l4.append(i)\n",
    "print(l4)\n",
    "l3\n",
    "probablity=len(l4)/len(l3)\n",
    "print(probablity)\n",
    "l5=[x+y for x in l1 for y in l2 if x+y>6]\n",
    "p_A=len(l5)/36\n",
    "print(p_A)\n",
    "l5"
   ]
  },
  {
   "cell_type": "code",
   "execution_count": null,
   "id": "cb476192",
   "metadata": {},
   "outputs": [],
   "source": [
    "l6=[\"h\",\"t\"]\n",
    "l3=[\"h\",\"t\"]\n",
    "l1=[\"h\",\"t\"]\n",
    "l2=[\"h\",\"t\"]\n",
    "l4=[x+y+z+w for x in l1 for y in l2 for z in l3 for w in l6]\n",
    "l4\n",
    "h=0\n",
    "t=0\n",
    "print(l4)\n",
    "for i in l4:\n",
    "    b=i.count(\"t\")\n",
    "    print(\"no of tails is\",b)\n",
    "    a=i.count(\"h\")\n",
    "    print(\"no of heads is\",a)\n",
    "    if a==2:\n",
    "        h+=1\n",
    "    if b==3:\n",
    "        t+=1\n",
    "print(h)\n",
    "print(t)\n",
    "print(h/len(l4))\n",
    "\n",
    "\n",
    "\n"
   ]
  },
  {
   "cell_type": "code",
   "execution_count": null,
   "id": "4740988f",
   "metadata": {},
   "outputs": [],
   "source": [
    "l1=[1,2,3,4,5,7,8]\n",
    "l1.append(10)\n",
    "l1.append([11,12,13,14,15])\n",
    "l1.extend([11,12,13,14,15])\n",
    "l1.insert(6,7) #position add the element to that position\n",
    "l1\n",
    "#append inserts at the last of the list multiple elements gets added at a single index\n",
    "#extend inserts one or more elements at last of list multiple elements gets added at a single index\n",
    "#insert inserts at a specific of list ,can only add one element \n",
    "#l1[9]=sum(l1[9])\n",
    "l1[9]=max(l1[9])\n",
    "str1=\"TQ - Python\"\n",
    "#str1[6]=\"t\"\n",
    "print(str1.capitalize())\n",
    "print(str1)\n",
    "#string is immutable\n",
    "l1"
   ]
  },
  {
   "cell_type": "code",
   "execution_count": null,
   "id": "5999c3be",
   "metadata": {},
   "outputs": [],
   "source": [
    "l1=[1,2,3,5,6,7,8,9,10,11,12,123]\n",
    "l1.remove(123)\n",
    "l1"
   ]
  },
  {
   "cell_type": "code",
   "execution_count": null,
   "id": "53a0850a",
   "metadata": {},
   "outputs": [],
   "source": [
    "l1.clear()\n",
    "l1"
   ]
  },
  {
   "cell_type": "code",
   "execution_count": null,
   "id": "ac4b50d1",
   "metadata": {},
   "outputs": [],
   "source": [
    "l1"
   ]
  },
  {
   "cell_type": "code",
   "execution_count": null,
   "id": "5e3bb150",
   "metadata": {},
   "outputs": [],
   "source": [
    "l1=[1,2,3,5,6,7,8,9,10,11,12,123]\n",
    "l1.index(123)"
   ]
  },
  {
   "cell_type": "code",
   "execution_count": null,
   "id": "160191cc",
   "metadata": {},
   "outputs": [],
   "source": [
    "l1=[1,2,3,5,6,7,8,9,10,11,12,123]\n",
    "l1.reverse()\n",
    "l1"
   ]
  },
  {
   "cell_type": "code",
   "execution_count": null,
   "id": "15c0bf2e",
   "metadata": {},
   "outputs": [],
   "source": [
    "l1.sort()\n",
    "l1"
   ]
  },
  {
   "cell_type": "code",
   "execution_count": null,
   "id": "db790ae2",
   "metadata": {},
   "outputs": [],
   "source": [
    "l1=[1,2,3,5,6,7,8,9,10,11,12,25,654,123]\n",
    "l1.sort(reverse=True)\n",
    "l1\n"
   ]
  },
  {
   "cell_type": "code",
   "execution_count": null,
   "id": "4b0a73d3",
   "metadata": {},
   "outputs": [],
   "source": [
    "name=(\"santosh\")\n",
    "x=name.split()\n",
    "x\n",
    "\n",
    "print(x)\n"
   ]
  },
  {
   "cell_type": "code",
   "execution_count": null,
   "id": "68c84bba",
   "metadata": {},
   "outputs": [],
   "source": [
    "y=[\"SAntosh\"]\n",
    "y.reverse()\n",
    "y"
   ]
  },
  {
   "cell_type": "code",
   "execution_count": null,
   "id": "5261d394",
   "metadata": {},
   "outputs": [],
   "source": [
    "tuple1=(3,0,1,2,3,4,5,\"san\",55)\n",
    "print(\"count of 5 in tuple1\",tuple1.count(5))\n",
    "tuple1.index(5)\n",
    "print(\"type of tuple1\",type(tuple1))\n",
    "tuple2=(5,5,6,86,87)\n",
    "print(\"type of tuple2\",type(tuple2))\n",
    "print(max(tuple2))\n",
    "print(min(tuple2))\n",
    "sum(tuple2)"
   ]
  },
  {
   "cell_type": "code",
   "execution_count": null,
   "id": "bfe23b4b",
   "metadata": {},
   "outputs": [],
   "source": [
    "tuple2=(1,5)\n",
    "sum(tuple2)"
   ]
  },
  {
   "cell_type": "code",
   "execution_count": null,
   "id": "4bff51ed",
   "metadata": {},
   "outputs": [],
   "source": [
    "s1={\"saap\",1,2,3,45,56,45,4,\"san\"}\n",
    "s1"
   ]
  },
  {
   "cell_type": "code",
   "execution_count": 3,
   "id": "44450205",
   "metadata": {},
   "outputs": [
    {
     "data": {
      "text/plain": [
       "110"
      ]
     },
     "execution_count": 3,
     "metadata": {},
     "output_type": "execute_result"
    }
   ],
   "source": [
    "str1=\"san\"\n",
    "str1.isascii()       #order is fixed programing value used to alphabetical\n",
    "ord(\"n\")"
   ]
  },
  {
   "cell_type": "code",
   "execution_count": null,
   "id": "b3275419",
   "metadata": {},
   "outputs": [],
   "source": [
    "100,1000,2\n",
    "s3={1,2,35,54,2,54,655,25,22,22,522,2,5,55,\"santosh\",\"belge\"}\n",
    "s3"
   ]
  },
  {
   "cell_type": "code",
   "execution_count": null,
   "id": "b30d7368",
   "metadata": {},
   "outputs": [],
   "source": [
    "s3={1,1.4,2.6,5.3,6,5323.5,10.5,0.4,1.005,100.5,156.3,\"anjali\",\"sunny\",\"vaibhav\",1.000000005}\n",
    "s3"
   ]
  },
  {
   "cell_type": "code",
   "execution_count": null,
   "id": "c25aa72a",
   "metadata": {},
   "outputs": [],
   "source": [
    "s5={22,22,3,555,55,35.5,55,5.3,0.02,0.225,222,22,2,2}\n",
    "s5"
   ]
  },
  {
   "cell_type": "code",
   "execution_count": 4,
   "id": "81c5caa5",
   "metadata": {},
   "outputs": [
    {
     "name": "stdout",
     "output_type": "stream",
     "text": [
      "46\n",
      "unique characters of string are 19\n"
     ]
    }
   ],
   "source": [
    "z=\"my name is sb alurkar and i am learning python\"\n",
    "c=[]\n",
    "for i in z:\n",
    "    c.append(i)\n",
    "    \n",
    "print(len(c))\n",
    "print(\"unique characters of string are\",len(set(c)))"
   ]
  },
  {
   "cell_type": "code",
   "execution_count": 5,
   "id": "e95d27a4",
   "metadata": {},
   "outputs": [
    {
     "name": "stdout",
     "output_type": "stream",
     "text": [
      "19\n",
      "7\n"
     ]
    }
   ],
   "source": [
    "a=\"highh  jjndj jdjdjj\"\n",
    "print(len(a))\n",
    "print(len(set(a)))"
   ]
  },
  {
   "cell_type": "code",
   "execution_count": 6,
   "id": "11b1f1e6",
   "metadata": {},
   "outputs": [
    {
     "data": {
      "text/plain": [
       "{1, 2, 3, 4, 5, 6, 7, 9, 44, 54, 55, 78}"
      ]
     },
     "execution_count": 6,
     "metadata": {},
     "output_type": "execute_result"
    }
   ],
   "source": [
    "set1={1,3,4,5,6,7,9,78,54,2,44,55}\n",
    "set1"
   ]
  },
  {
   "cell_type": "code",
   "execution_count": 7,
   "id": "cfb2b48f",
   "metadata": {},
   "outputs": [
    {
     "data": {
      "text/plain": [
       "{1, 2, 3, 4, 5, 6, 7, 9, 10, 44, 54, 55, 78}"
      ]
     },
     "execution_count": 7,
     "metadata": {},
     "output_type": "execute_result"
    }
   ],
   "source": [
    "set1.add(10)\n",
    "set1"
   ]
  },
  {
   "cell_type": "code",
   "execution_count": 8,
   "id": "7ba54e59",
   "metadata": {},
   "outputs": [
    {
     "data": {
      "text/plain": [
       "set()"
      ]
     },
     "execution_count": 8,
     "metadata": {},
     "output_type": "execute_result"
    }
   ],
   "source": [
    "set1.clear()\n",
    "set1"
   ]
  },
  {
   "cell_type": "code",
   "execution_count": 9,
   "id": "b606fc2f",
   "metadata": {},
   "outputs": [
    {
     "data": {
      "text/plain": [
       "{1, 2, 3, 4, 5, 6, 7, 9, 44, 54, 55, 78}"
      ]
     },
     "execution_count": 9,
     "metadata": {},
     "output_type": "execute_result"
    }
   ],
   "source": [
    "set1={1,3,4,5,6,7,9,78,54,2,44,55}\n",
    "set2=set1.copy()\n",
    "set2"
   ]
  },
  {
   "cell_type": "code",
   "execution_count": 10,
   "id": "050f1197",
   "metadata": {},
   "outputs": [
    {
     "data": {
      "text/plain": [
       "{1, 2, 3, 4, 5, 6, 7, 9, 44, 54, 55, 78}"
      ]
     },
     "execution_count": 10,
     "metadata": {},
     "output_type": "execute_result"
    }
   ],
   "source": [
    "set1.discard(10)\n",
    "set1"
   ]
  },
  {
   "cell_type": "code",
   "execution_count": 11,
   "id": "a5a461db",
   "metadata": {},
   "outputs": [
    {
     "data": {
      "text/plain": [
       "{2, 3, 4, 5, 6, 7, 9, 44, 54, 55, 78}"
      ]
     },
     "execution_count": 11,
     "metadata": {},
     "output_type": "execute_result"
    }
   ],
   "source": [
    "set1.pop()\n",
    "set1"
   ]
  },
  {
   "cell_type": "code",
   "execution_count": 12,
   "id": "bc27f5b1",
   "metadata": {},
   "outputs": [
    {
     "data": {
      "text/plain": [
       "{2, 3, 4, 5, 6, 7, 9, 44, 55, 78}"
      ]
     },
     "execution_count": 12,
     "metadata": {},
     "output_type": "execute_result"
    }
   ],
   "source": [
    "set1.discard(54)\n",
    "set1"
   ]
  },
  {
   "cell_type": "code",
   "execution_count": 13,
   "id": "25d05b76",
   "metadata": {},
   "outputs": [
    {
     "data": {
      "text/plain": [
       "{2, 3, 4, 5, 6, 7, 9, 44, 55}"
      ]
     },
     "execution_count": 13,
     "metadata": {},
     "output_type": "execute_result"
    }
   ],
   "source": [
    "set1.remove(78)\n",
    "set1"
   ]
  },
  {
   "cell_type": "code",
   "execution_count": 14,
   "id": "2c0c15bc",
   "metadata": {},
   "outputs": [
    {
     "data": {
      "text/plain": [
       "{1, 2, 3, 4, 5, 6, 7, 9, 44, 54, 55, 78}"
      ]
     },
     "execution_count": 14,
     "metadata": {},
     "output_type": "execute_result"
    }
   ],
   "source": [
    "set1.update(set2)\n",
    "set1"
   ]
  },
  {
   "cell_type": "code",
   "execution_count": 15,
   "id": "57d21efd",
   "metadata": {},
   "outputs": [
    {
     "data": {
      "text/plain": [
       "{1, 2, 3, 4, 5, 6, 7, 9, 44, 54, 55, 78}"
      ]
     },
     "execution_count": 15,
     "metadata": {},
     "output_type": "execute_result"
    }
   ],
   "source": [
    "set1.union(set2)\n",
    "set1"
   ]
  },
  {
   "cell_type": "code",
   "execution_count": 16,
   "id": "2928843b",
   "metadata": {},
   "outputs": [
    {
     "data": {
      "text/plain": [
       "{1, 2, 3, 4, 5, 6, 7, 8, 12, 22, 32, 54, 55, 65, 89, 558}"
      ]
     },
     "execution_count": 16,
     "metadata": {},
     "output_type": "execute_result"
    }
   ],
   "source": [
    "set1={1,2,3,4,5,6,7,89,54}\n",
    "set2={1,2,3,8,65,22,55,55,558,65,12,32}\n",
    "set1.union(set2)\n"
   ]
  },
  {
   "cell_type": "code",
   "execution_count": 17,
   "id": "9abac685",
   "metadata": {},
   "outputs": [
    {
     "name": "stdout",
     "output_type": "stream",
     "text": [
      "{1, 2, 3, 4, 5, 6, 7, 65, 8, 12, 22, 89, 32, 558, 54, 55}\n"
     ]
    }
   ],
   "source": [
    "print(set1.union(set2))"
   ]
  },
  {
   "cell_type": "code",
   "execution_count": 18,
   "id": "94d9ae24",
   "metadata": {},
   "outputs": [
    {
     "data": {
      "text/plain": [
       "{1, 2, 3, 4, 5, 6, 7, 8, 12, 22, 32, 54, 55, 65, 89, 558}"
      ]
     },
     "execution_count": 18,
     "metadata": {},
     "output_type": "execute_result"
    }
   ],
   "source": [
    "set1.update(set2)\n",
    "set1"
   ]
  },
  {
   "cell_type": "code",
   "execution_count": 19,
   "id": "71ed2a4a",
   "metadata": {},
   "outputs": [
    {
     "data": {
      "text/plain": [
       "{4, 5, 6, 7, 54, 89}"
      ]
     },
     "execution_count": 19,
     "metadata": {},
     "output_type": "execute_result"
    }
   ],
   "source": [
    "set1.difference(set2)"
   ]
  },
  {
   "cell_type": "code",
   "execution_count": 20,
   "id": "07af744f",
   "metadata": {},
   "outputs": [],
   "source": [
    "set1.intersection_update(set2)"
   ]
  },
  {
   "cell_type": "code",
   "execution_count": 21,
   "id": "38590067",
   "metadata": {},
   "outputs": [
    {
     "data": {
      "text/plain": [
       "{1, 2, 3, 8, 12, 22, 32, 55, 65, 558}"
      ]
     },
     "execution_count": 21,
     "metadata": {},
     "output_type": "execute_result"
    }
   ],
   "source": [
    "set1"
   ]
  },
  {
   "cell_type": "code",
   "execution_count": 22,
   "id": "8ea4f214",
   "metadata": {},
   "outputs": [
    {
     "data": {
      "text/plain": [
       "{1, 2, 5, 6, 7, 8, 9, 10, 12, 52, 55, 85}"
      ]
     },
     "execution_count": 22,
     "metadata": {},
     "output_type": "execute_result"
    }
   ],
   "source": [
    "set1={1,2,5,55,5,6,8,9,10,2,5,2,52,5,5}\n",
    "set2={6,7,85,55,5,5,10,12,2,5}\n",
    "set1.union(set2)\n"
   ]
  },
  {
   "cell_type": "code",
   "execution_count": 23,
   "id": "25773140",
   "metadata": {},
   "outputs": [
    {
     "data": {
      "text/plain": [
       "{1, 2, 5, 6, 7, 8, 9, 10, 12, 52, 55, 85}"
      ]
     },
     "execution_count": 23,
     "metadata": {},
     "output_type": "execute_result"
    }
   ],
   "source": [
    "set1.update(set2)\n",
    "set1"
   ]
  },
  {
   "cell_type": "code",
   "execution_count": 24,
   "id": "ae538c0b",
   "metadata": {},
   "outputs": [
    {
     "data": {
      "text/plain": [
       "{1, 8, 9, 52}"
      ]
     },
     "execution_count": 24,
     "metadata": {},
     "output_type": "execute_result"
    }
   ],
   "source": [
    "set1.difference(set2)"
   ]
  },
  {
   "cell_type": "code",
   "execution_count": 25,
   "id": "f02e22a1",
   "metadata": {},
   "outputs": [
    {
     "data": {
      "text/plain": [
       "{2, 5, 6, 7, 10, 12, 55, 85}"
      ]
     },
     "execution_count": 25,
     "metadata": {},
     "output_type": "execute_result"
    }
   ],
   "source": [
    "set1.intersection(set2)"
   ]
  },
  {
   "cell_type": "code",
   "execution_count": 26,
   "id": "222567dc",
   "metadata": {},
   "outputs": [
    {
     "data": {
      "text/plain": [
       "{1, 8, 9, 52}"
      ]
     },
     "execution_count": 26,
     "metadata": {},
     "output_type": "execute_result"
    }
   ],
   "source": [
    "set1.symmetric_difference(set2)\n",
    "\n"
   ]
  },
  {
   "cell_type": "code",
   "execution_count": 27,
   "id": "75e7dc21",
   "metadata": {},
   "outputs": [
    {
     "data": {
      "text/plain": [
       "False"
      ]
     },
     "execution_count": 27,
     "metadata": {},
     "output_type": "execute_result"
    }
   ],
   "source": [
    "set1.isdisjoint(set2)"
   ]
  },
  {
   "cell_type": "code",
   "execution_count": 28,
   "id": "5c5433a1",
   "metadata": {},
   "outputs": [
    {
     "data": {
      "text/plain": [
       "False"
      ]
     },
     "execution_count": 28,
     "metadata": {},
     "output_type": "execute_result"
    }
   ],
   "source": [
    "set1.issubset(set2)"
   ]
  },
  {
   "cell_type": "code",
   "execution_count": 29,
   "id": "f3c994b3",
   "metadata": {},
   "outputs": [
    {
     "data": {
      "text/plain": [
       "True"
      ]
     },
     "execution_count": 29,
     "metadata": {},
     "output_type": "execute_result"
    }
   ],
   "source": [
    "set1.issuperset(set2)"
   ]
  },
  {
   "cell_type": "code",
   "execution_count": 30,
   "id": "d65896c7",
   "metadata": {},
   "outputs": [
    {
     "name": "stdout",
     "output_type": "stream",
     "text": [
      "{8, 1, 52, 9}\n"
     ]
    }
   ],
   "source": [
    "print(set1.difference(set2))"
   ]
  },
  {
   "cell_type": "code",
   "execution_count": 31,
   "id": "56f93a23",
   "metadata": {},
   "outputs": [
    {
     "name": "stdout",
     "output_type": "stream",
     "text": [
      "{2, 5, 6, 7, 10, 12, 85, 55}\n"
     ]
    }
   ],
   "source": [
    "print(set1.intersection(set2))"
   ]
  },
  {
   "cell_type": "code",
   "execution_count": 32,
   "id": "3ac9fe24",
   "metadata": {},
   "outputs": [
    {
     "name": "stdout",
     "output_type": "stream",
     "text": [
      "{1, 8, 9, 52}\n"
     ]
    }
   ],
   "source": [
    "print(set1.symmetric_difference(set2))"
   ]
  },
  {
   "cell_type": "code",
   "execution_count": 33,
   "id": "e49ae3fb",
   "metadata": {},
   "outputs": [
    {
     "name": "stdout",
     "output_type": "stream",
     "text": [
      "\n"
     ]
    },
    {
     "ename": "ValueError",
     "evalue": "invalid literal for int() with base 10: ''",
     "output_type": "error",
     "traceback": [
      "\u001b[1;31m---------------------------------------------------------------------------\u001b[0m",
      "\u001b[1;31mValueError\u001b[0m                                Traceback (most recent call last)",
      "\u001b[1;32m~\\AppData\\Local\\Temp\\ipykernel_21856\\2908665516.py\u001b[0m in \u001b[0;36m<module>\u001b[1;34m\u001b[0m\n\u001b[1;32m----> 1\u001b[1;33m \u001b[0mn\u001b[0m\u001b[1;33m=\u001b[0m\u001b[0mint\u001b[0m\u001b[1;33m(\u001b[0m\u001b[0minput\u001b[0m\u001b[1;33m(\u001b[0m\u001b[1;33m)\u001b[0m\u001b[1;33m)\u001b[0m\u001b[1;33m\u001b[0m\u001b[1;33m\u001b[0m\u001b[0m\n\u001b[0m\u001b[0;32m      2\u001b[0m \u001b[1;32mfor\u001b[0m \u001b[0mi\u001b[0m \u001b[1;32min\u001b[0m \u001b[0mrange\u001b[0m\u001b[1;33m(\u001b[0m\u001b[1;36m0\u001b[0m\u001b[1;33m,\u001b[0m\u001b[0mn\u001b[0m\u001b[1;33m)\u001b[0m\u001b[1;33m:\u001b[0m\u001b[1;33m\u001b[0m\u001b[1;33m\u001b[0m\u001b[0m\n\u001b[0;32m      3\u001b[0m     \u001b[1;32mfor\u001b[0m \u001b[0mj\u001b[0m \u001b[1;32min\u001b[0m \u001b[0mrange\u001b[0m\u001b[1;33m(\u001b[0m\u001b[1;36m0\u001b[0m\u001b[1;33m,\u001b[0m\u001b[0mi\u001b[0m\u001b[1;33m+\u001b[0m\u001b[1;36m1\u001b[0m\u001b[1;33m)\u001b[0m\u001b[1;33m:\u001b[0m\u001b[1;33m\u001b[0m\u001b[1;33m\u001b[0m\u001b[0m\n\u001b[0;32m      4\u001b[0m         \u001b[0mprint\u001b[0m\u001b[1;33m(\u001b[0m\u001b[1;34m\"*\"\u001b[0m\u001b[1;33m,\u001b[0m\u001b[0mend\u001b[0m\u001b[1;33m=\u001b[0m\u001b[1;34m\" \"\u001b[0m\u001b[1;33m)\u001b[0m\u001b[1;33m\u001b[0m\u001b[1;33m\u001b[0m\u001b[0m\n\u001b[0;32m      5\u001b[0m     \u001b[0mprint\u001b[0m\u001b[1;33m(\u001b[0m\u001b[1;33m)\u001b[0m\u001b[1;33m\u001b[0m\u001b[1;33m\u001b[0m\u001b[0m\n",
      "\u001b[1;31mValueError\u001b[0m: invalid literal for int() with base 10: ''"
     ]
    }
   ],
   "source": [
    "n=int(input())\n",
    "for i in range(0,n):\n",
    "    for j in range(0,i+1):\n",
    "        print(\"*\",end=\" \")\n",
    "    print()\n",
    "        "
   ]
  },
  {
   "cell_type": "code",
   "execution_count": null,
   "id": "3a834ce8",
   "metadata": {},
   "outputs": [],
   "source": [
    "n=int(input())\n",
    "for i in range(0,n):\n",
    "    for j in range(0,i+1):\n",
    "        print(\"\",end=\"\")\n",
    "    for j in range((n-i)-1):\n",
    "        print(chr(97+j),end=\" \")\n",
    "    print()\n",
    "        "
   ]
  },
  {
   "cell_type": "code",
   "execution_count": 34,
   "id": "86823a29",
   "metadata": {},
   "outputs": [
    {
     "name": "stdout",
     "output_type": "stream",
     "text": [
      "521\n",
      "519\n",
      "517\n",
      "515\n",
      "513\n",
      "511\n",
      "509\n",
      "507\n",
      "505\n",
      "503\n",
      "501\n",
      "499\n",
      "497\n",
      "495\n",
      "493\n",
      "491\n",
      "489\n",
      "487\n",
      "485\n",
      "483\n",
      "481\n",
      "479\n",
      "477\n",
      "475\n",
      "473\n",
      "471\n",
      "469\n",
      "467\n",
      "465\n",
      "463\n",
      "461\n",
      "459\n",
      "457\n",
      "455\n",
      "453\n",
      "451\n",
      "449\n",
      "447\n",
      "445\n",
      "443\n",
      "441\n",
      "439\n",
      "437\n",
      "435\n",
      "433\n",
      "431\n",
      "429\n",
      "427\n",
      "425\n",
      "423\n",
      "421\n",
      "419\n",
      "417\n",
      "415\n",
      "413\n",
      "411\n",
      "409\n",
      "407\n",
      "405\n",
      "403\n",
      "401\n",
      "399\n",
      "397\n",
      "395\n",
      "393\n",
      "391\n",
      "389\n",
      "387\n",
      "385\n",
      "383\n",
      "381\n",
      "379\n",
      "377\n",
      "375\n",
      "373\n",
      "371\n",
      "369\n",
      "367\n",
      "365\n",
      "363\n",
      "361\n",
      "359\n",
      "357\n",
      "355\n",
      "353\n",
      "351\n",
      "349\n",
      "347\n",
      "345\n",
      "343\n",
      "341\n",
      "339\n",
      "337\n",
      "335\n",
      "333\n",
      "331\n",
      "329\n",
      "327\n",
      "325\n",
      "323\n",
      "321\n",
      "319\n",
      "317\n",
      "315\n",
      "313\n",
      "311\n",
      "309\n",
      "307\n",
      "305\n",
      "303\n",
      "301\n",
      "299\n",
      "297\n",
      "295\n",
      "293\n",
      "291\n",
      "289\n",
      "287\n",
      "285\n",
      "283\n",
      "281\n",
      "279\n",
      "277\n",
      "275\n",
      "273\n",
      "271\n",
      "269\n",
      "267\n",
      "265\n",
      "263\n",
      "261\n",
      "259\n",
      "257\n",
      "255\n",
      "253\n",
      "251\n",
      "249\n",
      "247\n",
      "245\n",
      "243\n",
      "241\n",
      "239\n",
      "237\n",
      "235\n",
      "233\n",
      "231\n",
      "229\n"
     ]
    }
   ],
   "source": [
    "n=521\n",
    "while n>228:\n",
    "    if n%2!=0:\n",
    "        print(n)\n",
    "    n=n-1"
   ]
  },
  {
   "cell_type": "code",
   "execution_count": null,
   "id": "a765c2d8",
   "metadata": {},
   "outputs": [],
   "source": [
    "for i in range (100,5):\n",
    "    print(i)\n",
    "range(100)\n"
   ]
  },
  {
   "cell_type": "code",
   "execution_count": null,
   "id": "d0725ec5",
   "metadata": {},
   "outputs": [],
   "source": [
    "range(10,100)"
   ]
  },
  {
   "cell_type": "code",
   "execution_count": null,
   "id": "741c6223",
   "metadata": {},
   "outputs": [],
   "source": [
    "sum1=0\n",
    "for i in range(11):\n",
    "    sum1+=i\n",
    "    print(\"the value of i after iteration is\",i)\n",
    "    print(sum1)\n",
    "print(sum1)"
   ]
  },
  {
   "cell_type": "code",
   "execution_count": null,
   "id": "2a898049",
   "metadata": {},
   "outputs": [],
   "source": [
    "num=int(input(\"enter a value\"))\n",
    "for i in range(2,num+1):\n",
    "    for j in range(2,((i+1//2))):\n",
    "        if i%j==0:\n",
    "            break\n",
    "    else:\n",
    "        print(i)        #prime  numbers\n",
    "        "
   ]
  },
  {
   "cell_type": "code",
   "execution_count": null,
   "id": "e661e7fe",
   "metadata": {},
   "outputs": [],
   "source": [
    "x=123\n",
    "y=456\n",
    "print(\"the numbers without swapping\",x,\"and\",y )\n",
    "x,y=y,x\n",
    "print(\"the numbers after swapping\",x,\"and\",y)"
   ]
  },
  {
   "cell_type": "code",
   "execution_count": null,
   "id": "fa38d594",
   "metadata": {},
   "outputs": [],
   "source": [
    "str1=input()\n",
    "c=0\n",
    "vowels=[\"A\",\"E\",\"I\",\"O\",\"U\",\"a\",\"e\",\"i\",\"o\",\"u\"]\n",
    "for letter in str1:\n",
    "    if letter in vowels:\n",
    "        c=c+1\n",
    "print(\"the count of vowels in string is\",c)"
   ]
  },
  {
   "cell_type": "code",
   "execution_count": 35,
   "id": "a7b1f388",
   "metadata": {},
   "outputs": [
    {
     "name": "stdout",
     "output_type": "stream",
     "text": [
      "senete\n",
      "['senete']\n",
      "1 senete\n"
     ]
    }
   ],
   "source": [
    "sentence=input()\n",
    "word=sentence.split()\n",
    "print(word)\n",
    "for i in word:\n",
    "    c=word.count(i)\n",
    "    print(c,i)"
   ]
  },
  {
   "cell_type": "code",
   "execution_count": null,
   "id": "bc1c56a5",
   "metadata": {},
   "outputs": [],
   "source": [
    "sentence=input()\n",
    "word=sentence.split()\n",
    "print(word)\n",
    "for i in word:\n",
    "    c=word.count(i)\n",
    "    print(c,i)"
   ]
  },
  {
   "cell_type": "code",
   "execution_count": null,
   "id": "cda0a573",
   "metadata": {},
   "outputs": [],
   "source": [
    "sentence=input()\n",
    "x=sentence.swapcase()\n",
    "print(x)"
   ]
  },
  {
   "cell_type": "code",
   "execution_count": null,
   "id": "759e585f",
   "metadata": {},
   "outputs": [],
   "source": [
    "n=int(input())\n",
    "fact=1\n",
    "sum=0\n",
    "for i in range(1,n+1):\n",
    "    fact=fact*i\n",
    "    sum+=fact\n",
    "print(fact)\n",
    "print(sum)"
   ]
  },
  {
   "cell_type": "code",
   "execution_count": null,
   "id": "8b42cb23",
   "metadata": {},
   "outputs": [],
   "source": [
    "m=int(input())\n",
    "n=int(input())\n",
    "d=min(m,n)       #hcf or gcd\n",
    "\n",
    "while True:\n",
    "    if ((m%d==0) and (n%d==0)):\n",
    "        print(d,\"is the gcd\")\n",
    "        break\n",
    "    else:\n",
    "        d=d-1\n",
    "lcm=m*n/d\n",
    "print(lcm)"
   ]
  },
  {
   "cell_type": "code",
   "execution_count": null,
   "id": "63885344",
   "metadata": {},
   "outputs": [],
   "source": [
    "m=int(input())\n",
    "n=int(input())\n",
    "lcm=max(m,n)\n",
    "while True:\n",
    "    if ((lcm%m==0) and (lcm%n==0)):\n",
    "        print(lcm)\n",
    "        break\n",
    "    else:\n",
    "        lcm+=1"
   ]
  },
  {
   "cell_type": "code",
   "execution_count": null,
   "id": "37443671",
   "metadata": {},
   "outputs": [],
   "source": [
    "x=int(input(\"enter the base\"))\n",
    "y=int(input(\"enter the index\"))\n",
    "power=x**y\n",
    "print(\"x to the power y\",power)"
   ]
  },
  {
   "cell_type": "code",
   "execution_count": null,
   "id": "615830a9",
   "metadata": {},
   "outputs": [],
   "source": [
    "num=input()\n",
    "d=input()\n",
    "c=0\n",
    "for i in num:\n",
    "    if i==d:\n",
    "        c+=1\n",
    "print(c/len(num))"
   ]
  },
  {
   "cell_type": "code",
   "execution_count": null,
   "id": "1cc164e9",
   "metadata": {},
   "outputs": [],
   "source": [
    "num=int(input())\n",
    "sum=0\n",
    "n1=str(num)\n",
    "\n",
    "temp=num\n",
    "while temp>0:\n",
    "    digit=temp%10\n",
    "    sum+=digit**len(n1)\n",
    "    temp//=10\n",
    "if num==sum:\n",
    "    print(num,\"is an armstrong number\")\n",
    "else:\n",
    "    print(num,\"is not armstrong number\")"
   ]
  },
  {
   "cell_type": "code",
   "execution_count": null,
   "id": "c87ef2ca",
   "metadata": {},
   "outputs": [],
   "source": [
    "list1=[\"Red\",\"Green\",\"Black\",\"Pink\",\"Yellow\",\"White\"]\n",
    "del(list1[5],list1[4],list1[0])\n",
    "list1"
   ]
  },
  {
   "cell_type": "code",
   "execution_count": null,
   "id": "1be26543",
   "metadata": {},
   "outputs": [],
   "source": [
    "num=int(input())\n",
    "sum=0\n",
    "while (num>0):\n",
    "    rem=num%10\n",
    "    sum=sum+rem\n",
    "    num=num//10\n",
    "print(sum)\n",
    "if num%sum==0:\n",
    "    print(\"it is harshad number\")\n",
    "else:\n",
    "    print(\"it is not a harshad number\")"
   ]
  },
  {
   "cell_type": "code",
   "execution_count": null,
   "id": "13c80050",
   "metadata": {},
   "outputs": [],
   "source": [
    "str1=input()\n",
    "f=\"\"\n",
    "for i in range(len(str1)):\n",
    "    if i%2==0:\n",
    "        f=f+str1[i]\n",
    "print(f)"
   ]
  },
  {
   "cell_type": "code",
   "execution_count": null,
   "id": "9a329103",
   "metadata": {},
   "outputs": [],
   "source": [
    "str1=input()\n",
    "f=\"\"\n",
    "for i in range(len(str1)):\n",
    "    if i%2==0:\n",
    "        f=f+str1[i]\n",
    "print(f)"
   ]
  },
  {
   "cell_type": "code",
   "execution_count": null,
   "id": "30dd2e07",
   "metadata": {},
   "outputs": [],
   "source": [
    "str1=input()\n",
    "f=\"\"\n",
    "for i in range(len(str1)):\n",
    "    if i%2==0:\n",
    "        f=f+str1[i]\n",
    "print(f)"
   ]
  },
  {
   "cell_type": "code",
   "execution_count": null,
   "id": "ec02aac5",
   "metadata": {},
   "outputs": [],
   "source": [
    "test1={1:23,2:34,3:23,4:63,5:35,6:23,7:59,8:56}\n",
    "test1.keys()"
   ]
  },
  {
   "cell_type": "code",
   "execution_count": null,
   "id": "22b420b1",
   "metadata": {},
   "outputs": [],
   "source": [
    "print(print(test1.values()))"
   ]
  },
  {
   "cell_type": "code",
   "execution_count": null,
   "id": "b5ff2ac3",
   "metadata": {},
   "outputs": [],
   "source": [
    "test1.items()"
   ]
  },
  {
   "cell_type": "code",
   "execution_count": null,
   "id": "a108f1bd",
   "metadata": {},
   "outputs": [],
   "source": [
    "test1.pop(6)"
   ]
  },
  {
   "cell_type": "code",
   "execution_count": null,
   "id": "969fa371",
   "metadata": {},
   "outputs": [],
   "source": [
    "test1.popitem()"
   ]
  },
  {
   "cell_type": "code",
   "execution_count": null,
   "id": "d549678e",
   "metadata": {},
   "outputs": [],
   "source": [
    "test1={1:23,2:34,3:23,4:63,9:98,5:35,6:23,7:59,8:56}\n",
    "test1.keys()"
   ]
  },
  {
   "cell_type": "code",
   "execution_count": null,
   "id": "74342120",
   "metadata": {},
   "outputs": [],
   "source": [
    "dict1={1:23,2:34,3:23,4:63,9:98,5:35,6:23,7:59,8:56}\n",
    "dict1[\"items\"]=list(range(50,60))\n",
    "for value in dict1.values():\n",
    "    print(value)\n",
    "for key in dict1.keys():\n",
    "    print(key)"
   ]
  },
  {
   "cell_type": "code",
   "execution_count": null,
   "id": "1225f30a",
   "metadata": {},
   "outputs": [],
   "source": [
    "state_capital={\"Maharashtra\":\"Mumbai\",\"UP\":\"Lucknow\",\"Punjab\":\"Chandigarh\",\"Haryana\":\"Chandigarh\",\"Jammu and Kashmir\":\"Jammu\",\"Jammu and Kashmir\":\"Srinagar\"}\n",
    "capital=input()\n",
    "list1=[]\n",
    "for key,value in state_capital.items():\n",
    "    if capital==value:\n",
    "        list1.append(value)\n",
    "        print(key)\n",
    "        \n",
    "    if len(list1)==0:\n",
    "        print(\"no value exist\")\n",
    "        break"
   ]
  },
  {
   "cell_type": "code",
   "execution_count": null,
   "id": "1453c3a6",
   "metadata": {},
   "outputs": [],
   "source": [
    "x=state_capital.copy()\n",
    "x.clear\n",
    "x"
   ]
  },
  {
   "cell_type": "code",
   "execution_count": null,
   "id": "566d6fb5",
   "metadata": {},
   "outputs": [],
   "source": [
    "state_capital={\"Maharashtra\":\"Mumbai\",\"UP\":\"Lucknow\",\"Punjab\":\"Chandigarh\",\"Haryana\":\"Chandigarh\",\"Jammu and Kashmir\":\"Jammu\",\"Jammu and Kashmir\":\"Srinagar\"}\n",
    "state_capital.fromkeys(x,[1000,1230,1400,1452])"
   ]
  },
  {
   "cell_type": "code",
   "execution_count": null,
   "id": "84c1a545",
   "metadata": {},
   "outputs": [],
   "source": [
    "list1=[\"Devang\",\"Sumit\",\"Kajol\",\"Sunny\",\"Shubham\",\"Devendra\",\"Viru\"]\n",
    "word=input()\n",
    "x=len(word)\n",
    "print(x)\n",
    "word_1=[]\n",
    "for word in list1:\n",
    "    \n"
   ]
  },
  {
   "cell_type": "code",
   "execution_count": null,
   "id": "6b56b749",
   "metadata": {},
   "outputs": [],
   "source": [
    "n=int(input())\n",
    "for i in range(0,n):\n",
    "   \n",
    "    #PRINTING THE ELEMENT\n",
    "    for j in range((n-i)-1): #[6,5,4,3,2,1]\n",
    "        print(chr(97+j),end=\" \")\n",
    "    print()"
   ]
  },
  {
   "cell_type": "code",
   "execution_count": null,
   "id": "0fddeb63",
   "metadata": {},
   "outputs": [],
   "source": [
    "n=int(input())\n",
    "for i in range(0,n): #[0,1,2,3,4,5,6] [2]\n",
    "    for j in range(0,i+1):#[0,1\n",
    "        print(\"*\",end=\" \")\n",
    "        \n",
    "    print()"
   ]
  },
  {
   "cell_type": "code",
   "execution_count": null,
   "id": "06f1caf2",
   "metadata": {},
   "outputs": [],
   "source": [
    "n=int(input())\n",
    "for i in range(0,n):\n",
    "    for j in range((n-i)-1):\n",
    "        print(\"*\",end=\" \")\n",
    "    print()"
   ]
  },
  {
   "cell_type": "code",
   "execution_count": null,
   "id": "24d6180d",
   "metadata": {},
   "outputs": [],
   "source": [
    "n=int(input())\n",
    "\n",
    "for i in range(0,n):\n",
    "    for j in range((n-i)-1):\n",
    "        print(\"*\",end=\" \")\n",
    "    print()\n",
    "for k in range(0,n):\n",
    "    for j in range(0,k+1):\n",
    "        print(\"*\",end=\" \")\n",
    "    print()    \n"
   ]
  },
  {
   "cell_type": "code",
   "execution_count": null,
   "id": "cc0cadcc",
   "metadata": {},
   "outputs": [],
   "source": [
    "list1=[10,20,30,40,50]\n",
    "list2=[100,200,300,400,500]\n",
    "l=(list1[1::2])\n",
    "print(l)\n",
    "l1=list2[::2]\n",
    "print(l1)\n",
    "print(sum(l))\n",
    "print(sum(l1))\n",
    "\n",
    "for x,y in zip(list1,list2[::-1]):\n",
    "    print(x,y)"
   ]
  },
  {
   "cell_type": "code",
   "execution_count": null,
   "id": "96cce39f",
   "metadata": {},
   "outputs": [],
   "source": [
    "list2 = [12,25,65,85,85]\n",
    "print(list2)\n",
    "\n",
    "print(list2[::2])\n",
    "\n",
    "total = sum(list2)\n",
    "\n",
    "print(total)\n",
    "    \n",
    "list1 = [12,10,20]\n",
    "list2 = [10,25,35]\n",
    "\n",
    "#for  i in (b,a) in (list2,list1) if zip(list2,list1):\n",
    "    #print(i)\n",
    "    \n",
    "list3 = [ i for sublist in zip(list1,list2 ) for i in sublist]\n",
    "print(list3)\n",
    "\n",
    "\n",
    "\n",
    "\n",
    "square = lambda x:x**2 \n",
    "\n",
    "square(25)\n",
    "\n",
    "\n",
    "\n",
    "\n",
    "\n",
    "\n",
    "\n",
    "\n",
    "\n",
    "\n",
    "    \n",
    "# 77,110,150\n",
    "\n",
    "        \n",
    "    \n",
    "    \n",
    "    \n",
    "    \n"
   ]
  },
  {
   "cell_type": "code",
   "execution_count": null,
   "id": "81a6f0a8",
   "metadata": {},
   "outputs": [],
   "source": [
    "#lambda function\n",
    "\n",
    "str1 = 'geeksforgeeks'\n",
    "\n",
    "sb = lambda string : string.upper() [::-1]\n",
    "\n",
    "print(sb(str1))\n",
    "\n",
    "\n",
    "\n",
    "#\n",
    "#l=str1.upper()\n",
    "#print(l[::-1])"
   ]
  },
  {
   "cell_type": "code",
   "execution_count": null,
   "id": "e01732b3",
   "metadata": {},
   "outputs": [],
   "source": [
    "format_numeric = lambda num: f\"{num:e}\" if isinstance(num,int) else f\"{num:,.2f}\"\n",
    "print(\"int formating :\",format_numeric(1000000))\n",
    "print(\"float formating:\",format_numeric(999999.789541235))"
   ]
  },
  {
   "cell_type": "code",
   "execution_count": null,
   "id": "c0fe8938",
   "metadata": {},
   "outputs": [],
   "source": [
    "square = lambda x : x ** 2\n",
    "cube = lambda x : x**3\n",
    "square(5)\n",
    "cube(123)"
   ]
  },
  {
   "cell_type": "code",
   "execution_count": null,
   "id": "bcfa395a",
   "metadata": {},
   "outputs": [],
   "source": [
    "even_list = [lambda arg = x: arg * 10 for x in range(1,5)]\n",
    "for i in even_list :\n",
    "    print(i())\n"
   ]
  },
  {
   "cell_type": "code",
   "execution_count": null,
   "id": "fa4aebd1",
   "metadata": {},
   "outputs": [],
   "source": [
    "max = lambda a,b : a if(a>b) else b\n",
    "print(max(125,2548))"
   ]
  },
  {
   "cell_type": "code",
   "execution_count": null,
   "id": "b780485b",
   "metadata": {},
   "outputs": [],
   "source": [
    "list1 = [[2,3,4],[1,4,16,64],[3,6,9,12]]\n",
    "\n",
    "sortList= lambda x:(sorted(i) for i in x)\n",
    "\n",
    "\n",
    "secondlargest = lambda x,f: [y[len(y)-2] for y in f(x)]\n",
    "res = secondlargest (list1 , sortList)\n",
    "\n",
    "print(res)\n"
   ]
  },
  {
   "cell_type": "code",
   "execution_count": null,
   "id": "3f59bc9b",
   "metadata": {},
   "outputs": [],
   "source": [
    "li = [5,7,22,97,54,62,77,23,73,61]\n",
    "\n",
    "final_list = list(filter(lambda x:(x%2 !=0),li))  # odd x%2==1 / even \n",
    "\n",
    "\n",
    "print(final_list)"
   ]
  },
  {
   "cell_type": "code",
   "execution_count": null,
   "id": "c56a1722",
   "metadata": {},
   "outputs": [],
   "source": [
    "ages = [13,90,17,59,21,60,5]\n",
    "\n",
    "adults = list(filter(lambda x:(x>18),ages))\n",
    "print(adults)"
   ]
  },
  {
   "cell_type": "code",
   "execution_count": null,
   "id": "7a881728",
   "metadata": {},
   "outputs": [],
   "source": [
    "li = [20,25,30,35,65,85,78,45]\n",
    "final_li = list(filter(lambda x:x%2 !=0,li))\n",
    "print(final_li)\n",
    "print((final_li))\n",
    "\n",
    "list1 = ((45,25))\n",
    "print((list1))"
   ]
  },
  {
   "cell_type": "code",
   "execution_count": null,
   "id": "4bfc84d7",
   "metadata": {},
   "outputs": [],
   "source": [
    "li = [5,7,22,97,54,62,77,23,73,63,61]\n",
    "\n",
    "\n",
    "#final_list = list(filter(lambda x:x*2 !=0,li))\n",
    "\n",
    "#print(final_list)\n",
    "\n",
    "fi = list(map(lambda x:x*2,li))\n",
    "\n",
    "print(fi)\n",
    "\n",
    "square = list(map(lambda x:x**2,fi))\n",
    "print(square)"
   ]
  },
  {
   "cell_type": "code",
   "execution_count": null,
   "id": "dc8918c9",
   "metadata": {},
   "outputs": [],
   "source": [
    "animals = ['dog','cat','parrot','rabbit']\n",
    "\n",
    "secondname = list(map(lambda animal:animal.upper(),animals))\n",
    "\n",
    "print(secondname)"
   ]
  },
  {
   "cell_type": "code",
   "execution_count": null,
   "id": "5b6fa5cb",
   "metadata": {},
   "outputs": [],
   "source": [
    "secondname.reverse()\n",
    "print(secondname)\n"
   ]
  },
  {
   "cell_type": "code",
   "execution_count": null,
   "id": "c6b1f6cd",
   "metadata": {},
   "outputs": [],
   "source": [
    "from functools import reduce\n",
    "\n",
    "li = [5, 8, 10, 20, 50, 100]  #multiply,substract,divide\n",
    "#print(sum(li))\n",
    "\n",
    "sum = reduce((lambda x,y:x+y),li)\n",
    "\n",
    "print(sum)\n",
    "\n",
    "animals = ['dog','cat','parrot','rabbit']\n",
    "\n"
   ]
  },
  {
   "cell_type": "code",
   "execution_count": null,
   "id": "006ba7b8",
   "metadata": {},
   "outputs": [],
   "source": [
    "import functools\n",
    "\n",
    "lis = [1,3,5,6,2,225]\n",
    "\n",
    "print(\"The maximum element of the list is : \", end=\"\")\n",
    "\n",
    "print(functools.reduce(lambda a, b : a if a > b else b , lis))\n",
    "\n",
    "\n",
    "\n"
   ]
  },
  {
   "cell_type": "code",
   "execution_count": null,
   "id": "dd9df2d9",
   "metadata": {},
   "outputs": [],
   "source": [
    "result = lambda x : f\"{x} is even\" if x%2==0 else f\"{x} is odd\"\n",
    "\n",
    "result(25)"
   ]
  },
  {
   "cell_type": "code",
   "execution_count": null,
   "id": "d4a40599",
   "metadata": {},
   "outputs": [],
   "source": [
    "result = lambda x,y : f\"{x} is smaller than {y}\"\\\n",
    "if x < y else (f\"{x} is greater than {y}\" if x>y \\\n",
    "              else f\"{x} is equal to {y}\")\n",
    "\n",
    "print(result(24,24))\n"
   ]
  },
  {
   "cell_type": "code",
   "execution_count": null,
   "id": "7532d20c",
   "metadata": {},
   "outputs": [],
   "source": [
    "l1 = [4, 2, 13, 21, 5]\n",
    "'''  \n",
    "l2 = []\n",
    "\n",
    "for i in l1:\n",
    "    \n",
    "    temp = lambda i: i**2\n",
    "    l2.append(temp(i))\n",
    "'''\n",
    "l2 = list(map(lambda x:x**2,l1))\n",
    "\n",
    "#print(l2)\n",
    "print(l2)\n"
   ]
  },
  {
   "cell_type": "code",
   "execution_count": null,
   "id": "65c8b2bb",
   "metadata": {},
   "outputs": [],
   "source": [
    "l1 = [ 21,35,56,85]\n",
    "l3 = list(map(lambda v : v ** 2 ,l1))\n",
    "print(l3)"
   ]
  },
  {
   "cell_type": "code",
   "execution_count": null,
   "id": "637068d2",
   "metadata": {},
   "outputs": [],
   "source": [
    "l4 = [4, 2, 13, 21, 5] \n",
    "\n",
    "l5 = list(map(lambda x : x ** 2 , filter(lambda u : u % 2==0, l4)))\n",
    "print(l5)"
   ]
  },
  {
   "cell_type": "code",
   "execution_count": null,
   "id": "0d2c761e",
   "metadata": {},
   "outputs": [],
   "source": [
    "x1 = (lambda x, y, z: (x+y) if (z == 0) else (x * y))(1,2,3)\n",
    "\n",
    "print(x1)\n",
    "\n",
    "x2 = (lambda x ,y ,z : (x + y)* z)(1,2,3)\n",
    "print(x2)"
   ]
  },
  {
   "cell_type": "code",
   "execution_count": null,
   "id": "01e5cad6",
   "metadata": {},
   "outputs": [],
   "source": [
    "add1 = lambda x,y : x+ y\n",
    "print(type(add1))\n",
    "x1 = add1(4,7)\n",
    "print(x1)\n",
    "\n",
    "x2 =sum(12,35)\n",
    "print(x2)\n",
    "\n"
   ]
  },
  {
   "cell_type": "code",
   "execution_count": null,
   "id": "0b2546b8",
   "metadata": {},
   "outputs": [],
   "source": [
    "def Key(x):\n",
    "    return x%2\n",
    "\n",
    "num  = [0, 1, 2, 3, 4, 5, 6,77, 8, 9]\n",
    "\n",
    "sort = sorted(num,key = Key)\n",
    "print(sort)"
   ]
  },
  {
   "cell_type": "code",
   "execution_count": null,
   "id": "7bbdcdfd",
   "metadata": {},
   "outputs": [],
   "source": [
    "num  = [0, 1, 2, 3, 4, 5, 6, 7, 8, 9]\n",
    "\n",
    "sort_lambda = sorted(num , key =lambda x : x%2)\n",
    "print(sort_lambda)"
   ]
  },
  {
   "cell_type": "code",
   "execution_count": null,
   "id": "ca07aa26",
   "metadata": {},
   "outputs": [],
   "source": [
    "num  = [0, 1, 2, 3, 4, 5, 6, 7, 8, 9]\n",
    "\n",
    "square = map(lambda x:x ** 2 ,num)\n",
    "print(list(square))\n",
    "\n",
    "even = filter(lambda x: True if (x%2==0) else False,num)\n",
    "\n",
    "print(list(even))"
   ]
  },
  {
   "cell_type": "code",
   "execution_count": null,
   "id": "ec199e73",
   "metadata": {},
   "outputs": [],
   "source": [
    "def fun(x,y,z):\n",
    "    return x*y+z\n",
    "\n",
    "a=1\n",
    "b=2\n",
    "c=3\n",
    "\n",
    "d=fun(a,b,c)\n",
    "\n",
    "print(d)"
   ]
  },
  {
   "cell_type": "code",
   "execution_count": null,
   "id": "1cba911c",
   "metadata": {
    "scrolled": true
   },
   "outputs": [],
   "source": [
    "d = (lambda x, y,z : x*y*z)(1,2,3)  #also you can 2*z,3*x,\n",
    "\n",
    "print(d)"
   ]
  },
  {
   "cell_type": "code",
   "execution_count": null,
   "id": "4a1a32af",
   "metadata": {},
   "outputs": [],
   "source": [
    "num = [0,1,2,3,4,5,6,7,8]\n",
    "\n",
    "mapped = map(lambda x:x*x ,num)\n",
    "\n",
    "filtered = list(filter( lambda x:x % 2 == 1,num))\n",
    "print(list(mapped))\n",
    "print(list(filtered))\n"
   ]
  },
  {
   "cell_type": "code",
   "execution_count": null,
   "id": "f914dfa5",
   "metadata": {},
   "outputs": [],
   "source": [
    "my_list = [12, 65, 54, 39, 102, 339, 221, 50, 70, ]  #reduce\n",
    "\n",
    "result = list(filter(lambda x:(x%13 ==0),my_list))\n",
    "\n",
    "print(result)\n"
   ]
  },
  {
   "cell_type": "code",
   "execution_count": null,
   "id": "ade22b5a",
   "metadata": {},
   "outputs": [],
   "source": [
    "# map function \n",
    "\n",
    "def add(n):\n",
    "    return n+n\n",
    "\n",
    "number = (1,2,3,4)\n",
    "\n",
    "result = map(add,number)\n",
    "print(list(result))"
   ]
  },
  {
   "cell_type": "code",
   "execution_count": null,
   "id": "fc77d773",
   "metadata": {},
   "outputs": [],
   "source": [
    "numbers = (1,2,3,4,5,6,7)\n",
    "\n",
    "result = map(lambda x : x + x, numbers)\n",
    "\n",
    "print(list(result))"
   ]
  },
  {
   "cell_type": "code",
   "execution_count": null,
   "id": "8d44dafe",
   "metadata": {},
   "outputs": [],
   "source": [
    "n1 = [1, 2, 3]\n",
    "n2 = [4, 5, 6]\n",
    "\n",
    "\n",
    "result = map(lambda x,y:x+y ,n1,n2)\n",
    "print(list(result))"
   ]
  },
  {
   "cell_type": "code",
   "execution_count": null,
   "id": "b990154d",
   "metadata": {},
   "outputs": [],
   "source": [
    "l = ['sat','bat','cat','mat']\n",
    "\n",
    "test = list(map(list,l))\n",
    "print(test)"
   ]
  },
  {
   "cell_type": "code",
   "execution_count": null,
   "id": "04153e21",
   "metadata": {},
   "outputs": [],
   "source": [
    "def double_even(n):\n",
    "    if n%2 ==0:\n",
    "        return n*2\n",
    "    else :\n",
    "        return n\n",
    "    \n",
    "numbers = [1,2,3,5,6,8,9]\n",
    "\n",
    "result = list(map(double_even,numbers))\n",
    "print(result)"
   ]
  },
  {
   "cell_type": "code",
   "execution_count": null,
   "id": "e086e290",
   "metadata": {},
   "outputs": [],
   "source": [
    "def maxOnes(input):\n",
    "    \n",
    "    result = list(map(sum,input))\n",
    "    print(result.index(max(result)))   #print(max(result))\n",
    "    \n",
    "if __name__ == \"__main__\":\n",
    "    input = [[1,0,1,1],[1,1,1,0],[0,1,1,1],[2,20,10,10],[45822]]\n",
    "    maxOnes(input)"
   ]
  },
  {
   "cell_type": "code",
   "execution_count": null,
   "id": "95177948",
   "metadata": {},
   "outputs": [],
   "source": [
    "# using reduce\n",
    "import functools\n",
    "lis = [1,3,5,6,2,8]\n",
    "#sum of all numbers\n",
    "print(functools.reduce(lambda a,b: a+b,lis))\n",
    "\n",
    "#max of all numbers\n",
    "print(functools.reduce(lambda a,b : a if a > b else b, lis))\n"
   ]
  },
  {
   "cell_type": "code",
   "execution_count": null,
   "id": "e1290886",
   "metadata": {},
   "outputs": [],
   "source": [
    "import operator\n",
    "lis = [1, 3, 5, 6, 2]\n",
    "\n",
    "#addition using oparator\n",
    "print(functools.reduce(operator.add,lis))\n",
    "\n",
    "#usinn operatotor to multply\n",
    "print(functools.reduce(operator.mul,lis))\n",
    "\n",
    "# adding string\n",
    "\n",
    "print(functools.reduce(operator.add,([\"geeks\",\"for\",\"geeks\"])))"
   ]
  },
  {
   "cell_type": "code",
   "execution_count": null,
   "id": "d8708b7a",
   "metadata": {},
   "outputs": [],
   "source": [
    "import itertools\n",
    "import functools\n",
    "\n",
    "lis = [1, 3, 5, 6, 2]\n",
    "\n",
    "#summation using accumulate\n",
    "\n",
    "print(list(itertools.accumulate(lis,lambda x,y:x+y)))\n",
    "\n",
    "#summation using reduce\n",
    "\n",
    "print(functools.reduce(lambda x,y:x+y,lis))"
   ]
  },
  {
   "cell_type": "code",
   "execution_count": null,
   "id": "edca0a37",
   "metadata": {},
   "outputs": [],
   "source": [
    "#filter\n",
    "\n",
    "\n",
    "def fun(variable):\n",
    "    letters = ['a', 'e', 'i', 'o', 'u']\n",
    "    if (variable in letters):\n",
    "        return True\n",
    "    \n",
    "    else :\n",
    "        return False\n",
    "    \n",
    "sequence = ['g','e','e','j','k','s','p','r']\n",
    "\n",
    "filtered = filter(fun,sequence)\n",
    "#print(list(filtered))\n",
    "\n",
    "print('the filtered letters are:')\n",
    "\n",
    "for s in filtered:\n",
    "    print(s)"
   ]
  },
  {
   "cell_type": "code",
   "execution_count": null,
   "id": "e8baeebb",
   "metadata": {},
   "outputs": [],
   "source": [
    "seq = [0,13,52,25,3,56,5]\n",
    "\n",
    "result = filter(lambda x: x%2 !=0 ,seq)\n",
    "print(list(result))\n",
    "\n",
    "result1 = filter(lambda x: x % 2 == 0, seq)\n",
    "print(list(result1))\n",
    "\n",
    "\n"
   ]
  },
  {
   "cell_type": "code",
   "execution_count": null,
   "id": "cc08bc29",
   "metadata": {},
   "outputs": [],
   "source": [
    "def is_mul_of_3(num):\n",
    "    return num%3 == 0\n",
    "\n",
    "numbers = [1, 2, 3, 4, 5, 6, 7, 8, 9, 10]\n",
    "\n",
    "result = list(filter(lambda x: is_mul_of_3(x),numbers))\n",
    "\n",
    "print(result)"
   ]
  },
  {
   "cell_type": "code",
   "execution_count": null,
   "id": "fbba347b",
   "metadata": {},
   "outputs": [],
   "source": [
    "x = lambda a:a+10\n",
    "print(x(5))"
   ]
  },
  {
   "cell_type": "code",
   "execution_count": null,
   "id": "2e039fce",
   "metadata": {},
   "outputs": [],
   "source": [
    "x = lambda a,b : a * b\n",
    "print(x(5,6))"
   ]
  },
  {
   "cell_type": "code",
   "execution_count": null,
   "id": "0ab68905",
   "metadata": {},
   "outputs": [],
   "source": [
    "#list compression\n",
    "\n",
    "fruits = [\"apple\",\"banana\",\"cherry\",\"kiwi\",\"mango\"]\n",
    "\n",
    "newlist = []\n",
    "\n",
    "for x in fruits:\n",
    "    if \"a\" in x:\n",
    "        newlist.append(x)\n",
    "        \n",
    "print(newlist)\n"
   ]
  },
  {
   "cell_type": "code",
   "execution_count": null,
   "id": "71340d4b",
   "metadata": {},
   "outputs": [],
   "source": [
    "fruits = [\"apple\",\"banana\",\"cherry\",\"kiwi\",\"mango\"]\n",
    "newlist = [x for x in fruits if \"a\" in x]  #aap,ap,lena ,ba,kiwi,cheery\n",
    "print(newlist)"
   ]
  },
  {
   "cell_type": "code",
   "execution_count": null,
   "id": "78dbb9a7",
   "metadata": {},
   "outputs": [],
   "source": [
    "newlist = [x for x in fruits if x != \"apple\"]\n",
    "print(newlist)"
   ]
  },
  {
   "cell_type": "code",
   "execution_count": null,
   "id": "0c054c44",
   "metadata": {},
   "outputs": [],
   "source": [
    "newlist =[x for x in fruits]\n",
    "print(newlist)"
   ]
  },
  {
   "cell_type": "code",
   "execution_count": null,
   "id": "cf6c3c2c",
   "metadata": {},
   "outputs": [],
   "source": [
    "newlist = [x for x in range(10) if x<5]\n",
    "print(newlist)"
   ]
  },
  {
   "cell_type": "code",
   "execution_count": null,
   "id": "de9c15ea",
   "metadata": {},
   "outputs": [],
   "source": [
    "newlist = [x.upper() for x in fruits]\n",
    "print(newlist)"
   ]
  },
  {
   "cell_type": "code",
   "execution_count": null,
   "id": "647988c9",
   "metadata": {},
   "outputs": [],
   "source": [
    "newlist = [\"hello\" for x in fruits]\n",
    "print(newlist)"
   ]
  },
  {
   "cell_type": "code",
   "execution_count": null,
   "id": "3a4a7e03",
   "metadata": {},
   "outputs": [],
   "source": [
    "list1 = [x if x!=\"banana\" else \"orange\" for x in fruits]\n",
    "print(list1)"
   ]
  },
  {
   "cell_type": "code",
   "execution_count": null,
   "id": "5a4bcf86",
   "metadata": {},
   "outputs": [],
   "source": [
    "list1 = [x if x==\"banana\" else \"orange\" for x in fruits]\n",
    "print(list1)"
   ]
  },
  {
   "cell_type": "code",
   "execution_count": null,
   "id": "981285f7",
   "metadata": {},
   "outputs": [],
   "source": [
    "list6 =[]\n",
    "\n",
    "for i in range(2,51,2):\n",
    "    list6.append(i)\n",
    "    \n",
    "print(list6)\n",
    "print(sum(list6))\n",
    "\n",
    "list7 = [j for j in range(1,101,2)]\n",
    "print(list7)\n",
    "\n",
    "list8=[i+j for i in range(1,10) for j in range (1,10) if i == j ]\n",
    "print(list8)\n",
    "\n"
   ]
  },
  {
   "cell_type": "code",
   "execution_count": null,
   "id": "2dae26b9",
   "metadata": {},
   "outputs": [],
   "source": [
    "list1 = [1,23,54,66,44,55,22,2]\n",
    "list2 = [i for i in list1 if i%2==0]\n",
    "print(list2)\n",
    "print(sum(list2))"
   ]
  },
  {
   "cell_type": "code",
   "execution_count": null,
   "id": "bec65bf6",
   "metadata": {},
   "outputs": [],
   "source": [
    "#dictionary compression\n",
    "\n",
    "my_dict = {i : i**3 for i in range(1,10) if i%2==1}div\n",
    "print(my_dict)"
   ]
  },
  {
   "cell_type": "code",
   "execution_count": null,
   "id": "f005433f",
   "metadata": {},
   "outputs": [],
   "source": [
    "mylist = [i for i in range(1,20) if i%2==1]\n",
    "print(mylist)\n",
    "print(sum(mylist))"
   ]
  },
  {
   "cell_type": "code",
   "execution_count": null,
   "id": "51750a5d",
   "metadata": {},
   "outputs": [],
   "source": [
    "#set compression\n",
    "duplicates_list = [1, 2, 3, 4, 4, 5, 5, 5]\n",
    "myset = { i for i in duplicates_list if i%2==1}\n",
    "print(myset)"
   ]
  },
  {
   "cell_type": "code",
   "execution_count": null,
   "id": "90284626",
   "metadata": {},
   "outputs": [],
   "source": [
    "tuple1 = (i for i in range(1,10))\n",
    "#print(list(tuple1))\n",
    "for i in tuple1 :\n",
    "    print(i)\n",
    "print(tuple1)"
   ]
  },
  {
   "cell_type": "code",
   "execution_count": null,
   "id": "ebbca032",
   "metadata": {},
   "outputs": [],
   "source": [
    "#decorator:\n",
    "\n",
    "def function_one():\n",
    "    return \" it is a first function\"\n",
    "\n",
    "def function_two():\n",
    "    def function_three():\n",
    "        return \"it is a function three\"\n",
    "    return function_three\n",
    "\n",
    "def function_four():\n",
    "    string = \"this is function four\"\n",
    "    \n",
    "    def function_five():\n",
    "        return string+\" \"+\"and func five\"\n",
    "    \n",
    "    return function_five\n",
    "\n",
    "def convert_to_upper(function):\n",
    "    def inner_logic():\n",
    "        func = function()\n",
    "        updated_func_val = func.upper()\n",
    "        return updated_func_val\n",
    "    return inner_logic\n",
    "\n",
    "def split_the_string(function):\n",
    "    def inner_logic():\n",
    "        func = function()\n",
    "        updated_func_val = func.split()\n",
    "        return updated_func_val\n",
    "    \n",
    "    return inner_logic\n",
    "\n",
    "@split_the_string\n",
    "@convert_to_upper\n",
    "\n",
    "def hello_world():\n",
    "    return \"hello to the world\"\n",
    "\n",
    "\n",
    "def main():\n",
    "    \n",
    "    f1 = function_one\n",
    "    print(f1())\n",
    "    \n",
    "    f2 = function_two()\n",
    "    print(f2())\n",
    "    \n",
    "    f4 = function_four()\n",
    "    print(f4())\n",
    "    \n",
    "    print(hello_world())\n",
    "    \n",
    "    \n",
    "if __name__ == \"__main__\":\n",
    "    main()"
   ]
  },
  {
   "cell_type": "code",
   "execution_count": null,
   "id": "34ba7eed",
   "metadata": {},
   "outputs": [],
   "source": [
    "def shout(text):\n",
    "    return text.upper()\n",
    "print(shout(\"hello\"))\n",
    "yell = shout\n",
    "\n",
    "print(yell(\"aman\"))"
   ]
  },
  {
   "cell_type": "code",
   "execution_count": null,
   "id": "8dc4d3ca",
   "metadata": {},
   "outputs": [],
   "source": [
    "def shout(text):\n",
    "    return text.upper()\n",
    "\n",
    "def lcase(text):\n",
    "    return text.lower()\n",
    "\n",
    "def greet(func):\n",
    "    greeting = func(\" i am santosh belge i am from nanded\")\n",
    "    \n",
    "    print(greeting)\n",
    "    \n",
    "greet(shout)\n",
    "greet(lcase)"
   ]
  },
  {
   "cell_type": "code",
   "execution_count": null,
   "id": "eb88be7e",
   "metadata": {},
   "outputs": [],
   "source": [
    "def createadder(x):\n",
    "    def adder(y):\n",
    "        return x+y\n",
    "    return adder\n",
    "\n",
    "#add_15 = createadder(15)\n",
    "#print(add_15(10))\n",
    "print(createadder(15)(10))"
   ]
  },
  {
   "cell_type": "code",
   "execution_count": null,
   "id": "204d534b",
   "metadata": {},
   "outputs": [],
   "source": [
    "def hello_decorator(func):\n",
    "    \n",
    "    \n",
    "    def inner_function():\n",
    "        print (\"this is the outer function\")\n",
    "        \n",
    "        func()\n",
    "        print(\"this is the inner function\")\n",
    "    \n",
    "    \n",
    "    return inner_function\n",
    "\n",
    "def function_to_beused():\n",
    "    print(\"it is a main function\")\n",
    "    \n",
    "function_to_beused = hello_decorator(function_to_beused)\n",
    "\n",
    "function_to_beused()"
   ]
  },
  {
   "cell_type": "code",
   "execution_count": null,
   "id": "5dfbd83c",
   "metadata": {},
   "outputs": [],
   "source": [
    "def decor1(func):\n",
    "    def inner():\n",
    "        x = func()\n",
    "        return x * x\n",
    "    return inner\n",
    "\n",
    "def decor2(func):\n",
    "    def inner():\n",
    "        x =func()\n",
    "        return 2*x\n",
    "    return inner\n",
    "\n",
    "@decor1\n",
    "@decor2\n",
    "def num():\n",
    "    return 10\n",
    "\n",
    "@decor2\n",
    "@decor1\n",
    "def num2():\n",
    "    return 10\n",
    "\n",
    "print(num())\n",
    "print(num2())"
   ]
  },
  {
   "cell_type": "code",
   "execution_count": null,
   "id": "7de4d207",
   "metadata": {},
   "outputs": [],
   "source": [
    "#generator\n",
    "def inf_seq():\n",
    "    num = 0\n",
    "    while True:\n",
    "        if num % 47 ==0:\n",
    "            print(\"inside if :\",num)\n",
    "            i = (yield num)\n",
    "            if i is not None:\n",
    "                print(\"i : \",i)\n",
    "                num = i\n",
    "            else :\n",
    "                print(\"i:\",None)\n",
    "                \n",
    "        num = num + 1\n",
    "        \n",
    "def finite_seq():\n",
    "    num = 1\n",
    "    while True:\n",
    "        return num\n",
    "    num = num+1\n",
    "    \n",
    "def yield_example():\n",
    "    str1 = \"this is the first yield\"\n",
    "    yield str1\n",
    "    \n",
    "    str2 = \"this is the second yield\"\n",
    "    yield str2\n",
    "    \n",
    "    str3 = \"This is the third yield\"\n",
    "    yield str3\n",
    "    \n",
    "def main():\n",
    "    my_lst = [i for i in range(1, 6)]\n",
    "    print(my_lst)\n",
    "\n",
    "    \n",
    "    inf_obj = inf_seq()\n",
    "    num = inf_obj.send(None)\n",
    "    while True:\n",
    "        print(\"The num divisible by 47 is: \", num)\n",
    "        num = inf_obj.send(num * 10)\n",
    "        print(\"num: \", num)\n",
    "        if num > 10000:\n",
    "            inf_obj.close()\n",
    "            break\n",
    "\n",
    "\n",
    "if __name__ == \"__main__\":\n",
    "    main()\n",
    "    \n",
    "            \n",
    "            \n",
    "            "
   ]
  },
  {
   "cell_type": "code",
   "execution_count": null,
   "id": "606499b3",
   "metadata": {},
   "outputs": [],
   "source": [
    "#generator\n",
    "def simplegeneratorfun():\n",
    "    yield 1\n",
    "    yield 2 \n",
    "    yield 3\n",
    "    \n",
    "for value in simplegeneratorfun():\n",
    "    print(value)\n",
    "    "
   ]
  },
  {
   "cell_type": "code",
   "execution_count": null,
   "id": "8a21fa58",
   "metadata": {},
   "outputs": [],
   "source": [
    "#generator\n",
    "def simplegeneratorfun():\n",
    "    yield 1\n",
    "    yield 2 \n",
    "    yield 3\n",
    "    \n",
    "for value in simplegeneratorfun():\n",
    "    print(value)\n",
    "    "
   ]
  },
  {
   "cell_type": "code",
   "execution_count": null,
   "id": "6b60bfc6",
   "metadata": {},
   "outputs": [],
   "source": [
    "def simplegeneratorfun():\n",
    "    yield 1\n",
    "    yield 2 \n",
    "    yield 3\n",
    "    \n",
    "x = simplegeneratorfun()\n",
    "print(next(x))\n",
    "print(next(x))\n",
    "print(next(x))\n"
   ]
  },
  {
   "cell_type": "code",
   "execution_count": null,
   "id": "7629b629",
   "metadata": {},
   "outputs": [],
   "source": [
    "def primefunction():\n",
    "    prime = None\n",
    "    num = 1\n",
    "    while True:\n",
    "        \n",
    "        num = num + 1\n",
    "         \n",
    "        \n",
    "        for i in range(2,num):\n",
    "            if(num % i ) == 0:\n",
    "                prime = False\n",
    "                break\n",
    "            else:\n",
    "                prime = True\n",
    "        if prime:\n",
    "        \n",
    "            yield num\n",
    "        \n",
    "def main():\n",
    "    \n",
    "    prime = primefunction()\n",
    "    \n",
    "    for i in prime:\n",
    "        \n",
    "        print(i)\n",
    "        if i > 65:\n",
    "            break\n",
    "            \n",
    "if __name__ == \"__main__\":\n",
    "    main()\n",
    "        "
   ]
  },
  {
   "cell_type": "code",
   "execution_count": null,
   "id": "24dc4a1d",
   "metadata": {},
   "outputs": [],
   "source": [
    "def stopiteration():\n",
    "    num = 5 \n",
    "    for i in range(1,num):\n",
    "        yield i\n",
    "        \n",
    "def main():\n",
    "    \n",
    "    f = stopiteration()\n",
    "    print(next(f))\n",
    "    \n",
    "    print(next(f))\n",
    "if __name__ == \"__main__\":\n",
    "    main()"
   ]
  },
  {
   "cell_type": "code",
   "execution_count": null,
   "id": "814f1a19",
   "metadata": {},
   "outputs": [],
   "source": [
    "def factorial():\n",
    "    num = 0\n",
    "    value = None\n",
    "    response = None\n",
    "    \n",
    "    while True:\n",
    "        factorial = 1\n",
    "        if response :\n",
    "            value = int(response)\n",
    "        else:\n",
    "            num = num +1 \n",
    "            value = num\n",
    "        for i in range (1,value+1):\n",
    "            factorial = factorial * i\n",
    "        response = yield factorial\n",
    "        \n",
    "def main():\n",
    "    \n",
    "    fact = factorial()\n",
    "    \n",
    "    print(next(fact))\n",
    "    print(next(fact))\n",
    "    print(next(fact))\n",
    "    print(fact.send(5))\n",
    "    \n",
    "    \n",
    "    \n",
    "    \n",
    "if __name__ ==\"__main__\":\n",
    "    main()"
   ]
  },
  {
   "cell_type": "code",
   "execution_count": null,
   "id": "699c57f8",
   "metadata": {},
   "outputs": [],
   "source": [
    "def range_func():\n",
    "    r = range(1,10)\n",
    "    return r\n",
    "\n",
    "\n",
    "def main():\n",
    "    \n",
    "    r = range_func()\n",
    "    \n",
    "    iterator = iter(r)\n",
    "    \n",
    "    print(next(iterator))\n",
    "    \n",
    "    print(next(iterator))\n",
    "    print(next(iterator))\n",
    "    print(next(iterator))\n",
    "\n",
    "    \n",
    "    \n",
    "    \n",
    "if __name__ ==\"__main__\":\n",
    "    main()"
   ]
  },
  {
   "cell_type": "code",
   "execution_count": null,
   "id": "c5649146",
   "metadata": {},
   "outputs": [],
   "source": [
    "def dict_func():\n",
    "    dictionary = {'UserName': 'abc', 'UserName':'abc','Password':'a@123'}\n",
    "    return dictionary\n",
    "  \n",
    "def main():\n",
    "    d = dict_func()\n",
    "    \n",
    "    iterator = iter(d.items())\n",
    "    \n",
    "    print(next(iterator))\n",
    "    \n",
    "    print(next(iterator))\n",
    "\n",
    "if __name__ == \"__main__\":\n",
    "    main()                         #dictionary is not taking duplicates"
   ]
  },
  {
   "cell_type": "code",
   "execution_count": null,
   "id": "c0c05041",
   "metadata": {},
   "outputs": [],
   "source": [
    "def zip_func():\n",
    "    z = zip(['a','b','c','d','e'],[1,2,3,4,5])\n",
    "    \n",
    "    return z\n",
    "\n",
    "def main():\n",
    "    \n",
    "    z = zip_func()\n",
    "    \n",
    "    print(next(z))\n",
    "    \n",
    "    print(next(z))\n",
    "    \n",
    "    print(next(z))\n",
    "    \n",
    "if __name__ == \"__main__\":\n",
    "    main()"
   ]
  },
  {
   "cell_type": "code",
   "execution_count": null,
   "id": "27fc7f08",
   "metadata": {},
   "outputs": [],
   "source": [
    "#try,except,else and finally \n",
    "\n",
    "a = 5\n",
    "b = 0\n",
    "print(a/b)\n",
    "\n"
   ]
  },
  {
   "cell_type": "code",
   "execution_count": null,
   "id": "29e3a8bc",
   "metadata": {},
   "outputs": [],
   "source": [
    "def divide(x,y):\n",
    "    try:\n",
    "        \n",
    "        result = x // y\n",
    "        print(\"yeah ! your answer is :\" ,result)\n",
    "        \n",
    "    \n",
    "    except ZeroDivisionError:\n",
    "            print(\"sorry! you are dividing by zero\")\n",
    "            \n",
    "divide (3,2)\n",
    "\n",
    "divide(3,0)"
   ]
  },
  {
   "cell_type": "code",
   "execution_count": null,
   "id": "3d9ce4d8",
   "metadata": {},
   "outputs": [],
   "source": [
    "def divide(x,y):\n",
    "    try :\n",
    "        result = x // y\n",
    "        print(result)\n",
    "        \n",
    "    except ZeroDivisionError:\n",
    "        print(\" sorry! you are dividing by zero:\")\n",
    "        \n",
    "    else:\n",
    "        print(\"yeah  ,your answer is: \",result)\n",
    "        \n",
    "    finally:\n",
    "        print(\"this is always executed\")\n",
    "        \n",
    "divide(2,3)\n",
    "divide(0,2)\n",
    "divide(11,2)\n",
    "divide(2,0)"
   ]
  },
  {
   "cell_type": "code",
   "execution_count": null,
   "id": "cb717bc2",
   "metadata": {},
   "outputs": [],
   "source": [
    "import marshal\n",
    "\n",
    "data = {\"name\":\"santosh\",\"roll.no\":18,\"age\":25}\n",
    "\n",
    "bytes =marshal.dumps(data)\n",
    "print('after serilization:',bytes)\n",
    "\n",
    "new_data = marshal.loads(bytes)\n",
    "print(\"after deserilization:\",new_data)"
   ]
  },
  {
   "cell_type": "code",
   "execution_count": null,
   "id": "d93de17b",
   "metadata": {},
   "outputs": [],
   "source": [
    "'''import pickle\n",
    "\n",
    "data = {'st_name':'sunny','st_id':'9607','st_add':'nasik'}\n",
    "\n",
    "with open ('data.pickele','wb') as f1:\n",
    "    \n",
    "    pickle.dump(data,f1)\n",
    "    print('pickling completed...')\n",
    "    \n",
    "with open ('data.pickle','rb') as f2:\n",
    "    print(\"unpickling the data\")\n",
    "    \n",
    "    data = pickle.load(f2)\n",
    "    print(data)'''"
   ]
  },
  {
   "cell_type": "code",
   "execution_count": null,
   "id": "44a6b1c3",
   "metadata": {},
   "outputs": [],
   "source": [
    "#deserilization\n",
    "import json\n",
    "\n",
    "students = '{\"id\":\"9607\", \"name\": \"Sunny\", \"department\":\"Computer\"}'\n",
    "\n",
    "student_dict = json.loads(students)\n",
    "print(student_dict)\n",
    "\n",
    "print()\n",
    "\n",
    "print(student_dict['name'])\n",
    "\n",
    "print('Deserilization Completed.')\n",
    "\n",
    "\n"
   ]
  },
  {
   "cell_type": "code",
   "execution_count": null,
   "id": "565e42ba",
   "metadata": {},
   "outputs": [],
   "source": [
    "import json\n",
    "country = json.loads(countries_data)\n",
    "print(country)"
   ]
  },
  {
   "cell_type": "code",
   "execution_count": null,
   "id": "fd91bd54",
   "metadata": {},
   "outputs": [],
   "source": [
    "#seriliazation\n",
    "import json \n",
    "\n",
    "data = {\n",
    "  \"id\": \"877\",\n",
    "  \"name\": \"Mayur\",\n",
    "  \"department\": \"Comp\"\n",
    "}\n",
    "\n",
    "json_object = json.dumps(data)\n",
    "\n",
    "print(json_object)\n",
    "\n",
    "print('serilization completed')\n"
   ]
  },
  {
   "cell_type": "code",
   "execution_count": null,
   "id": "d2ea8de8",
   "metadata": {},
   "outputs": [],
   "source": [
    "# Python program to illustrate\n",
    "# pickle.dump()\n",
    "import pickle\n",
    "import io\n",
    " \n",
    "class SimpleObject(object):\n",
    " \n",
    "    def __init__(self, name):\n",
    "        self.name = name\n",
    "        l = list(name)\n",
    "        l.reverse()\n",
    "        self.name_backwards = ''.join(l)\n",
    "        return\n",
    " \n",
    "data = []\n",
    "data.append(SimpleObject('pickle'))\n",
    "data.append(SimpleObject('cPickle'))\n",
    "data.append(SimpleObject('last'))\n",
    " \n",
    "# Simulate a file with StringIO\n",
    "out_s = io.StringIO()\n",
    " \n",
    "# Write to the stream\n",
    "for o in data:\n",
    "    print ('WRITING: %s (%s)' % (o.name, o.name_backwards))\n",
    "    pickle.dump(o, out_s)\n",
    "    out_s.flush()\n",
    "\n"
   ]
  },
  {
   "cell_type": "code",
   "execution_count": null,
   "id": "ed04ad30",
   "metadata": {},
   "outputs": [],
   "source": [
    "#pickle dump\n",
    "import pickle\n",
    "\n",
    "data = [{'a':'A','b':'B','c':30}]\n",
    "\n",
    "data_string = pickle.dumps(data)\n",
    "print(\"pickle :\",data_string)"
   ]
  },
  {
   "cell_type": "code",
   "execution_count": null,
   "id": "d5895e47",
   "metadata": {},
   "outputs": [],
   "source": [
    "#pickle.load()\n",
    "import pickle\n",
    "import io\n",
    " \n",
    "class SimpleObject(object):\n",
    " \n",
    "    def __init__(self, name):\n",
    "        self.name = name\n",
    "        l = list(name)\n",
    "        l.reverse()\n",
    "        self.name_backwards = ''.join(l)\n",
    "        return\n",
    " \n",
    "data = []\n",
    "data.append(SimpleObject('pickle'))\n",
    "data.append(SimpleObject('cPickle'))\n",
    "data.append(SimpleObject('last'))\n",
    " \n",
    "# Simulate a file with StringIO\n",
    "out_s = io.StringIO()\n",
    " \n",
    " \n",
    "# Write to the stream\n",
    "for o in data:\n",
    "    print ('WRITING: %s (%s)' % (o.name, o.name_backwards))\n",
    "    pickle.dump(o, out_s)\n",
    "    out_s.flush()\n",
    "     \n",
    "     \n",
    "# Set up a read-able stream\n",
    "in_s = io.StringIO(out_s.getvalue())\n",
    " \n",
    "# Read the data\n",
    "while True:\n",
    "    try:\n",
    "        o = pickle.load(in_s)\n",
    "    except EOFError:\n",
    "        break\n",
    "    else:\n",
    "        print ('READ: %s (%s)' % (o.name, o.name_backwards))"
   ]
  },
  {
   "cell_type": "code",
   "execution_count": null,
   "id": "a8af2494",
   "metadata": {},
   "outputs": [],
   "source": [
    "import pickle\n",
    "import pprint\n",
    "\n",
    "data1 = [ { 'a':'A', 'b':2, 'c':3.0 } ]\n",
    "\n",
    "print('BEFORE:',)\n",
    "pprint.pprint(data1)\n",
    "\n",
    "data1_string = pickle.dumps(data1)\n",
    "\n",
    "data2 = pickle.loads(data1_string)\n",
    "print('AFTER:',)\n",
    "pprint.pprint(data2)\n",
    "\n",
    "print('SAME:',(data1 is data2))\n",
    "\n",
    "print('EQUAL:',(data1 == data2))"
   ]
  },
  {
   "cell_type": "code",
   "execution_count": null,
   "id": "6b3f83cc",
   "metadata": {},
   "outputs": [],
   "source": []
  }
 ],
 "metadata": {
  "kernelspec": {
   "display_name": "Python 3 (ipykernel)",
   "language": "python",
   "name": "python3"
  },
  "language_info": {
   "codemirror_mode": {
    "name": "ipython",
    "version": 3
   },
   "file_extension": ".py",
   "mimetype": "text/x-python",
   "name": "python",
   "nbconvert_exporter": "python",
   "pygments_lexer": "ipython3",
   "version": "3.9.13"
  }
 },
 "nbformat": 4,
 "nbformat_minor": 5
}
